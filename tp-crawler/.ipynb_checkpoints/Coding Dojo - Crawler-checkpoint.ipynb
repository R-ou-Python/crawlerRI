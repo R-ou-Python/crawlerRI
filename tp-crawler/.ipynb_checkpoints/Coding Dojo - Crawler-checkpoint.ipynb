{
 "cells": [
  {
   "cell_type": "code",
   "execution_count": null,
   "metadata": {},
   "outputs": [],
   "source": [
    "# ☯ Coding Dojo ☯"
   ]
  },
  {
   "cell_type": "markdown",
   "metadata": {},
   "source": [
    "<img style=\"float:left\" src=\"imgs/vamos_coletar.png\">\n",
    "## Regras\n",
    "\n",
    "Ponto de participação, poderá perdido se:\n",
    "\n",
    "    - Aluno atrasado (ver política de atraso na especificação)\n",
    "    - Recusar participação como piloto/copiloto\n",
    "        - Ou não querer sair do computador, quando solicitado :-)\n",
    "    - Demorar para sair quando solicitado\n",
    "    - Parar de participar por:\n",
    "        - Uso de outro computador\n",
    "        - Uso de celular\n",
    "        - Usar a internet\n",
    "        - Conversa\n"
   ]
  },
  {
   "cell_type": "markdown",
   "metadata": {},
   "source": [
    "Antes de entregar, certifique-se que tenha executado todos os comandos/códigos deste Jupyter. É obrigatório que todas as saídas tenham sido apresentadas. Perda de 3 pontos caso não tenham feito isso."
   ]
  },
  {
   "cell_type": "markdown",
   "metadata": {},
   "source": [
    "# Dependencias"
   ]
  },
  {
   "cell_type": "markdown",
   "metadata": {},
   "source": [
    "Se necessário, instale o python3 e o pip3 abaixo usando `sudo apt-get install python3 python3-pip`.  Execute abaixo para instalar o [BeautifulSoup](https://www.crummy.com/software/BeautifulSoup/). Qualquer linha de comando/código como a de baixo, você pode executá-la a selecionando e pressionando `ctrl+enter` ❣️."
   ]
  },
  {
   "cell_type": "code",
   "execution_count": 1,
   "metadata": {},
   "outputs": [
    {
     "name": "stdout",
     "output_type": "stream",
     "text": [
      "Requirement already satisfied: bs4 in /home/natha/.local/lib/python3.8/site-packages (0.0.1)\n",
      "Requirement already satisfied: beautifulsoup4 in /home/natha/.local/lib/python3.8/site-packages (from bs4) (4.9.1)\n",
      "Requirement already satisfied: soupsieve>1.2 in /home/natha/.local/lib/python3.8/site-packages (from beautifulsoup4->bs4) (2.0.1)\n"
     ]
    }
   ],
   "source": [
    "!pip3 install bs4"
   ]
  },
  {
   "cell_type": "markdown",
   "metadata": {},
   "source": [
    "Caso de comando não encontrado `pip3` use `pip`. "
   ]
  },
  {
   "cell_type": "markdown",
   "metadata": {},
   "source": [
    "# Coletor"
   ]
  },
  {
   "cell_type": "markdown",
   "metadata": {},
   "source": [
    "<img src=\"imgs/arquitetura_coletor.png\">"
   ]
  },
  {
   "cell_type": "markdown",
   "metadata": {},
   "source": [
    "Você deverá completar a implementação das três classes abaixo para fazer o coletor: `Domain`, `Scheduler` e `PageFetcher`. Conforme figura acima, o `Scheduler` é responsável por armazenar as filas de URLs a serem requisitadas; o PageFetcher serão *threads* responsáveis por fazer as requisições das URLs obtidas por meio do escalonador (instancia da classe `Scheduler`). A classe `Domain` armazena informações importantes sobre o servidor a serem usadas no momento do escalonamento das URLs."
   ]
  },
  {
   "cell_type": "markdown",
   "metadata": {},
   "source": [
    "## Classe `Domain`"
   ]
  },
  {
   "cell_type": "markdown",
   "metadata": {},
   "source": [
    "<figure style=\"text-align:center\">\n",
    "    <img src=\"imgs/estrutura_coletor.png\">\n",
    "    <caption>Fonte: Baeza-Yates e Ribeiro-Neto, 2011 </caption>\n",
    "</figure>"
   ]
  },
  {
   "cell_type": "markdown",
   "metadata": {},
   "source": [
    "Antes de começar a fazer o escalonador (classe `Scheduler`) devemos implementar a classe que representa os domínios. Conforme visto na figura acima, o escalonador possuirá diversas filas, uma para cada servidor.  Em nosso caso, o servidor será um domínio - que você irá implementar na classe `Domain` do arquivo `domain.py`. \n",
    "\n",
    "O escalonador percorrerá cada servidor e obterá o primeiro da fila do primeiro servidor acessível. O servidor é acessível obdecendo o limite de tempo entre requisições (em segundos, usando o atributo `int_time_limit_between_requests`). \n",
    "\n",
    "Nesta atividade você irá implementar a classe `Domain`, que já possui os seguintes atributos: \n",
    "\n",
    "- *int_time_limit_between_requests*: Limite entre requisições (int)\n",
    "- *nam_domain*: Nome do domínio (String)\n",
    "- *time_last_access*: [Objeto Datetime](https://docs.python.org/3/library/datetime.html#datetime-objects) informando da data/hora do último acesso \n",
    "\n",
    "O prefixo da variável sempre irá denotar o tipo da mesma."
   ]
  },
  {
   "cell_type": "markdown",
   "metadata": {},
   "source": [
    "**Atividade 1 - classe `Domain`**: Complete a classe `Domain` implementando os métodos/atributos calculados descritos a seguir. Logo após, execute o ❣️ teste unitário ❣️ para verificar se os métodos/atributos calculados foram implementados conforme esperado.\n",
    "\n",
    "- **accessed_now**: Método que modifica o último acesso com a data/hora atual usando um [objeto datetime](https://docs.python.org/3/library/datetime.html#datetime-objects)\n",
    "- **time_since_last_access**: Atributo calculado que retorna um [objeto TimeDelta](https://docs.python.org/3/library/datetime.html#timedelta-objects) com a diferença da data atual e a data do último acesso. Veja os exemplos de uso do TimeDelta na sua documentação\n",
    "- **is_accessible**: Método que verdadeiro se o domínio estiver acessível"
   ]
  },
  {
   "cell_type": "markdown",
   "metadata": {},
   "source": [
    "Os métodos `count_fetched_page` e `has_finished_crawl` já estão implementados. Execute o teste unitário a seguir. Veja que o comando abaixo executa o teste unitário presente no arquivo `crawler/scheduler_test.py`. Analise-o para entender como implementamos testes unitários."
   ]
  },
  {
   "cell_type": "code",
   "execution_count": 2,
   "metadata": {},
   "outputs": [
    {
     "name": "stdout",
     "output_type": "stream",
     "text": [
      "Verificando acesso a um dominio já requisitado (após espera)\n",
      "aguardando 10 segundos...\n",
      ".\n",
      "----------------------------------------------------------------------\n",
      "Ran 1 test in 10.010s\n",
      "\n",
      "OK\n"
     ]
    }
   ],
   "source": [
    "!python3 -m crawler.scheduler_test DomainTest.test_domain"
   ]
  },
  {
   "cell_type": "markdown",
   "metadata": {},
   "source": [
    "**Atividade 2 - métodos `__hash__` e `__eq__` da classe `Domain`**: A fila será implementada por um dicionario ordenado ([OrderedDict](https://docs.python.org/2/library/collections.html#collections.OrderedDict)) em que a chave será um objeto da classe domínio e o valor serão uma lista de URLs. Para que seja possível a busca do domínio, você deverá implementar os métodos `__hash__` e `__eq__` de forma similar ao seguinte exemplo: "
   ]
  },
  {
   "cell_type": "code",
   "execution_count": 2,
   "metadata": {},
   "outputs": [
    {
     "name": "stdout",
     "output_type": "stream",
     "text": [
      "True\n"
     ]
    }
   ],
   "source": [
    "from collections import OrderedDict\n",
    "class Xuxu():\n",
    "    def __str__(self):\n",
    "        return \"xuxuuu\"\n",
    "    \n",
    "    def __hash__(self):\n",
    "        return hash(\"xuxu\")\n",
    "    def __eq__(self, x):\n",
    "        return x == \"xuxu\"\n",
    "d = OrderedDict()\n",
    "d[Xuxu()] = 'A'\n",
    "print(\"xuxu\" in d)"
   ]
  },
  {
   "cell_type": "markdown",
   "metadata": {},
   "source": [
    "Em nosso caso, deve ser permitido fazer a busca no dicionario pelo nome do domínio ou pelo objeto, ou seja, após a implementação desta atividade, o seguinte código irá funcionar corretamente: "
   ]
  },
  {
   "cell_type": "code",
   "execution_count": 3,
   "metadata": {},
   "outputs": [
    {
     "name": "stdout",
     "output_type": "stream",
     "text": [
      "oi\n",
      "oi\n"
     ]
    }
   ],
   "source": [
    "from crawler.domain import Domain\n",
    "from collections import OrderedDict\n",
    "\n",
    "obj_domain = Domain(\"oi.com\",10)\n",
    "dic_x = OrderedDict()\n",
    "dic_x[obj_domain] = \"lala\"\n",
    "dic_x[\"oi.com\"] = \"oi\"\n",
    "\n",
    "#abaixo, em ambos os casos, será encontrado/impresso a string \"oi\"\n",
    "print(dic_x[\"oi.com\"])\n",
    "print(dic_x[obj_domain])"
   ]
  },
  {
   "cell_type": "markdown",
   "metadata": {},
   "source": [
    "Lembre-se que, em nosso caso, o parametro do método `__eq__` pode ser um objeto da classe `Domain` ou uma string representando o nome do domínio. Caso faça alguma modificação no código, você deverá reiniciar o kernel para que o efeito seja visto no código acima (para reiniciar, clique em Kernel->Restart). Isso ocorre que, uma vez dado import em um módulo, esse modulo não é alterado no Jupyter caso você faça uma modificação no código."
   ]
  },
  {
   "cell_type": "markdown",
   "metadata": {},
   "source": [
    "## Classe `Scheduler`"
   ]
  },
  {
   "cell_type": "markdown",
   "metadata": {},
   "source": [
    "Agora você irá implementar o escalonador. Essa classe será responsável por gerenciar as URLs. \n",
    "Para isso, será implementado as filas por servidores conforme apresentado na figura da seção anterior. \n",
    "Para isso, utilizaremos um OrderedDict em que as chaves são os servidores (objeto da classe `Domain`) e o valor será uma lista de tuplas com as URLs e sua profundidade. Com o objetivo de armazenar as URLs de forma estruturada, as mesmas **não serão** string, ao invés disso, serão objetos da classe `ParseResult` - essa classe é retornada do método [urlparse](https://docs.python.org/3/library/urllib.parse.html). Veja um exemplo abaixo.\n",
    "\n"
   ]
  },
  {
   "cell_type": "code",
   "execution_count": 3,
   "metadata": {},
   "outputs": [],
   "source": [
    "from crawler.domain import Domain\n",
    "from crawler.scheduler import Scheduler\n",
    "from urllib.parse import urlparse\n",
    "\n",
    "dict_filas_por_servidor = {Domain(\"www.globo.com\",10):[(urlparse(\"http://www.globo.com/esporte\"),1),\n",
    "                                                (urlparse(\"http://www.globo.com/noticia_um\"),2),\n",
    "                                                (urlparse(\"http://www.globo.com/noticia_dois\"),3),\n",
    "                                                (urlparse(\"http://www.globo.com/noticia_tres\"),3),\n",
    "                                                ],\n",
    "                            Domain(\"www.cnpq.br\",10):[(urlparse(\"http://www.cnpq.br/pesquisadores\"),1),\n",
    "                                               (urlparse(\"http://www.cnpq.br/bolsas\"),1)]\n",
    "                          }"
   ]
  },
  {
   "cell_type": "markdown",
   "metadata": {},
   "source": [
    "Assim, a classe `Scheduler`, no arquivo `scheduler.py` possui os seguintes atributos: \n",
    "\n",
    "- `str_usr_agent`: Nome do `User agent`. Usualmente, é o nome do navegador, em nosso caso,  será o nome do coletor (usualmente, terminado em `bot`)\n",
    "- `int_page_limit`: Número de páginas a serem coletadas\n",
    "- `int_depth_limit`: Profundidade máxima a ser coletada\n",
    "- `int_page_count`: Quantidade de página já coletada\n",
    "- `dic_url_per_domain`: Fila de URLs por domínio (explicado anteriormente)\n",
    "- `set_discovered_urls`: Conjunto de URLs descobertas, ou seja, que foi extraída em algum HTML e já adicionadas na fila - mesmo se já ela foi retirada da fila. A URL armazenada deve ser uma string.\n",
    "- `dic_robots_per_domain`: Dicionário armazenando, para cada domínio, o objeto representando as regras obtidas no `robots.txt`"
   ]
  },
  {
   "cell_type": "markdown",
   "metadata": {},
   "source": [
    "**Atividad 3 - Método `can_add_page`**: Esse método irá retornar verdadeiro caso seja possível adicionar a página `obj_url` (objeto da classe ParseResult) que foi coletada na profundidade `int_depth`. Para que seja possível adicionar na lista, esta pagina não deve ter sido descoberta e nem com a profundidade maior que o limite. Este método será testado por teste unitário apenas após a implementação da adição e obtenção das URLs."
   ]
  },
  {
   "cell_type": "markdown",
   "metadata": {},
   "source": [
    "**Atividade 4 método `add_new_page` - Adicionar nova página**:  Este método retorna falso caso não seja possível adicionar a página (por meio do método `can_add_page`) e verdadeiro, caso contrário. Caso seja possível, deve-se adicionar a url `obj_url` na fila `dic_url_per_domain`. Lembre-se da estrutura do dicionário `dic_url_per_domain`. Não esqueça de armazenar que esta URL já foi descoberta. Este método será testado por teste unitário apenas após a implementação da obtenção das URLs. Lembre-se de como trabalhar com [dicionários](https://daniel-hasan.github.io/cefet-web-grad/classes/python2/#mais-colecoes)"
   ]
  },
  {
   "cell_type": "markdown",
   "metadata": {},
   "source": [
    "**Atividade 5 método `get_next_url` - obtém a próxima URL da fila**: Este método retona uma tupla `url,profundade` da próxima URL a ser coletada por meio da fila `dic_url_per_domain` retirando este item da fila. Lembre-se que: \n",
    "    \n",
    "- Ele deverá retornar a primeira URL do primeiro servidor que estiver acessível. \n",
    "- Você deve indicar que o servidor foi acessado \n",
    "- Caso a fila deste servidor esteja vazia, elimine-o do dicionário\n",
    "- Caso não encontre a URL, [coloque a Thread para esperar](https://docs.python.org/2/library/time.html#time.sleep) e, logo após, procure novamente \n",
    "\n",
    "Logo após, você já pode executar o teste unitário para verificar se a obtenção e adição de URLs está correta. Caso haja algum problema, existem já alguns prints comentados no código, descomente-os para verificar se o fluxo está ocorrendo da forma correta. Você deverá entregar sem a exibição desses prints (caso contrário, perderá pontos)."
   ]
  },
  {
   "cell_type": "code",
   "execution_count": 7,
   "metadata": {},
   "outputs": [
    {
     "name": "stdout",
     "output_type": "stream",
     "text": [
      "Verificação da ordem das URLs...\n",
      "Resgatando a segunda página do mesmo dominio...\n",
      "Tempo esperado: 20 segundos\n",
      ".\n",
      "----------------------------------------------------------------------\n",
      "Ran 1 test in 20.019s\n",
      "\n",
      "OK\n"
     ]
    }
   ],
   "source": [
    "!python3 -m crawler.scheduler_test SchedulerTest.test_add_remove_pages"
   ]
  },
  {
   "cell_type": "markdown",
   "metadata": {},
   "source": [
    "**Atividade 6 método `can_fetch_page`**: Este método deve retornar verdadeiro caso a url (Objeto `ParseResult`), passada como parâmetro, pode ser coletada de acordo com o `Robots.txt` do domínio. Para isso, você deve usar o [`RobotFileParser`](https://docs.python.org/3/library/urllib.robotparser.html). Por razões de performance, você só poderá requisitar o robots.txt uma única vez por domínio. Assim, use o `dic_robots_per_domain` apropriadamente. Execute o teste unitário abaixo para verificar seu funcionamento. "
   ]
  },
  {
   "cell_type": "code",
   "execution_count": 7,
   "metadata": {},
   "outputs": [
    {
     "name": "stdout",
     "output_type": "stream",
     "text": [
      ".\n",
      "----------------------------------------------------------------------\n",
      "Ran 1 test in 131.985s\n",
      "\n",
      "OK\n"
     ]
    }
   ],
   "source": [
    "!python3 -m crawler.scheduler_test SchedulerTest.test_can_fetch_page"
   ]
  },
  {
   "cell_type": "markdown",
   "metadata": {},
   "source": [
    "**Atividade 7 - Inicialização das sementes no contrutor**: No contrutor da classe `Scheduler` você deve adicionar as páginas sementes na fila. Tais sementes são passadas pelo parametro `arr_urls_seeds` do contrutor. "
   ]
  },
  {
   "cell_type": "code",
   "execution_count": 8,
   "metadata": {},
   "outputs": [
    {
     "name": "stdout",
     "output_type": "stream",
     "text": [
      ".\n",
      "----------------------------------------------------------------------\n",
      "Ran 1 test in 0.000s\n",
      "\n",
      "OK\n"
     ]
    }
   ],
   "source": [
    "!python3 -m crawler.scheduler_test SchedulerTest.test_init"
   ]
  },
  {
   "cell_type": "markdown",
   "metadata": {},
   "source": [
    "Logo após, utize a anotação @synchronized aonde julgar necessário para transformar em ThreadSafe."
   ]
  },
  {
   "cell_type": "markdown",
   "metadata": {},
   "source": [
    "## PageFetcher"
   ]
  },
  {
   "cell_type": "markdown",
   "metadata": {},
   "source": [
    "**Atividade 8 - Efetuar a requisição - método `request_url`:** Neste método você irá fazer a requisição usando a api [requests](https://requests.readthedocs.io/en/master/). Além disso, deve-se informar no cabeçalho (em `User-Agent`) o nome do coletor. O método deverá retornar o conteúdo (em binário) apenas se o conteúdo for HTML (ver no cabeçalho da resposta o tipo do conteúdo). Caso não seja, ele deverá retornar nulo. "
   ]
  },
  {
   "cell_type": "code",
   "execution_count": 28,
   "metadata": {},
   "outputs": [
    {
     "name": "stdout",
     "output_type": "stream",
     "text": [
      ".\n",
      "----------------------------------------------------------------------\n",
      "Ran 1 test in 0.303s\n",
      "\n",
      "OK\n"
     ]
    }
   ],
   "source": [
    "!python3 -m crawler.page_fetcher_test PageFetcherTest.test_request_url"
   ]
  },
  {
   "cell_type": "markdown",
   "metadata": {},
   "source": [
    "**Atividade 9 extração das URLs por meio do método `discover_links`**: A partir do conteúdo (texto em binário) `bin_str_content` deve-se extrair seus os links. O conteúdo esta em binário, pois, o BeautifulSoup, internamente, verifica o encoding por meio da [tag meta](https://www.w3schools.com/tags/att_meta_charset.asp) e converte para UTF8. A URL da página coletada é um objeto ParseResult `obj_url` que está na profundidade `int_depth`. \n",
    "\n",
    "Para cada URL extraída, você deverá retornar uma tupla com a URL (objeto ParseResult) e a sua profundidade. Utilize o comando `yield` para retornar essas tuplas. A profundidade é calculada de por meio de  `obj_url` e `int_depth`, conforme comentado em sala de aula. \n",
    "\n",
    "Para a extração dos links, use o [CSS Selector do BeautifulSoup](https://www.crummy.com/software/BeautifulSoup/bs4/doc/#css-selectors). Seletor CSS é uma expressão que define quais elementos HTML serão estilizados pelo CSS. No *Beatifulsoup* eles são usados para selecionar quais tags serão extraídas. Veja o exemplo de uso e brinque abaixo. Caso precise, veja aqui um pouco de seletores CSS: [slides de Web](https://fegemo.github.io/cefet-front-end/classes/css2/#outros-seletores), [documentação MDN](https://developer.mozilla.org/en-US/docs/Web/CSS/CSS_Selectors)."
   ]
  },
  {
   "cell_type": "code",
   "execution_count": 3,
   "metadata": {},
   "outputs": [],
   "source": [
    "from bs4 import BeautifulSoup\n",
    "\n"
   ]
  },
  {
   "cell_type": "code",
   "execution_count": 1,
   "metadata": {},
   "outputs": [
    {
     "name": "stdout",
     "output_type": "stream",
     "text": [
      "Simulação da extração de links da página http://www.pudim.com.br na profundidade nível 2...\n",
      ".\n",
      "----------------------------------------------------------------------\n",
      "Ran 1 test in 0.002s\n",
      "\n",
      "OK\n"
     ]
    }
   ],
   "source": [
    "!python3 -m crawler.page_fetcher_test PageFetcherTest.test_discover_links"
   ]
  },
  {
   "cell_type": "markdown",
   "metadata": {},
   "source": [
    "**Atividade 10 - método que solicita uma nova URL**: Por meio do método `crawl_new_url` você deverá utilizar os métodos previamente implementados para:\n",
    "\n",
    "- Solicitar ao escalonador uma nova URL\n",
    "- Fazer a requisição e obter o resultado (em binário)\n",
    "- Caso a URL seja um HTML válido, imprima esta URL e extraia os seus links"
   ]
  },
  {
   "cell_type": "markdown",
   "metadata": {},
   "source": [
    "**Atividade 12 - método run**: Este método deve coletar páginas enquanto a coleta não foi finalizada"
   ]
  },
  {
   "cell_type": "markdown",
   "metadata": {},
   "source": [
    "**Atividade 11 - um pequeno teste para finalizar: ** Use as sementes do seu grupo e crie abaixo um escalonador e 5 PageFetchers para extrair 30 páginas. Imprima também o tempo gasto total."
   ]
  },
  {
   "cell_type": "code",
   "execution_count": 1,
   "metadata": {},
   "outputs": [
    {
     "name": "stdout",
     "output_type": "stream",
     "text": [
      "b'\\n\\n<!DOCTYPE html>\\n<html lang=\"pt-br\">\\n<head>\\n\\t<meta charset=\"utf-8\" />\\n\\t<meta name=\"viewport\" content=\"width=device-width, initial-scale=1\" />\\n\\t<title>Centro Federal de Educa\\xc3\\xa7\\xc3\\xa3o Tecnol\\xc3\\xb3gica de Minas Gerais</title>\\n\\n<meta name=\\'robots\\' content=\\'noindex,follow\\' />\\n<link rel=\\'dns-prefetch\\' href=\\'//s.w.org\\' />\\n<link rel=\\'stylesheet\\' id=\\'wp-block-library-css\\'  href=\\'https://www.cefetmg.br/wp-includes/css/dist/block-library/style.min.css?ver=5.0.4\\' type=\\'text/css\\' media=\\'all\\' />\\n<link rel=\\'stylesheet\\' id=\\'style-css\\'  href=\\'https://www.cefetmg.br/wp-content/themes/principal/style.css?ver=5.0.4\\' type=\\'text/css\\' media=\\'\\' />\\n<link rel=\"stylesheet\" type=\"text/css\" href=\"//www.cefetmg.br/wp-content/plugins/smart-slider-3/library/media/smartslider.min.css?1574704872\" media=\"all\" />\\n<style type=\"text/css\">.n2-ss-spinner-simple-white-container {\\r\\n    position: absolute;\\r\\n    top: 50%;\\r\\n    left: 50%;\\r\\n    margin: -20px;\\r\\n    background: #fff;\\r\\n    width: 20px;\\r\\n    height: 20px;\\r\\n    padding: 10px;\\r\\n    border-radius: 50%;\\r\\n    z-index: 1000;\\r\\n}\\r\\n\\r\\n.n2-ss-spinner-simple-white {\\r\\n  outline: 1px solid RGBA(0,0,0,0);\\r\\n  width:100%;\\r\\n  height: 100%;\\r\\n}\\r\\n\\r\\n.n2-ss-spinner-simple-white:before {\\r\\n    position: absolute;\\r\\n    top: 50%;\\r\\n    left: 50%;\\r\\n    width: 20px;\\r\\n    height: 20px;\\r\\n    margin-top: -11px;\\r\\n    margin-left: -11px;\\r\\n}\\r\\n\\r\\n.n2-ss-spinner-simple-white:not(:required):before {\\r\\n    content: \\'\\';\\r\\n    border-radius: 50%;\\r\\n    border-top: 2px solid #333;\\r\\n    border-right: 2px solid transparent;\\r\\n    animation: n2SimpleWhite .6s linear infinite;\\r\\n}\\r\\n@keyframes n2SimpleWhite {\\r\\n    to {transform: rotate(360deg);}\\r\\n}</style><script type=\\'text/javascript\\' src=\\'https://www.cefetmg.br/wp-content/themes/principal/js/high-contrast.js?ver=5.0.4\\'></script>\\n<link rel=\\'https://api.w.org/\\' href=\\'https://www.cefetmg.br/wp-json/\\' />\\n<link rel=\"canonical\" href=\"https://www.cefetmg.br/\" />\\n<link rel=\\'shortlink\\' href=\\'https://www.cefetmg.br/\\' />\\n<link rel=\"alternate\" type=\"application/json+oembed\" href=\"https://www.cefetmg.br/wp-json/oembed/1.0/embed?url=https%3A%2F%2Fwww.cefetmg.br%2F\" />\\n<script type=\"text/javascript\">(function(){var N=this;N.N2_=N.N2_||{r:[],d:[]},N.N2R=N.N2R||function(){N.N2_.r.push(arguments)},N.N2D=N.N2D||function(){N.N2_.d.push(arguments)}}).call(window);if(!window.n2jQuery){window.n2jQuery={ready:function(cb){console.error(\\'n2jQuery will be deprecated!\\');N2R([\\'$\\'],cb)}}}window.nextend={localization:{},ready:function(cb){console.error(\\'nextend.ready will be deprecated!\\');N2R(\\'documentReady\\',function($){cb.call(window,$)})}};nextend.fontsLoaded=false;nextend.fontsLoadedActive=function(){nextend.fontsLoaded=true};var requiredFonts=[\"Roboto:n3\",\"Roboto:n4\"],fontData={google:{families:[\"Roboto:300,400:latin\"]},active:function(){nextend.fontsLoadedActive()},inactive:function(){nextend.fontsLoadedActive()},fontactive:function(f,s){fontData.resolveFont(f+\\':\\'+s)},fontinactive:function(f,s){fontData.resolveFont(f+\\':\\'+s)},resolveFont:function(n){for(var i=requiredFonts.length-1;i>=0;i--){if(requiredFonts[i]===n){requiredFonts.splice(i,1);break}}if(!requiredFonts.length)nextend.fontsLoadedActive()}};if(typeof WebFontConfig!==\\'undefined\\'&&typeof WebFont===\\'undefined\\'){var _WebFontConfig=WebFontConfig;for(var k in WebFontConfig){if(k==\\'active\\'){fontData.active=function(){nextend.fontsLoadedActive();_WebFontConfig.active()}}else if(k==\\'inactive\\'){fontData.inactive=function(){nextend.fontsLoadedActive();_WebFontConfig.inactive()}}else if(k==\\'fontactive\\'){fontData.fontactive=function(f,s){fontData.resolveFont(f+\\':\\'+s);_WebFontConfig.fontactive.apply(this,arguments)}}else if(k==\\'fontinactive\\'){fontData.fontinactive=function(f,s){fontData.resolveFont(f+\\':\\'+s);_WebFontConfig.fontinactive.apply(this,arguments)}}else if(k==\\'google\\'){if(typeof WebFontConfig.google.families!==\\'undefined\\'){for(var i=0;i<WebFontConfig.google.families.length;i++){fontData.google.families.push(WebFontConfig.google.families[i])}}}else{fontData[k]=WebFontConfig[k]}}}fontData.classes=true;fontData.events=true;if(typeof WebFont===\\'undefined\\'){window.WebFontConfig=fontData}else{WebFont.load(fontData)}</script><script type=\"text/javascript\" src=\"//www.cefetmg.br/wp-content/plugins/smart-slider-3/nextend/media/dist/n2.min.js?1574704872\"></script>\\n<script type=\"text/javascript\" src=\"//www.cefetmg.br/wp-content/plugins/smart-slider-3/nextend/media/dist/nextend-frontend.min.js?1574704872\"></script>\\n<script type=\"text/javascript\" src=\"//www.cefetmg.br/wp-content/plugins/smart-slider-3/library/media/dist/smartslider-frontend.min.js?1574704872\"></script>\\n<script type=\"text/javascript\" src=\"//www.cefetmg.br/wp-content/plugins/smart-slider-3/library/media/plugins/type/simple/simple/dist/smartslider-simple-type-frontend.min.js?1574704872\"></script>\\n<script type=\"text/javascript\" src=\"//www.cefetmg.br/wp-content/plugins/smart-slider-3/nextend/media/dist/nextend-webfontloader.min.js?1574704872\"></script>\\n<script type=\"text/javascript\">N2R(\\'documentReady\\',function($){nextend.fontsDeferred=$.Deferred();if(nextend.fontsLoaded){nextend.fontsDeferred.resolve()}else{nextend.fontsLoadedActive=function(){nextend.fontsLoaded=true;nextend.fontsDeferred.resolve()};var intercalCounter=0;nextend.fontInterval=setInterval(function(){if(intercalCounter>3||document.documentElement.className.indexOf(\\'wf-active\\')!==-1){nextend.fontsLoadedActive();clearInterval(nextend.fontInterval)}intercalCounter++},1000)}N2R([\"nextend-frontend\",\"smartslider-frontend\",\"smartslider-simple-type-frontend\"],function(){new N2Classes.SmartSliderSimple(\\'#n2-ss-1\\',{\"admin\":false,\"translate3d\":1,\"callbacks\":\"\",\"background.video.mobile\":1,\"align\":\"normal\",\"isDelayed\":0,\"load\":{\"fade\":1,\"scroll\":0},\"playWhenVisible\":1,\"playWhenVisibleAt\":0.5,\"responsive\":{\"desktop\":1,\"tablet\":1,\"mobile\":1,\"onResizeEnabled\":true,\"type\":\"fullwidth\",\"downscale\":1,\"upscale\":1,\"minimumHeight\":0,\"maximumHeight\":3000,\"maximumSlideWidth\":3000,\"maximumSlideWidthLandscape\":3000,\"maximumSlideWidthTablet\":3000,\"maximumSlideWidthTabletLandscape\":3000,\"maximumSlideWidthMobile\":3000,\"maximumSlideWidthMobileLandscape\":3000,\"maximumSlideWidthConstrainHeight\":0,\"forceFull\":1,\"forceFullOverflowX\":\"body\",\"forceFullHorizontalSelector\":\"body\",\"constrainRatio\":1,\"sliderHeightBasedOn\":\"real\",\"decreaseSliderHeight\":0,\"focusUser\":1,\"deviceModes\":{\"desktopPortrait\":1,\"desktopLandscape\":0,\"tabletPortrait\":1,\"tabletLandscape\":0,\"mobilePortrait\":1,\"mobileLandscape\":0},\"normalizedDeviceModes\":{\"unknownUnknown\":[\"unknown\",\"Unknown\"],\"desktopPortrait\":[\"desktop\",\"Portrait\"],\"desktopLandscape\":[\"desktop\",\"Portrait\"],\"tabletPortrait\":[\"tablet\",\"Portrait\"],\"tabletLandscape\":[\"tablet\",\"Portrait\"],\"mobilePortrait\":[\"mobile\",\"Portrait\"],\"mobileLandscape\":[\"mobile\",\"Portrait\"]},\"verticalRatioModifiers\":{\"unknownUnknown\":1,\"desktopPortrait\":1,\"desktopLandscape\":1,\"tabletPortrait\":1,\"tabletLandscape\":1,\"mobilePortrait\":1,\"mobileLandscape\":1},\"minimumFontSizes\":{\"desktopPortrait\":4,\"desktopLandscape\":4,\"tabletPortrait\":4,\"tabletLandscape\":4,\"mobilePortrait\":4,\"mobileLandscape\":4},\"ratioToDevice\":{\"Portrait\":{\"tablet\":0.7,\"mobile\":0.5},\"Landscape\":{\"tablet\":0,\"mobile\":0}},\"sliderWidthToDevice\":{\"desktopPortrait\":1200,\"desktopLandscape\":1200,\"tabletPortrait\":840,\"tabletLandscape\":0,\"mobilePortrait\":600,\"mobileLandscape\":0},\"basedOn\":\"combined\",\"orientationMode\":\"width_and_height\",\"overflowHiddenPage\":0,\"desktopPortraitScreenWidth\":1200,\"tabletPortraitScreenWidth\":800,\"mobilePortraitScreenWidth\":440,\"tabletLandscapeScreenWidth\":800,\"mobileLandscapeScreenWidth\":440,\"focus\":{\"offsetTop\":\"#wpadminbar\",\"offsetBottom\":\"\"}},\"controls\":{\"mousewheel\":0,\"touch\":\"horizontal\",\"keyboard\":1,\"blockCarouselInteraction\":1},\"lazyLoad\":0,\"lazyLoadNeighbor\":0,\"blockrightclick\":0,\"maintainSession\":0,\"autoplay\":{\"enabled\":1,\"start\":1,\"duration\":4000,\"autoplayToSlide\":-1,\"autoplayToSlideIndex\":-1,\"allowReStart\":0,\"pause\":{\"click\":1,\"mouse\":\"0\",\"mediaStarted\":1},\"resume\":{\"click\":0,\"mouse\":0,\"mediaEnded\":1,\"slidechanged\":0}},\"perspective\":1500,\"layerMode\":{\"playOnce\":0,\"playFirstLayer\":1,\"mode\":\"skippable\",\"inAnimation\":\"mainInEnd\"},\"initCallbacks\":[\"N2D(\\\\\"SmartSliderWidgetBarHorizontal\\\\\",function(t,e){\\\\\"use strict\\\\\";function i(e,i){this.slider=e,this.slider.started(t.proxy(this.start,this,i))}return i.prototype.start=function(e){if(this.slider.sliderElement.data(\\\\\"bar\\\\\"))return!1;if(this.slider.sliderElement.data(\\\\\"bar\\\\\",this),this.parameters=e,this.offset=0,this.tween=null,this.bar=this.slider.sliderElement.find(\\\\\".nextend-bar\\\\\"),this.innerBar=this.bar.find(\\\\\"> div\\\\\"),this.slider.firstSlideReady.done(t.proxy(this.onFirstSlideSet,this)),e.animate?this.slider.sliderElement.on(\\\\\"mainAnimationStart\\\\\",t.proxy(this.onSliderSwitchToAnimateStart,this)):this.slider.sliderElement.on(\\\\\"sliderSwitchTo\\\\\",t.proxy(this.onSliderSwitchTo,this)),!e.overlay){var i=!1;switch(e.area){case 1:i=\\\\\"Top\\\\\";break;case 12:i=\\\\\"Bottom\\\\\"}i&&(this.offset=parseFloat(this.bar.data(\\\\\"offset\\\\\")),this.slider.responsive.addStaticMargin(i,this))}var s=\\\\\"click\\\\\";this.slider.hasTouch()&&(s=\\\\\"n2click\\\\\"),this.bar.on(\\\\\"click\\\\\",t.proxy(function(t){this.slider.sliderElement.find(\\\\\".n2-ss-slide-active .n2-ss-layers-container\\\\\").trigger(s)},this))},i.prototype.onFirstSlideSet=function(t){this.onSliderSwitchTo(null,t.index)},i.prototype.hasContent=function(t){return this.parameters.showTitle&&(t.getTitle()!==e||this.parameters.slideCount)?!0:!(!this.parameters.showDescription||t.getDescription()===e&&!this.parameters.slideCount)},i.prototype.renderBarContent=function(t){var i=\\\\\"\\\\\";if(this.parameters.showTitle&&(t.getTitle()!==e||this.parameters.slideCount)){if(this.parameters.slideCount)var s=t.index+1;else var s=t.getTitle();i+=\\'<span class=\\\\\"\\'+this.parameters.fontTitle+\\' n2-ow\\\\\">\\'+s+\\\\\"<\\\\/span>\\\\\"}if(this.parameters.showDescription&&(t.getDescription()!==e||this.parameters.slideCount)){if(this.parameters.slideCount)var r=t.slider.slides.length;else var r=t.getDescription();i+=\\'<span class=\\\\\"\\'+this.parameters.fontDescription+\\' n2-ow\\\\\">\\'+(\\\\\"\\\\\"===i?\\\\\"\\\\\":this.parameters.separator)+r+\\\\\"<\\\\/span>\\\\\"}return\\\\\"\\\\\"===i?\\'<span class=\\\\\"\\'+this.parameters.fontDescription+\\' n2-ow\\\\\">&nbsp;<\\\\/span>\\':i},i.prototype.onSliderSwitchTo=function(t,e){var i=this.slider.slides[e],s=this.renderBarContent(i);this.innerBar.html(s),this.setCursor(i.hasLink()),this.slider.widgets.setState(\\\\\"hide.bar\\\\\",!this.hasContent(i))},i.prototype.onSliderSwitchToAnimateStart=function(){var e=t.Deferred();this.slider.sliderElement.on(\\\\\"mainAnimationComplete.n2Bar\\\\\",t.proxy(this.onSliderSwitchToAnimateEnd,this,e)),this.tween&&this.tween.pause(),NextendTween.to(this.innerBar,.3,{opacity:0,onComplete:function(){e.resolve()}})},i.prototype.onSliderSwitchToAnimateEnd=function(e,i,s,r,n){this.slider.sliderElement.off(\\\\\".n2Bar\\\\\");var a=this.slider.slides[n];e.done(t.proxy(function(){var t=this.innerBar.clone();this.innerBar.remove(),this.innerBar=t.css(\\\\\"opacity\\\\\",0).html(this.renderBarContent(a)).appendTo(this.bar),this.setCursor(a.hasLink()),this.slider.widgets.setState(\\\\\"hide.bar\\\\\",!this.hasContent(a)),this.tween=NextendTween.to(this.innerBar,.3,{opacity:1})},this))},i.prototype.setCursor=function(t){this.innerBar.css(\\\\\"cursor\\\\\",t?\\\\\"pointer\\\\\":\\\\\"inherit\\\\\")},i.prototype.isVisible=function(){return this.bar.is(\\\\\":visible\\\\\")},i.prototype.getSize=function(){return this.bar.height()+this.offset},i});\",\"new N2Classes.SmartSliderWidgetBarHorizontal(this, {\\\\\"overlay\\\\\":0,\\\\\"area\\\\\":10,\\\\\"animate\\\\\":0,\\\\\"showTitle\\\\\":1,\\\\\"fontTitle\\\\\":\\\\\"n2-font-d2015250c8568807f9d7b8d432d1a051-simple \\\\\",\\\\\"slideCount\\\\\":0,\\\\\"showDescription\\\\\":1,\\\\\"fontDescription\\\\\":\\\\\"n2-font-e93158004d2a60ad1b2c9204a90c1ea7-simple \\\\\",\\\\\"separator\\\\\":\\\\\"\\\\\"});\",\"N2D(\\\\\"SmartSliderWidgetThumbnailDefault\\\\\",function(t,i){\\\\\"use strict\\\\\";function s(i,s){this.slider=i,this.slider.started(t.proxy(this.start,this,s))}var e=!1,r={videoDark:\\'<svg xmlns=\\\\\"http:\\\\/\\\\/www.w3.org\\\\/2000\\\\/svg\\\\\" width=\\\\\"48\\\\\" height=\\\\\"48\\\\\" viewBox=\\\\\"0 0 48 48\\\\\"><circle cx=\\\\\"24\\\\\" cy=\\\\\"24\\\\\" r=\\\\\"24\\\\\" fill=\\\\\"#000\\\\\" opacity=\\\\\".6\\\\\"\\\\/><path fill=\\\\\"#FFF\\\\\" d=\\\\\"M19.8 32c-.124 0-.247-.028-.36-.08-.264-.116-.436-.375-.44-.664V16.744c.005-.29.176-.55.44-.666.273-.126.592-.1.84.07l10.4 7.257c.2.132.32.355.32.595s-.12.463-.32.595l-10.4 7.256c-.14.1-.31.15-.48.15z\\\\\"\\\\/><\\\\/svg>\\'};s.prototype.start=function(i){if(this.slider.sliderElement.data(\\\\\"thumbnail\\\\\"))return!1;this.slider.sliderElement.data(\\\\\"thumbnail\\\\\",this),this.parameters=t.extend({captionSize:0,minimumThumbnailCount:1.5,invertGroupDirection:0},i),this.ratio=1,this.hidden=!1,this.forceHidden=!1,this.forceHiddenCB=null,this.itemPerPane=1,this.currentI=0,this.offset=0,this.horizontal={prop:\\\\\"width\\\\\",Prop:\\\\\"Width\\\\\",sideProp:n2const.rtl.left,invProp:\\\\\"height\\\\\",axis:\\\\\"x\\\\\",outerProp:\\\\\"outerWidth\\\\\"},this.vertical={prop:\\\\\"height\\\\\",Prop:\\\\\"Height\\\\\",sideProp:\\\\\"top\\\\\",invProp:\\\\\"width\\\\\",axis:\\\\\"y\\\\\",outerProp:\\\\\"outerHeight\\\\\"},this.group=parseInt(i.group),this.orientation=i.orientation,\\\\\"vertical\\\\\"===this.orientation&&(this.goToDot=this._goToDot),this.outerBar=this.slider.sliderElement.find(\\\\\".nextend-thumbnail-default\\\\\"),this.bar=this.outerBar.find(\\\\\".nextend-thumbnail-inner\\\\\"),this.scroller=this.bar.find(\\\\\".nextend-thumbnail-scroller\\\\\"),this.$groups=t();for(var s=0;s<this.group;s++)this.$groups=this.$groups.add(t(\\'<div class=\\\\\"nextend-thumbnail-scroller-group\\\\\"><\\\\/div>\\').appendTo(this.scroller));var e=\\\\\"universalclick\\\\\";if(\\\\\"mouseenter\\\\\"===i.action?e=\\\\\"universalenter\\\\\":this.slider.hasTouch()&&(e=\\\\\"n2click\\\\\"),this.renderThumbnails(),this.dots=this.scroller.find(\\\\\".nextend-thumbnail-scroller-group > div\\\\\").on(e,t.proxy(this.onDotClick,this)),this.images=this.dots.find(\\\\\".n2-ss-thumb-image\\\\\"),n2const.rtl.isRtl?(this.previous=this.outerBar.find(\\\\\".nextend-thumbnail-next\\\\\").on(\\\\\"click\\\\\",t.proxy(this.previousPane,this)),this.next=this.outerBar.find(\\\\\".nextend-thumbnail-previous\\\\\").on(\\\\\"click\\\\\",t.proxy(this.nextPane,this))):(this.previous=this.outerBar.find(\\\\\".nextend-thumbnail-previous\\\\\").on(\\\\\"click\\\\\",t.proxy(this.previousPane,this)),this.next=this.outerBar.find(\\\\\".nextend-thumbnail-next\\\\\").on(\\\\\"click\\\\\",t.proxy(this.nextPane,this))),this.slider.hasTouch()&&(N2Classes.EventBurrito(this.outerBar.get(0),{mouse:this.slider.parameters.controls.drag,axis:\\\\\"vertical\\\\\"===this.orientation?\\\\\"y\\\\\":\\\\\"x\\\\\",start:t.proxy(function(){this._touch={start:parseInt(this.scroller.css(this[this.orientation].sideProp)),max:this.bar[this[this.orientation].prop]()-this.scroller[this[this.orientation].outerProp](!0)},this._touch.current=this._touch.start},this),move:t.proxy(function(t,i,s,e,r){return this._touch.current=Math.max(this._touch.max,Math.min(0,this._touch.start+s[this[this.orientation].axis])),this.scroller.css(this[this.orientation].sideProp,this._touch.current),Math.abs(s[this[this.orientation].axis])>5},this),end:t.proxy(function(t,i,s,e,r){40>Math.abs(this._touch.start-this._touch.current)?this.resetPane():this._touch.current>this._touch.start?this.previousPane():this.nextPane(),10>Math.abs(s.x)&&10>Math.abs(s.y)?this.onTap(t):nextend.preventClick(),delete this._touch},this)}),this.slider.parameters.controls.drag||this.outerBar.on(\\\\\"click\\\\\",t.proxy(this.onTap,this))),this.thumbnailDimension={widthLocal:this.dots.width(),width:this.dots.outerWidth(!0),height:this.dots.outerHeight(!0),widthBorder:parseInt(this.dots.css(\\\\\"borderLeftWidth\\\\\"))+parseInt(this.dots.css(\\\\\"borderRightWidth\\\\\")),heightBorder:parseInt(this.dots.css(\\\\\"borderTopWidth\\\\\"))+parseInt(this.dots.css(\\\\\"borderBottomWidth\\\\\"))},this.thumbnailDimension.widthMargin=this.thumbnailDimension.width-this.dots.outerWidth(),this.thumbnailDimension.heightMargin=this.thumbnailDimension.height-this.dots.outerHeight(),this.imageDimension={width:this.images.outerWidth(!0),height:this.images.outerHeight(!0)},this.sideDimension=.25*this.thumbnailDimension[this[this.orientation].prop],\\\\\"horizontal\\\\\"===this.orientation?(this.scroller.height(this.thumbnailDimension.height*this.group),this.bar.height(this.scroller.outerHeight(!0))):(this.scroller.width(this.thumbnailDimension.width*this.group),this.bar.width(this.scroller.outerWidth(!0))),this.slider.sliderElement.on({BeforeVisible:t.proxy(this.onReady,this),sliderSwitchTo:t.proxy(this.onSlideSwitch,this)}),this.slider.firstSlideReady.done(t.proxy(this.onFirstSlideSet,this)),0==i.overlay){var r=!1;switch(i.area){case 1:r=\\\\\"Top\\\\\";break;case 12:r=\\\\\"Bottom\\\\\";break;case 5:r=\\\\\"Left\\\\\";break;case 8:r=\\\\\"Right\\\\\"}r&&(this.offset=parseFloat(this.outerBar.data(\\\\\"offset\\\\\")),this.slider.responsive.addStaticMargin(r,this))}},s.prototype.renderThumbnails=function(){var s;this.parameters.invertGroupDirection&&(s=Math.ceil(this.slider.realSlides.length\\\\/this.group));for(var e=0;e<this.slider.realSlides.length;e++){var o=this.slider.realSlides[e],h=t(\\'<div class=\\\\\"\\'+this.parameters.slideStyle+\\' n2-ow\\\\\" style=\\\\\"\\'+this.parameters.containerStyle+\\'\\\\\"><\\\\/div>\\');if(this.parameters.invertGroupDirection?h.appendTo(this.$groups.eq(Math.floor(e\\\\/s))):h.appendTo(this.$groups.eq(e%this.group)),h.data(\\\\\"slide\\\\\",o),o.$thumbnail=h,this.parameters.thumbnail!==i){var n=o.getThumbnailType(),a=r[n]!==i?r[n]:\\\\\"\\\\\";t(\\'<div class=\\\\\"n2-ss-thumb-image n2-ow\\\\\" style=\\\\\"width:\\'+this.parameters.thumbnail.width+\\\\\"px; height:\\\\\"+this.parameters.thumbnail.height+\\\\\"px;\\\\\"+this.parameters.thumbnail.code+\\'\\\\\">\\'+a+\\\\\"<\\\\/div>\\\\\").css(\\\\\"background-image\\\\\",\\\\\"url(\\'\\\\\"+o.getThumbnail()+\\\\\"\\')\\\\\").appendTo(h)}if(this.parameters.caption!==i){var l=t(\\'<div class=\\\\\"\\'+this.parameters.caption.styleClass+\\\\\"n2-ss-caption n2-ow n2-caption-\\\\\"+this.parameters.caption.placement+\\'\\\\\" style=\\\\\"\\'+this.parameters.caption.style+\\'\\\\\"><\\\\/div>\\');switch(this.parameters.caption.placement){case\\\\\"before\\\\\":l.prependTo(h);break;default:l.appendTo(h)}if(this.parameters.title!==i&&l.append(\\'<div class=\\\\\"n2-ow \\'+this.parameters.title.font+\\'\\\\\">\\'+o.getTitle()+\\\\\"<\\\\/div>\\\\\"),this.parameters.description!==i){var d=o.getDescription();d&&l.append(\\'<div class=\\\\\"n2-ow \\'+this.parameters.description.font+\\'\\\\\">\\'+d+\\\\\"<\\\\/div>\\\\\")}}}},s.prototype.onTap=function(i){e||(t(i.target).trigger(\\\\\"n2click\\\\\"),e=!0,setTimeout(function(){e=!1},500))},s.prototype.onFirstSlideSet=function(t){this.activateDots(t.index),this.goToDot(t.index)},s.prototype.onReady=function(){this.slider.sliderElement.on(\\\\\"SliderResize\\\\\",t.proxy(this.onSliderResize,this)),this.onSliderResize()},s.prototype.onSliderResize=function(){null!==this.forceHiddenCB&&this.forceHiddenCB.call(this),this.adjustScrollerSize();var t=this.slider.currentSlide.index;this.activateDots(t),this.goToDot(t)},s.prototype.adjustScrollerSize=function(){var t=this[this.orientation].prop,i=Math.ceil(this.dots.length\\\\/this.group)*this.thumbnailDimension[t]*this.ratio,s=this.scroller[\\\\\"outer\\\\\"+this[this.orientation].Prop]()-this.scroller[t](),e=this.slider.dimensions[\\\\\"thumbnail\\\\\"+t];e>=i+s?this.scroller[t](e-s):this.scroller[t](i),\\\\\"horizontal\\\\\"===this.orientation?this.scroller.height(this.dots.outerHeight(!0)*this.group):this.scroller.width(this.dots.outerWidth(!0)*this.group)};var o=!1;return s.prototype.onDotClick=function(i){o||(this.slider.directionalChangeToReal(t(i.currentTarget).data(\\\\\"slide\\\\\").index),o=!0),setTimeout(t.proxy(function(){o=!1},this),400)},s.prototype.onSlideSwitch=function(t,i,s){this.activateDots(i),this.goToDot(s)},s.prototype.activateDots=function(t){this.dots.removeClass(\\\\\"n2-active\\\\\");for(var i=this.slider.slides[t].slides,s=0;i.length>s;s++)i[s].$thumbnail.addClass(\\\\\"n2-active\\\\\")},s.prototype.resetPane=function(){this.goToDot(this.currentI)},s.prototype.previousPane=function(){this.goToDot(this.currentI-this.itemPerPane*this.group)},s.prototype.nextPane=function(){this.goToDot(this.currentI+this.itemPerPane*this.group)},s.prototype.goToDot=function(t){this.tween&&this.tween.progress()<1&&this.tween.pause();var i=this[this.orientation],s=1,e=this.slider.dimensions[\\\\\"thumbnail\\\\\"+i.prop],r=this.sideDimension,o=e-2*r,h=o\\\\/this.thumbnailDimension[i.prop];if(this.parameters.minimumThumbnailCount>=h&&(r=.1*e,o=e-2*r,s=o\\\\/(this.parameters.minimumThumbnailCount*this.thumbnailDimension[i.prop]),h=o\\\\/(this.thumbnailDimension[i.prop]*s)),this.ratio!==s){var n={};n[i.prop]=parseInt(this.thumbnailDimension[i.prop]*s-this.thumbnailDimension[i.prop+\\\\\"Margin\\\\\"]-this.thumbnailDimension[i.prop+\\\\\"Border\\\\\"]),n[i.invProp]=parseInt((this.thumbnailDimension[i.invProp]-this.parameters.captionSize)*s-this.thumbnailDimension[i.prop+\\\\\"Margin\\\\\"]+this.parameters.captionSize-this.thumbnailDimension[i.invProp+\\\\\"Border\\\\\"]),this.dots.css(n);var a=this.dots.width()\\\\/this.thumbnailDimension.widthLocal;n={},n[i.prop]=Math.ceil(this.imageDimension[i.prop]*a),n[i.invProp]=Math.ceil(this.imageDimension[i.invProp]*a),this.images.css(n),this.bar.css(i.invProp,\\\\\"auto\\\\\"),this.ratio=s,this.slider.responsive.doNormalizedResize(),this.adjustScrollerSize()}h=Math.floor(h),t=Math.max(0,Math.min(this.dots.length-1,t));var l,d={};l=this.parameters.invertGroupDirection?Math.floor(t%Math.ceil(this.dots.length\\\\/this.group)\\\\/h):Math.floor(t\\\\/this.group\\\\/h);var p=-(this.scroller[\\\\\"outer\\\\\"+i.Prop]()-e);l===Math.floor((this.dots.length-1)\\\\/this.group\\\\/h)?(d[i.sideProp]=-(l*h*this.thumbnailDimension[i.prop]*s),0===l?this.previous.removeClass(\\\\\"n2-active\\\\\"):this.previous.addClass(\\\\\"n2-active\\\\\"),this.next.removeClass(\\\\\"n2-active\\\\\")):l>0?(d[i.sideProp]=-(l*h*this.thumbnailDimension[i.prop]*s-r),this.previous.addClass(\\\\\"n2-active\\\\\"),this.next.addClass(\\\\\"n2-active\\\\\")):(d[i.sideProp]=0,this.previous.removeClass(\\\\\"n2-active\\\\\"),this.next.addClass(\\\\\"n2-active\\\\\")),p>=d[i.sideProp]&&(d[i.sideProp]=p,this.next.removeClass(\\\\\"n2-active\\\\\")),this.tween=NextendTween.to(this.scroller,.5,d),this.currentI=t,this.itemPerPane=h},s.prototype._goToDot=function(i){if(!this.forceHidden){this.tween&&this.tween.progress()<1&&this.tween.pause();var s=this[this.orientation],e=this.slider.dimensions[\\\\\"thumbnail\\\\\"+s.prop],r=(e-2*this.sideDimension)\\\\/this.thumbnailDimension[s.prop];if(0===e||0!==e&&this.parameters.minimumThumbnailCount-.5>r?this.hidden||(\\\\\"horizontal\\\\\"===this.orientation?this.outerBar.css(\\\\\"height\\\\\",0):this.outerBar.css(\\\\\"width\\\\\",0),this.hidden=!0,this.forceHidden=!0,setTimeout(t.proxy(function(){this.forceHiddenCB=function(){this.forceHiddenCB=null,this.forceHidden=!1}},this),300),this.slider.responsive.doNormalizedResize()):this.hidden&&r>=this.parameters.minimumThumbnailCount+.5&&(this.hidden=!1,\\\\\"horizontal\\\\\"===this.orientation?this.outerBar.css(\\\\\"height\\\\\",\\\\\"\\\\\"):this.outerBar.css(\\\\\"width\\\\\",\\\\\"\\\\\"),this.slider.responsive.doNormalizedResize()),!this.hidden){r=Math.floor(r),i=Math.max(0,Math.min(this.dots.length-1,i));var o,h={};o=this.parameters.invertGroupDirection?Math.floor(i%Math.ceil(this.dots.length\\\\/this.group)\\\\/r):Math.floor(i\\\\/this.group\\\\/r);var n=-(this.scroller[\\\\\"outer\\\\\"+s.Prop]()-e);o===Math.floor((this.dots.length-1)\\\\/this.group\\\\/r)?(h[s.sideProp]=-(o*r*this.thumbnailDimension[s.prop]),0===o?this.previous.removeClass(\\\\\"n2-active\\\\\"):this.previous.addClass(\\\\\"n2-active\\\\\"),this.next.removeClass(\\\\\"n2-active\\\\\")):o>0?(h[s.sideProp]=-(o*r*this.thumbnailDimension[s.prop]-this.sideDimension),this.previous.addClass(\\\\\"n2-active\\\\\"),this.next.addClass(\\\\\"n2-active\\\\\")):(h[s.sideProp]=0,this.previous.removeClass(\\\\\"n2-active\\\\\"),this.next.addClass(\\\\\"n2-active\\\\\")),n>=h[s.sideProp]&&(h[s.sideProp]=n,this.next.removeClass(\\\\\"n2-active\\\\\")),this.tween=NextendTween.to(this.scroller,.5,h)}this.currentI=i,this.itemPerPane=r}},s.prototype.isVisible=function(){return this.outerBar.is(\\\\\":visible\\\\\")},s.prototype.getSize=function(){return\\\\\"horizontal\\\\\"===this.orientation?this.outerBar.height()+this.offset:this.outerBar.width()+this.offset},s});\",\"new N2Classes.SmartSliderWidgetThumbnailDefault(this, {\\\\\"overlay\\\\\":0,\\\\\"area\\\\\":8,\\\\\"action\\\\\":\\\\\"click\\\\\",\\\\\"minimumThumbnailCount\\\\\":1.5,\\\\\"group\\\\\":1,\\\\\"invertGroupDirection\\\\\":0,\\\\\"captionSize\\\\\":0,\\\\\"orientation\\\\\":\\\\\"vertical\\\\\",\\\\\"slideStyle\\\\\":\\\\\"n2-style-0d7e6147d938756e488febb9fea88b5d-dot \\\\\",\\\\\"containerStyle\\\\\":\\\\\"width: 500px; height: 150px;\\\\\",\\\\\"thumbnail\\\\\":{\\\\\"width\\\\\":500,\\\\\"height\\\\\":150,\\\\\"code\\\\\":\\\\\"background-size: cover;\\\\\"},\\\\\"caption\\\\\":{\\\\\"styleClass\\\\\":\\\\\"n2-style-5d7eae0477486ee4b93ada164af3ae0f-simple \\\\\",\\\\\"placement\\\\\":\\\\\"overlay\\\\\",\\\\\"style\\\\\":\\\\\"\\\\\"},\\\\\"title\\\\\":{\\\\\"font\\\\\":\\\\\"n2-font-b28b308f49127d24acbb688fa40433b2-simple \\\\\"}});\"],\"allowBGImageAttachmentFixed\":false,\"bgAnimationsColor\":\"RGBA(51,51,51,1)\",\"bgAnimations\":0,\"mainanimation\":{\"type\":\"no\",\"duration\":600,\"delay\":0,\"ease\":\"easeOutQuad\",\"parallax\":0,\"shiftedBackgroundAnimation\":0},\"carousel\":1,\"dynamicHeight\":0})})});</script></head>\\n\\n<body>\\n\\t\\t<header class=\"header\">\\n\\t\\t<div class=\"container-fluid header_itens\">\\n\\t\\t\\t\\t\\n\\t\\t\\t\\t<section class=\"header_logo\">\\n\\t\\t\\t\\t\\t<span class=\"btn_nav\"></span>\\n\\t\\t\\t\\t\\t<nav id=\"menu\" class=\"header_nav menu_nav\">\\n\\t\\t\\t\\t\\t\\t<ul id=\"menu-menu-principal\" class=\"menu\"><li id=\"menu-item-3019\" class=\"menu-item menu-item-type-post_type menu-item-object-page menu-item-has-children menu-item-3019\"><a href=\"https://www.cefetmg.br/instituicao/\">Institui\\xc3\\xa7\\xc3\\xa3o</a>\\n<ul class=\"sub-menu\">\\n\\t<li id=\"menu-item-8427\" class=\"menu-item menu-item-type-post_type menu-item-object-page menu-item-8427\"><a href=\"https://www.cefetmg.br/instituicao/historia/\">Hist\\xc3\\xb3ria</a></li>\\n\\t<li id=\"menu-item-8428\" class=\"menu-item menu-item-type-post_type menu-item-object-page menu-item-8428\"><a href=\"https://www.cefetmg.br/instituicao/quem-e-quem/\">Quem \\xc3\\xa9 quem</a></li>\\n\\t<li id=\"menu-item-8429\" class=\"menu-item menu-item-type-custom menu-item-object-custom menu-item-8429\"><a href=\"http://www.cefetmg.br/wp-content/uploads/2020/05/Organograma-CEFETMG.pdf\">Organograma</a></li>\\n\\t<li id=\"menu-item-8430\" class=\"menu-item menu-item-type-post_type menu-item-object-page menu-item-8430\"><a href=\"https://www.cefetmg.br/fotos/\">Galeria de fotos</a></li>\\n\\t<li id=\"menu-item-8431\" class=\"menu-item menu-item-type-post_type menu-item-object-page menu-item-8431\"><a href=\"https://www.cefetmg.br/instituicao/plano-de-desenvolvimento-institucional-pdi/\">PDI</a></li>\\n\\t<li id=\"menu-item-8432\" class=\"menu-item menu-item-type-post_type menu-item-object-page menu-item-8432\"><a href=\"https://www.cefetmg.br/instituicao/estatuto-do-cefet-mg/\">Estatuto do CEFET-MG</a></li>\\n\\t<li id=\"menu-item-8436\" class=\"menu-item menu-item-type-post_type menu-item-object-page menu-item-has-children menu-item-8436\"><a href=\"https://www.cefetmg.br/instituicao/numeros/\">N\\xc3\\xbameros</a>\\n\\t<ul class=\"sub-menu\">\\n\\t\\t<li id=\"menu-item-8437\" class=\"menu-item menu-item-type-post_type menu-item-object-page menu-item-8437\"><a href=\"https://www.cefetmg.br/instituicao/relatorios-de-gestao/\">Relat\\xc3\\xb3rios de Gest\\xc3\\xa3o</a></li>\\n\\t\\t<li id=\"menu-item-8438\" class=\"menu-item menu-item-type-post_type menu-item-object-page menu-item-8438\"><a href=\"https://www.cefetmg.br/instituicao/cefet-mg-em-numeros/\">CEFET-MG em N\\xc3\\xbameros</a></li>\\n\\t\\t<li id=\"menu-item-8439\" class=\"menu-item menu-item-type-post_type menu-item-object-page menu-item-8439\"><a href=\"https://www.cefetmg.br/instituicao/dados-estatisticos/\">Dados Estat\\xc3\\xadsticos</a></li>\\n\\t</ul>\\n</li>\\n\\t<li id=\"menu-item-8440\" class=\"menu-item menu-item-type-post_type menu-item-object-page menu-item-8440\"><a href=\"https://www.cefetmg.br/instituicao/diretoria-geral/\">Diretoria Geral</a></li>\\n\\t<li id=\"menu-item-8441\" class=\"menu-item menu-item-type-post_type menu-item-object-page menu-item-has-children menu-item-8441\"><a href=\"https://www.cefetmg.br/instituicao/diretorias-especializadas/\">Diretorias Especializadas</a>\\n\\t<ul class=\"sub-menu\">\\n\\t\\t<li id=\"menu-item-8443\" class=\"menu-item menu-item-type-custom menu-item-object-custom menu-item-8443\"><a href=\"http://www.dept.cefetmg.br/\">DEPT</a></li>\\n\\t\\t<li id=\"menu-item-8444\" class=\"menu-item menu-item-type-custom menu-item-object-custom menu-item-8444\"><a href=\"http://www.dirgrad.cefetmg.br/\">DIRGRAD</a></li>\\n\\t\\t<li id=\"menu-item-8445\" class=\"menu-item menu-item-type-custom menu-item-object-custom menu-item-8445\"><a href=\"http://www.dppg.cefetmg.br/\">DPPG</a></li>\\n\\t\\t<li id=\"menu-item-8446\" class=\"menu-item menu-item-type-custom menu-item-object-custom menu-item-8446\"><a href=\"http://www.dpg.cefetmg.br/\">DPG</a></li>\\n\\t\\t<li id=\"menu-item-8447\" class=\"menu-item menu-item-type-custom menu-item-object-custom menu-item-8447\"><a href=\"http://www.dedc.cefetmg.br/\">DEDC</a></li>\\n\\t\\t<li id=\"menu-item-9172\" class=\"menu-item menu-item-type-custom menu-item-object-custom menu-item-9172\"><a href=\"http://www.sgi.cefetmg.br/\">DTI</a></li>\\n\\t\\t<li id=\"menu-item-8448\" class=\"menu-item menu-item-type-custom menu-item-object-custom menu-item-8448\"><a href=\"https://www.cefetmg.br/noticias/diretoria-de-governanca-e-desenvolvimento-institucional-comeca-a-atuar/\">DGDI</a></li>\\n\\t</ul>\\n</li>\\n\\t<li id=\"menu-item-8451\" class=\"menu-item menu-item-type-post_type menu-item-object-page menu-item-has-children menu-item-8451\"><a href=\"https://www.cefetmg.br/instituicao/secretarias-especializadas/\">Secretarias Especializadas</a>\\n\\t<ul class=\"sub-menu\">\\n\\t\\t<li id=\"menu-item-8452\" class=\"menu-item menu-item-type-custom menu-item-object-custom menu-item-8452\"><a href=\"http://www.secom.cefetmg.br/\">SECOM</a></li>\\n\\t\\t<li id=\"menu-item-8453\" class=\"menu-item menu-item-type-custom menu-item-object-custom menu-item-8453\"><a href=\"http://www.segep.cefetmg.br/\">SEGEP</a></li>\\n\\t\\t<li id=\"menu-item-8455\" class=\"menu-item menu-item-type-custom menu-item-object-custom menu-item-8455\"><a href=\"http://www.spe.cefetmg.br/\">SPE</a></li>\\n\\t\\t<li id=\"menu-item-8456\" class=\"menu-item menu-item-type-custom menu-item-object-custom menu-item-8456\"><a href=\"http://www.srca.cefetmg.br/\">SRCA</a></li>\\n\\t\\t<li id=\"menu-item-8457\" class=\"menu-item menu-item-type-custom menu-item-object-custom menu-item-8457\"><a href=\"http://www.sri.cefetmg.br/\">SRI</a></li>\\n\\t</ul>\\n</li>\\n\\t<li id=\"menu-item-8460\" class=\"menu-item menu-item-type-post_type menu-item-object-page menu-item-has-children menu-item-8460\"><a href=\"https://www.cefetmg.br/instituicao/conselhos/\">Conselhos</a>\\n\\t<ul class=\"sub-menu\">\\n\\t\\t<li id=\"menu-item-8461\" class=\"menu-item menu-item-type-custom menu-item-object-custom menu-item-8461\"><a href=\"http://www.conselhodiretor.cefetmg.br/\">Conselho Diretor</a></li>\\n\\t\\t<li id=\"menu-item-8462\" class=\"menu-item menu-item-type-custom menu-item-object-custom menu-item-8462\"><a href=\"http://www.cepe.cefetmg.br/\">CEPE</a></li>\\n\\t\\t<li id=\"menu-item-8463\" class=\"menu-item menu-item-type-custom menu-item-object-custom menu-item-8463\"><a href=\"http://www.dept.cefetmg.br/apresentacao-2/\">CEPT</a></li>\\n\\t\\t<li id=\"menu-item-8464\" class=\"menu-item menu-item-type-custom menu-item-object-custom menu-item-8464\"><a href=\"http://www.dirgrad.cefetmg.br/conselho-de-graduacao/apresentacao/\">CGrad</a></li>\\n\\t\\t<li id=\"menu-item-8465\" class=\"menu-item menu-item-type-custom menu-item-object-custom menu-item-8465\"><a href=\"http://www.dppg.cefetmg.br/cppg/apresentacao/\">CPPG</a></li>\\n\\t\\t<li id=\"menu-item-8466\" class=\"menu-item menu-item-type-custom menu-item-object-custom menu-item-8466\"><a href=\"http://www.dedc.cefetmg.br/o-conselho/\">CExt</a></li>\\n\\t</ul>\\n</li>\\n\\t<li id=\"menu-item-8469\" class=\"menu-item menu-item-type-post_type menu-item-object-page menu-item-has-children menu-item-8469\"><a href=\"https://www.cefetmg.br/instituicao/comissoes-permanentes/\">Comiss\\xc3\\xb5es Permanentes</a>\\n\\t<ul class=\"sub-menu\">\\n\\t\\t<li id=\"menu-item-8470\" class=\"menu-item menu-item-type-custom menu-item-object-custom menu-item-8470\"><a href=\"http://www.vestibular.cefetmg.br\">COPEVE</a></li>\\n\\t\\t<li id=\"menu-item-8471\" class=\"menu-item menu-item-type-custom menu-item-object-custom menu-item-8471\"><a href=\"http://www.cpa.cefetmg.br/\">CPA</a></li>\\n\\t\\t<li id=\"menu-item-8472\" class=\"menu-item menu-item-type-post_type menu-item-object-page menu-item-8472\"><a href=\"https://www.cefetmg.br/instituicao/comissao-permanente-de-pessoal-docente/\">CPPD</a></li>\\n\\t\\t<li id=\"menu-item-8473\" class=\"menu-item menu-item-type-post_type menu-item-object-page menu-item-8473\"><a href=\"https://www.cefetmg.br/instituicao/comissao-interna-de-supervisao-do-plano-de-carreira-dos-tecnico-administrativos-em-educacao/\">CIS</a></li>\\n\\t\\t<li id=\"menu-item-8474\" class=\"menu-item menu-item-type-post_type menu-item-object-page menu-item-8474\"><a href=\"https://www.cefetmg.br/instituicao/comissao-de-iniciacao-cientifica/\">CIC</a></li>\\n\\t\\t<li id=\"menu-item-8475\" class=\"menu-item menu-item-type-custom menu-item-object-custom menu-item-8475\"><a href=\"http://www.cppi.cefetmg.br/\">CPPI</a></li>\\n\\t</ul>\\n</li>\\n\\t<li id=\"menu-item-8478\" class=\"menu-item menu-item-type-post_type menu-item-object-page menu-item-has-children menu-item-8478\"><a href=\"https://www.cefetmg.br/instituicao/campi/\">Campi</a>\\n\\t<ul class=\"sub-menu\">\\n\\t\\t<li id=\"menu-item-8479\" class=\"menu-item menu-item-type-custom menu-item-object-custom menu-item-8479\"><a href=\"http://www.araxa.cefetmg.br/\">Arax\\xc3\\xa1</a></li>\\n\\t\\t<li id=\"menu-item-8480\" class=\"menu-item menu-item-type-custom menu-item-object-custom menu-item-8480\"><a href=\"http://www.campus1.cefetmg.br/\">BH &#8211; Nova Su\\xc3\\xad\\xc3\\xa7a (I)</a></li>\\n\\t\\t<li id=\"menu-item-8481\" class=\"menu-item menu-item-type-custom menu-item-object-custom menu-item-8481\"><a href=\"http://www.campus2.cefetmg.br/\">BH &#8211; Nova Gameleira (II)</a></li>\\n\\t\\t<li id=\"menu-item-8482\" class=\"menu-item menu-item-type-custom menu-item-object-custom menu-item-8482\"><a href=\"http://www.campus6.cefetmg.br/\">BH &#8211; Gameleira (VI)</a></li>\\n\\t\\t<li id=\"menu-item-8483\" class=\"menu-item menu-item-type-custom menu-item-object-custom menu-item-8483\"><a href=\"http://www.contagem.cefetmg.br/\">Contagem</a></li>\\n\\t\\t<li id=\"menu-item-8484\" class=\"menu-item menu-item-type-custom menu-item-object-custom menu-item-8484\"><a href=\"http://www.curvelo.cefetmg.br/\">Curvelo</a></li>\\n\\t\\t<li id=\"menu-item-8485\" class=\"menu-item menu-item-type-custom menu-item-object-custom menu-item-8485\"><a href=\"http://www.divinopolis.cefetmg.br/\">Divin\\xc3\\xb3polis</a></li>\\n\\t\\t<li id=\"menu-item-8486\" class=\"menu-item menu-item-type-custom menu-item-object-custom menu-item-8486\"><a href=\"http://www.leopoldina.cefetmg.br/\">Leopoldina</a></li>\\n\\t\\t<li id=\"menu-item-8487\" class=\"menu-item menu-item-type-custom menu-item-object-custom menu-item-8487\"><a href=\"http://www.nepomuceno.cefetmg.br/\">Nepomuceno</a></li>\\n\\t\\t<li id=\"menu-item-8488\" class=\"menu-item menu-item-type-custom menu-item-object-custom menu-item-8488\"><a href=\"http://www.timoteo.cefetmg.br/\">Tim\\xc3\\xb3teo</a></li>\\n\\t\\t<li id=\"menu-item-8489\" class=\"menu-item menu-item-type-custom menu-item-object-custom menu-item-8489\"><a href=\"http://www.varginha.cefetmg.br/\">Varginha</a></li>\\n\\t</ul>\\n</li>\\n</ul>\\n</li>\\n<li id=\"menu-item-3052\" class=\"menu-item menu-item-type-post_type menu-item-object-page menu-item-has-children menu-item-3052\"><a href=\"https://www.cefetmg.br/ensino/\">Ensino</a>\\n<ul class=\"sub-menu\">\\n\\t<li id=\"menu-item-8494\" class=\"menu-item menu-item-type-post_type menu-item-object-page menu-item-8494\"><a href=\"https://www.cefetmg.br/educacao-profissional-tecnica-de-nivel-medio/\">Ed. T\\xc3\\xa9cnica de N\\xc3\\xadvel M\\xc3\\xa9dio</a></li>\\n\\t<li id=\"menu-item-8495\" class=\"menu-item menu-item-type-post_type menu-item-object-page menu-item-8495\"><a href=\"https://www.cefetmg.br/graduacao/\">Gradua\\xc3\\xa7\\xc3\\xa3o</a></li>\\n\\t<li id=\"menu-item-8496\" class=\"menu-item menu-item-type-post_type menu-item-object-page menu-item-8496\"><a href=\"https://www.cefetmg.br/pos-graduacao/\">P\\xc3\\xb3s-Gradua\\xc3\\xa7\\xc3\\xa3o</a></li>\\n</ul>\\n</li>\\n<li id=\"menu-item-6052\" class=\"menu-item menu-item-type-post_type menu-item-object-page menu-item-has-children menu-item-6052\"><a href=\"https://www.cefetmg.br/pesquisa/\">Pesquisa</a>\\n<ul class=\"sub-menu\">\\n\\t<li id=\"menu-item-8522\" class=\"menu-item menu-item-type-custom menu-item-object-custom menu-item-8522\"><a href=\"http://www.dppg.cefetmg.br/\">DPPG</a></li>\\n\\t<li id=\"menu-item-8528\" class=\"menu-item menu-item-type-post_type menu-item-object-page menu-item-has-children menu-item-8528\"><a href=\"https://www.cefetmg.br/pesquisa/coordenacoes/\">Coordena\\xc3\\xa7\\xc3\\xb5es</a>\\n\\t<ul class=\"sub-menu\">\\n\\t\\t<li id=\"menu-item-8529\" class=\"menu-item menu-item-type-custom menu-item-object-custom menu-item-8529\"><a href=\"http://www.cgdct.cefetmg.br/\">Divulga\\xc3\\xa7\\xc3\\xa3o Cient. e Tec.</a></li>\\n\\t\\t<li id=\"menu-item-8530\" class=\"menu-item menu-item-type-custom menu-item-object-custom menu-item-8530\"><a href=\"http://www.dppg.cefetmg.br/coordenacao-de-fomento/\">Fomento \\xc3\\xa0 P&#038;PG</a></li>\\n\\t\\t<li id=\"menu-item-8531\" class=\"menu-item menu-item-type-custom menu-item-object-custom menu-item-8531\"><a href=\"http://www.cgpgl.cefetmg.br/\">P\\xc3\\xb3s-Gradua\\xc3\\xa7\\xc3\\xa3o lato sensu</a></li>\\n\\t\\t<li id=\"menu-item-8532\" class=\"menu-item menu-item-type-custom menu-item-object-custom menu-item-8532\"><a href=\"http://www.dppg.cefetmg.br/programas-stricto-sensu/\">P\\xc3\\xb3s-Gradua\\xc3\\xa7\\xc3\\xa3o stricto sensu</a></li>\\n\\t</ul>\\n</li>\\n\\t<li id=\"menu-item-8533\" class=\"menu-item menu-item-type-custom menu-item-object-custom menu-item-8533\"><a href=\"http://www.cep.cefetmg.br/\">Comit\\xc3\\xaa de \\xc3\\x89tica</a></li>\\n\\t<li id=\"menu-item-8534\" class=\"menu-item menu-item-type-custom menu-item-object-custom menu-item-8534\"><a href=\"http://www.dppg.cefetmg.br/iniciacao-cientifica/apresentacao/\">Inicia\\xc3\\xa7\\xc3\\xa3o Cient\\xc3\\xadfica</a></li>\\n\\t<li id=\"menu-item-8535\" class=\"menu-item menu-item-type-custom menu-item-object-custom menu-item-8535\"><a href=\"http://www.dppg.cefetmg.br/apresentacao/\">Grupos de Pesquisa</a></li>\\n\\t<li id=\"menu-item-8536\" class=\"menu-item menu-item-type-custom menu-item-object-custom menu-item-8536\"><a href=\"http://www.somos.cefetmg.br/\">Somos</a></li>\\n\\t<li id=\"menu-item-8537\" class=\"menu-item menu-item-type-custom menu-item-object-custom menu-item-8537\"><a href=\"https://periodicos.cefetmg.br/index.php/revista-et\">Revista Ed. &#038; Tecnologia</a></li>\\n\\t<li id=\"menu-item-8538\" class=\"menu-item menu-item-type-custom menu-item-object-custom menu-item-8538\"><a href=\"http://www.secom.cefetmg.br/tunel/\">Revista T\\xc3\\xbanel</a></li>\\n\\t<li id=\"menu-item-8539\" class=\"menu-item menu-item-type-post_type menu-item-object-page menu-item-8539\"><a href=\"https://www.cefetmg.br/editais-e-chamadas-publicas/\">Editais e chamadas p\\xc3\\xbablicas</a></li>\\n</ul>\\n</li>\\n<li id=\"menu-item-3066\" class=\"menu-item menu-item-type-custom menu-item-object-custom menu-item-3066\"><a href=\"http://www.dedc.cefetmg.br/\">Extens\\xc3\\xa3o</a></li>\\n<li id=\"menu-item-3067\" class=\"menu-item menu-item-type-custom menu-item-object-custom menu-item-3067\"><a href=\"http://www.sri.cefetmg.br/\">Internacionaliza\\xc3\\xa7\\xc3\\xa3o</a></li>\\n<li id=\"menu-item-3071\" class=\"menu-item menu-item-type-post_type menu-item-object-page menu-item-has-children menu-item-3071\"><a href=\"https://www.cefetmg.br/aluno/\">Aluno</a>\\n<ul class=\"sub-menu\">\\n\\t<li id=\"menu-item-8921\" class=\"menu-item menu-item-type-post_type menu-item-object-page menu-item-has-children menu-item-8921\"><a href=\"https://www.cefetmg.br/aluno/servicos/\">Servi\\xc3\\xa7os</a>\\n\\t<ul class=\"sub-menu\">\\n\\t\\t<li id=\"menu-item-8922\" class=\"menu-item menu-item-type-post_type menu-item-object-page menu-item-8922\"><a href=\"https://www.cefetmg.br/calendario-academico/\">Calend\\xc3\\xa1rio acad\\xc3\\xaamico</a></li>\\n\\t\\t<li id=\"menu-item-8923\" class=\"menu-item menu-item-type-custom menu-item-object-custom menu-item-8923\"><a href=\"http://www.dirgrad.cefetmg.br/wp-content/uploads/sites/81/2019/01/2019_1_Guia_Graduacao_A5_CEFETMG_WEB.pdf\">Guia Acad\\xc3\\xaamico da Gradua\\xc3\\xa7\\xc3\\xa3o</a></li>\\n\\t\\t<li id=\"menu-item-8924\" class=\"menu-item menu-item-type-custom menu-item-object-custom menu-item-8924\"><a href=\"http://www.bu.cefetmg.br/\">Biblioteca</a></li>\\n\\t\\t<li id=\"menu-item-8925\" class=\"menu-item menu-item-type-custom menu-item-object-custom menu-item-8925\"><a href=\"https://www.cefetmg.br/wp-content/uploads/2019/09/Cartilha_Smode_2011_compressed.pdf\">Smode</a></li>\\n\\t\\t<li id=\"menu-item-8926\" class=\"menu-item menu-item-type-custom menu-item-object-custom menu-item-8926\"><a href=\"http://www.campus1.cefetmg.br/intercampi/\">Transporte intercampi</a></li>\\n\\t\\t<li id=\"menu-item-8927\" class=\"menu-item menu-item-type-custom menu-item-object-custom menu-item-8927\"><a href=\"http://www.dirgrad.cefetmg.br/dirgrad/editais/\">Editais da Gradua\\xc3\\xa7\\xc3\\xa3o</a></li>\\n\\t\\t<li id=\"menu-item-8928\" class=\"menu-item menu-item-type-custom menu-item-object-custom menu-item-8928\"><a href=\"http://www.spe.cefetmg.br/orientacoes-de-utilizacao/\">Alimenta\\xc3\\xa7\\xc3\\xa3o</a></li>\\n\\t</ul>\\n</li>\\n\\t<li id=\"menu-item-8920\" class=\"menu-item menu-item-type-post_type menu-item-object-page menu-item-has-children menu-item-8920\"><a href=\"https://www.cefetmg.br/aluno/setores/\">Setores</a>\\n\\t<ul class=\"sub-menu\">\\n\\t\\t<li id=\"menu-item-8929\" class=\"menu-item menu-item-type-custom menu-item-object-custom menu-item-8929\"><a href=\"http://www.spe.cefetmg.br/\">Pol\\xc3\\xadtica Estudantil</a></li>\\n\\t\\t<li id=\"menu-item-8930\" class=\"menu-item menu-item-type-custom menu-item-object-custom menu-item-8930\"><a href=\"http://www.srca.cefetmg.br/\">Registro e Controle Acad\\xc3\\xaamico</a></li>\\n\\t\\t<li id=\"menu-item-8931\" class=\"menu-item menu-item-type-custom menu-item-object-custom menu-item-8931\"><a href=\"http://www.estagio.cefetmg.br/\">Est\\xc3\\xa1gio</a></li>\\n\\t\\t<li id=\"menu-item-8932\" class=\"menu-item menu-item-type-custom menu-item-object-custom menu-item-8932\"><a href=\"http://www.egressos.cefetmg.br/\">N\\xc3\\xbacleo de Egressos</a></li>\\n\\t</ul>\\n</li>\\n\\t<li id=\"menu-item-8919\" class=\"menu-item menu-item-type-post_type menu-item-object-page menu-item-has-children menu-item-8919\"><a href=\"https://www.cefetmg.br/aluno/acesso/\">Acesso</a>\\n\\t<ul class=\"sub-menu\">\\n\\t\\t<li id=\"menu-item-8933\" class=\"menu-item menu-item-type-custom menu-item-object-custom menu-item-8933\"><a href=\"https://iu.cefetmg.br/\">Identidade \\xc3\\x9anica</a></li>\\n\\t\\t<li id=\"menu-item-8934\" class=\"menu-item menu-item-type-custom menu-item-object-custom menu-item-8934\"><a href=\"https://ava.cefetmg.br/\">AVA (Moodle)</a></li>\\n\\t\\t<li id=\"menu-item-8935\" class=\"menu-item menu-item-type-custom menu-item-object-custom menu-item-8935\"><a href=\"https://sig.cefetmg.br/admin/public/loginunificado/index.jsf\">Sistema Acad\\xc3\\xaamico</a></li>\\n\\t\\t<li id=\"menu-item-8936\" class=\"menu-item menu-item-type-custom menu-item-object-custom menu-item-8936\"><a href=\"http://www.sgi.cefetmg.br/rede-sem-fio/\">Rede Wi-Fi</a></li>\\n\\t</ul>\\n</li>\\n</ul>\\n</li>\\n<li id=\"menu-item-3074\" class=\"menu-item menu-item-type-post_type menu-item-object-page menu-item-has-children menu-item-3074\"><a href=\"https://www.cefetmg.br/servidor/\">Servidor</a>\\n<ul class=\"sub-menu\">\\n\\t<li id=\"menu-item-8938\" class=\"menu-item menu-item-type-custom menu-item-object-custom menu-item-8938\"><a href=\"http://www.bu.cefetmg.br/\">Biblioteca</a></li>\\n\\t<li id=\"menu-item-8939\" class=\"menu-item menu-item-type-custom menu-item-object-custom menu-item-8939\"><a href=\"https://www.cefetmg.br/wp-content/uploads/2019/09/Cartilha_Smode_2011_compressed.pdf\">Cartilha Smode</a></li>\\n\\t<li id=\"menu-item-8940\" class=\"menu-item menu-item-type-custom menu-item-object-custom menu-item-8940\"><a href=\"https://iu.cefetmg.br/login/?next=/\">Identifica\\xc3\\xa7\\xc3\\xa3o \\xc3\\x9anica</a></li>\\n\\t<li id=\"menu-item-8941\" class=\"menu-item menu-item-type-custom menu-item-object-custom menu-item-8941\"><a href=\"http://www.prefeitura.cefetmg.br/\">Prefeitura</a></li>\\n\\t<li id=\"menu-item-8942\" class=\"menu-item menu-item-type-custom menu-item-object-custom menu-item-8942\"><a href=\"http://www.dpg.cefetmg.br/\">Formul\\xc3\\xa1rios DPG</a></li>\\n\\t<li id=\"menu-item-8943\" class=\"menu-item menu-item-type-custom menu-item-object-custom menu-item-8943\"><a href=\"https://cs.sgi.cefetmg.br/\">Central de Servi\\xc3\\xa7os TI</a></li>\\n\\t<li id=\"menu-item-8944\" class=\"menu-item menu-item-type-custom menu-item-object-custom menu-item-8944\"><a href=\"http://www.mapa.cefetmg.br/\">MaPA</a></li>\\n\\t<li id=\"menu-item-8945\" class=\"menu-item menu-item-type-custom menu-item-object-custom menu-item-8945\"><a href=\"http://www.sgi.cefetmg.br/rede-sem-fio/\">Rede Wi-Fi</a></li>\\n\\t<li id=\"menu-item-8946\" class=\"menu-item menu-item-type-custom menu-item-object-custom menu-item-8946\"><a href=\"https://sig.cefetmg.br/admin/public/loginunificado/index.jsf\">SIG</a></li>\\n</ul>\\n</li>\\n<li id=\"menu-item-3075\" class=\"menu-item menu-item-type-post_type menu-item-object-page menu-item-has-children menu-item-3075\"><a href=\"https://www.cefetmg.br/concursos/\">Concursos</a>\\n<ul class=\"sub-menu\">\\n\\t<li id=\"menu-item-8949\" class=\"menu-item menu-item-type-post_type menu-item-object-page menu-item-8949\"><a href=\"https://www.cefetmg.br/concursos/professor-efetivo/\">Professor efetivo</a></li>\\n\\t<li id=\"menu-item-8947\" class=\"menu-item menu-item-type-custom menu-item-object-custom menu-item-8947\"><a href=\"http://www.segep.cefetmg.br/professor-substituto/selecao-prof-substituto/\">Professor substituto</a></li>\\n\\t<li id=\"menu-item-8948\" class=\"menu-item menu-item-type-post_type menu-item-object-page menu-item-8948\"><a href=\"https://www.cefetmg.br/concursos/tecnico-administrativo-em-educacao/\">T\\xc3\\xa9cnico Administrativo em Educa\\xc3\\xa7\\xc3\\xa3o</a></li>\\n</ul>\\n</li>\\n<li id=\"menu-item-3078\" class=\"menu-item menu-item-type-post_type menu-item-object-page menu-item-has-children menu-item-3078\"><a href=\"https://www.cefetmg.br/acesso-a-informacao/\">Acesso \\xc3\\xa0 Informa\\xc3\\xa7\\xc3\\xa3o</a>\\n<ul class=\"sub-menu\">\\n\\t<li id=\"menu-item-8984\" class=\"menu-item menu-item-type-post_type menu-item-object-page menu-item-8984\"><a href=\"https://www.cefetmg.br/acesso-a-informacao/carta-de-servicos-ao-cidadao/\">Carta de Servi\\xc3\\xa7os</a></li>\\n\\t<li id=\"menu-item-9021\" class=\"menu-item menu-item-type-post_type menu-item-object-page menu-item-has-children menu-item-9021\"><a href=\"https://www.cefetmg.br/acesso-a-informacao/compras/\">Compras</a>\\n\\t<ul class=\"sub-menu\">\\n\\t\\t<li id=\"menu-item-8985\" class=\"menu-item menu-item-type-custom menu-item-object-custom menu-item-8985\"><a href=\"http://www.transparencia.gov.br/convenios/consulta?periodoLiberacaoRecursosDe=01%2F01%2F2018&#038;periodoLiberacaoRecursosAte=31%2F12%2F2018&#038;orgaos=OR26257&#038;ordenarPor=concedente&#038;direcao=desc\">Conv\\xc3\\xaanios</a></li>\\n\\t\\t<li id=\"menu-item-8986\" class=\"menu-item menu-item-type-custom menu-item-object-custom menu-item-8986\"><a href=\"http://www.transparencia.gov.br/despesas/orgao?&#038;orgaos=OR26257&#038;ordenarPor=orgaoSuperior&#038;direcao=asc\">Despesas</a></li>\\n\\t\\t<li id=\"menu-item-8987\" class=\"menu-item menu-item-type-custom menu-item-object-custom menu-item-8987\"><a href=\"http://www.sccont.cefetmg.br/\">Contratos</a></li>\\n\\t\\t<li id=\"menu-item-8988\" class=\"menu-item menu-item-type-custom menu-item-object-custom menu-item-8988\"><a href=\"http://www.slog.cefetmg.br/divisao-de-compras-dicom/licitacoes/\">Licita\\xc3\\xa7\\xc3\\xb5es</a></li>\\n\\t</ul>\\n</li>\\n\\t<li id=\"menu-item-8989\" class=\"menu-item menu-item-type-custom menu-item-object-custom menu-item-8989\"><a href=\"http://www.portaltransparencia.gov.br/?minifiedPath=%2Fminified&#038;projectVersion=1.11.0\">Servidores</a></li>\\n\\t<li id=\"menu-item-8990\" class=\"menu-item menu-item-type-post_type menu-item-object-page menu-item-8990\"><a href=\"https://www.cefetmg.br/acesso-a-informacao/servico-de-informacao-ao-cidadao/\">Serv. de Inf. ao Cidad\\xc3\\xa3o</a></li>\\n\\t<li id=\"menu-item-8993\" class=\"menu-item menu-item-type-post_type menu-item-object-page menu-item-has-children menu-item-8993\"><a href=\"https://www.cefetmg.br/acesso-a-informacao/sobre-a-lei/\">Sobre a Lei</a>\\n\\t<ul class=\"sub-menu\">\\n\\t\\t<li id=\"menu-item-8994\" class=\"menu-item menu-item-type-custom menu-item-object-custom menu-item-8994\"><a href=\"http://www.cgu.gov.br/acessoainformacaogov/materiais-interesse/CartilhaAcessoaInformacao.pdf\">Cartilha</a></li>\\n\\t\\t<li id=\"menu-item-8995\" class=\"menu-item menu-item-type-custom menu-item-object-custom menu-item-8995\"><a href=\"http://www.cgu.gov.br/acessoainformacaogov/acesso-informacao-brasil/legislacao-integra-texto-completo.asp\">Lei n\\xc2\\xba 12.527, de 16/05/2012</a></li>\\n\\t</ul>\\n</li>\\n\\t<li id=\"menu-item-8996\" class=\"menu-item menu-item-type-post_type menu-item-object-page menu-item-has-children menu-item-8996\"><a href=\"https://www.cefetmg.br/instituicao/\">Institucional</a>\\n\\t<ul class=\"sub-menu\">\\n\\t\\t<li id=\"menu-item-8997\" class=\"menu-item menu-item-type-post_type menu-item-object-page menu-item-8997\"><a href=\"https://www.cefetmg.br/instituicao/diretoria-geral/\">Apresenta\\xc3\\xa7\\xc3\\xa3o</a></li>\\n\\t\\t<li id=\"menu-item-8998\" class=\"menu-item menu-item-type-post_type menu-item-object-page menu-item-8998\"><a href=\"https://www.cefetmg.br/instituicao/quem-e-quem/\">Quem \\xc3\\xa9 quem</a></li>\\n\\t\\t<li id=\"menu-item-8999\" class=\"menu-item menu-item-type-custom menu-item-object-custom menu-item-8999\"><a href=\"https://www.cefetmg.br/wp-content/uploads/2020/03/Organograma-Conselho-Diretor-DG-CEFETMG-2019_2020.png\">Organograma</a></li>\\n\\t\\t<li id=\"menu-item-9010\" class=\"menu-item menu-item-type-post_type menu-item-object-page menu-item-9010\"><a href=\"https://www.cefetmg.br/instituicao/estatuto-do-cefet-mg/\">Estatuto do CEFET-MG</a></li>\\n\\t\\t<li id=\"menu-item-9000\" class=\"menu-item menu-item-type-post_type menu-item-object-page menu-item-9000\"><a href=\"https://www.cefetmg.br/instituicao/horario-de-atendimento/\">Hor\\xc3\\xa1rio de Atendimento</a></li>\\n\\t\\t<li id=\"menu-item-9001\" class=\"menu-item menu-item-type-post_type menu-item-object-page menu-item-9001\"><a href=\"https://www.cefetmg.br/instituicao/telefones-e-enderecos/\">Telefones e endere\\xc3\\xa7os</a></li>\\n\\t\\t<li id=\"menu-item-9009\" class=\"menu-item menu-item-type-post_type menu-item-object-page menu-item-9009\"><a href=\"https://www.cefetmg.br/instituicao/plano-de-desenvolvimento-institucional-pdi/\">PDI</a></li>\\n\\t\\t<li id=\"menu-item-9007\" class=\"menu-item menu-item-type-post_type menu-item-object-page menu-item-9007\"><a href=\"https://www.cefetmg.br/acesso-a-informacao/relatorio-de-autoavaliacao-institucional/\">Autoavalia\\xc3\\xa7\\xc3\\xa3o Institucional</a></li>\\n\\t</ul>\\n</li>\\n\\t<li id=\"menu-item-9008\" class=\"menu-item menu-item-type-post_type menu-item-object-page menu-item-9008\"><a href=\"https://www.cefetmg.br/acesso-a-informacao/relatorios-de-auditoria-anual-de-contas/\">Auditoria Anual de Contas</a></li>\\n\\t<li id=\"menu-item-9002\" class=\"menu-item menu-item-type-custom menu-item-object-custom menu-item-9002\"><a href=\"http://www.audit.cefetmg.br/\">Auditoria Interna</a></li>\\n\\t<li id=\"menu-item-9003\" class=\"menu-item menu-item-type-post_type menu-item-object-page menu-item-9003\"><a href=\"https://www.cefetmg.br/acesso-a-informacao/informacoes-classificadas/\">Informa\\xc3\\xa7\\xc3\\xb5es classificadas</a></li>\\n\\t<li id=\"menu-item-9022\" class=\"menu-item menu-item-type-post_type menu-item-object-page menu-item-has-children menu-item-9022\"><a href=\"https://www.cefetmg.br/instituicao/numeros/\">N\\xc3\\xbameros</a>\\n\\t<ul class=\"sub-menu\">\\n\\t\\t<li id=\"menu-item-9004\" class=\"menu-item menu-item-type-post_type menu-item-object-page menu-item-9004\"><a href=\"https://www.cefetmg.br/instituicao/relatorios-de-gestao/\">Relat\\xc3\\xb3rios de Gest\\xc3\\xa3o</a></li>\\n\\t\\t<li id=\"menu-item-9005\" class=\"menu-item menu-item-type-post_type menu-item-object-page menu-item-9005\"><a href=\"https://www.cefetmg.br/instituicao/cefet-mg-em-numeros/\">CEFET-MG em N\\xc3\\xbameros</a></li>\\n\\t\\t<li id=\"menu-item-9006\" class=\"menu-item menu-item-type-post_type menu-item-object-page menu-item-9006\"><a href=\"https://www.cefetmg.br/instituicao/dados-estatisticos/\">Dados Estat\\xc3\\xadsticos</a></li>\\n\\t</ul>\\n</li>\\n\\t<li id=\"menu-item-9011\" class=\"menu-item menu-item-type-custom menu-item-object-custom menu-item-9011\"><a href=\"http://www.sgi.cefetmg.br/pda/\">Pol\\xc3\\xadtica de Dados Abertos</a></li>\\n\\t<li id=\"menu-item-9012\" class=\"menu-item menu-item-type-custom menu-item-object-custom menu-item-9012\"><a href=\"https://www.cefetmg.br/wp-content/uploads/2019/09/Perguntas-e-Respostas-Diarias-e-Passagens-Manual-da-CGU1.pdf\">Di\\xc3\\xa1rias e Passagens</a></li>\\n\\t<li id=\"menu-item-9013\" class=\"menu-item menu-item-type-post_type menu-item-object-page menu-item-9013\"><a href=\"https://www.cefetmg.br/acesso-a-informacao/fundacao-de-apoio/\">Funda\\xc3\\xa7\\xc3\\xa3o de apoio</a></li>\\n</ul>\\n</li>\\n<li id=\"menu-item-8757\" class=\"menu-item menu-item-type-post_type menu-item-object-page menu-item-has-children menu-item-8757\"><a href=\"https://www.cefetmg.br/sistemas-institucionais-integrados/\">Sistemas</a>\\n<ul class=\"sub-menu\">\\n\\t<li id=\"menu-item-8758\" class=\"menu-item menu-item-type-custom menu-item-object-custom menu-item-8758\"><a href=\"https://sig.cefetmg.br/sigaa\">SIGAA</a></li>\\n\\t<li id=\"menu-item-8759\" class=\"menu-item menu-item-type-custom menu-item-object-custom menu-item-8759\"><a href=\"https://sig.cefetmg.br/sipac/\">SIPAC</a></li>\\n\\t<li id=\"menu-item-8760\" class=\"menu-item menu-item-type-custom menu-item-object-custom menu-item-8760\"><a href=\"https://sig.cefetmg.br/sigrh\">SIGRH</a></li>\\n</ul>\\n</li>\\n<li id=\"menu-item-8510\" class=\"menu-item menu-item-type-post_type menu-item-object-page menu-item-8510\"><a href=\"https://www.cefetmg.br/coronavirus/\">Coronav\\xc3\\xadrus</a></li>\\n<li id=\"menu-item-9668\" class=\"menu-item menu-item-type-post_type menu-item-object-page menu-item-9668\"><a href=\"https://www.cefetmg.br/ensino-remoto-emergencial/\">Ensino Remoto Emergencial</a></li>\\n</ul>\\t\\t\\t\\t\\t</nav>\\n\\n\\t\\t\\t\\t\\t<a href=\"https://www.cefetmg.br\">\\n\\t\\t\\t\\t\\t\\t<img src=\"https://www.cefetmg.br/wp-content/uploads/2019/11/logo_topo.png\" alt=\"CEFET-MG\" />\\n\\t\\t\\t\\t\\t</a>\\n\\t\\t\\t\\t</section>\\n\\n\\t\\t\\t\\t<section class=\"header_acessibilidade\">\\n\\t\\t\\t\\t\\t<ul>\\n\\t\\t\\t\\t\\t\\t<li><a href=\"https://email.cefetmg.br/\" target=\"_blank\"><img src=\"https://www.cefetmg.br/wp-content/themes/principal/img/email1.png\" alt=\"E-mail Institucional\" title=\"E-mail Institucional\" /></a></li>\\n\\t\\t\\t\\t\\t\\t<li class=\"btn_busca\"><img src=\"https://www.cefetmg.br/wp-content/themes/principal/img/header1.png\" alt=\"Pesquisar\" title=\"Pesquisar\" /></li>\\n\\t\\t\\t\\t\\t\\t<li><a href=\"javascript:;\" id=\"altocontraste\" onclick=\"window.toggleContrast()\" onkeydown=\"window.toggleContrast()\"><img src=\"https://www.cefetmg.br/wp-content/themes/principal/img/header2.png\" alt=\"Alto Contraste\" title=\"Alto Contraste\" /></a></li>\\n\\t\\t\\t\\t\\t\\t<li><a href=\"Acessibilidade#acessibilidade\" target=\"_blank\"><img src=\"https://www.cefetmg.br/wp-content/themes/principal/img/header3.png\" alt=\"Acessibilidade\" title=\"Acessibilidade\" /></a></li>\\n\\t\\t\\t\\t\\t\\t<li><a href=\"mapa-do-site#Mapa do Site\" target=\"_blank\"><img src=\"https://www.cefetmg.br/wp-content/themes/principal/img/header4.png\" alt=\"Mapa do Site\" title=\"Mapa do Site\" /></a></li>\\n\\t\\t\\t\\t\\t</ul>\\n\\t\\t\\t\\t\\t<div class=\"form_busca\">\\n\\t\\t\\t\\t\\t\\t<div class=\"container\">\\n\\t\\t\\t\\t\\t\\t\\t<div class=\"row\">\\n\\t\\t\\t\\t\\t\\t\\t\\t<div class=\"col-12\">\\n\\t\\t\\t\\t\\t\\t\\t\\t\\t<div>\\n    <form role=\"search\" method=\"get\" action=\"https://www.cefetmg.br/\">\\n        <fieldset>\\n            <div>\\n                <input type=\"search\" placeholder=\"Buscar...\" value=\"\" name=\"s\" required style=\"width:100%;\" />\\n            </div>\\n        </fieldset>\\n    </form>\\n</div>\\t\\t\\t\\t\\t\\t\\t\\t</div>\\n\\t\\t\\t\\t\\t\\t\\t</div>\\n\\t\\t\\t\\t\\t\\t</div>\\n\\t\\t\\t\\t</section>\\n\\n\\t\\t</div>\\n\\t</header>\\n\\n\\t<section class=\"slider\">\\n\\t\\t<div class=\"container\">\\n\\t\\t\\t<div>\\n\\t\\t\\t\\t<div class=\"n2-section-smartslider \" role=\"region\" aria-label=\"Slider\"><style>div#n2-ss-1{width:1200px;float:left;margin:0px 0px 0px 0px;}html[dir=\"rtl\"] div#n2-ss-1{float:right;}div#n2-ss-1 .n2-ss-slider-1{position:relative;padding-top:0px;padding-right:0px;padding-bottom:0px;padding-left:0px;height:500px;border-style:solid;border-width:0px;border-color:#3e3e3e;border-color:RGBA(62,62,62,1);border-radius:0px;background-clip:padding-box;background-repeat:repeat;background-position:50% 50%;background-size:cover;background-attachment:scroll;}div#n2-ss-1 .n2-ss-slider-background-video-container{position:absolute;left:0;top:0;width:100%;height:100%;overflow:hidden;}div#n2-ss-1 .n2-ss-slider-2{position:relative;width:100%;height:100%;}.x-firefox div#n2-ss-1 .n2-ss-slider-2{opacity:0.99999;}div#n2-ss-1 .n2-ss-slider-3{position:relative;width:100%;height:100%;overflow:hidden;outline:1px solid rgba(0,0,0,0);z-index:10;}div#n2-ss-1 .n2-ss-slide-backgrounds,div#n2-ss-1 .n2-ss-slider-3 > .n-particles-js-canvas-el,div#n2-ss-1 .n2-ss-slider-3 > .n2-ss-divider{position:absolute;left:0;top:0;width:100%;height:100%;}div#n2-ss-1 .n2-ss-slide-backgrounds{z-index:10;}div#n2-ss-1 .n2-ss-slider-3 > .n-particles-js-canvas-el{z-index:12;}div#n2-ss-1 .n2-ss-slide-backgrounds > *{overflow:hidden;}div#n2-ss-1 .n2-ss-slide{position:absolute;top:0;left:0;width:100%;height:100%;z-index:20;display:block;-webkit-backface-visibility:hidden;}div#n2-ss-1 .n2-ss-layers-container{position:relative;width:1200px;height:500px;}div#n2-ss-1 .n2-ss-parallax-clip > .n2-ss-layers-container{position:absolute;right:0;}div#n2-ss-1 .n2-ss-slide{perspective:1500px;}div#n2-ss-1[data-ie] .n2-ss-slide{perspective:none;transform:perspective(1500px);}div#n2-ss-1 .n2-ss-slide-active{z-index:21;}div#n2-ss-1 .nextend-bar-horizontal div *{display:inline;}div#n2-ss-1 .nextend-thumbnail-default,div#n2-ss-1 .nextend-thumbnail-inner{overflow:hidden;}div#n2-ss-1 .n2-ss-thumb-image{display:flex;flex:0 0 auto;align-items:center;justify-content:center;background-position:center center;background-size:cover;}div#n2-ss-1 .nextend-thumbnail-inner{width:100%;height:100%;}div#n2-ss-1 .nextend-thumbnail-button{position:absolute;z-index:2;transition:all 0.4s;opacity:0;cursor:pointer;}div#n2-ss-1 .nextend-thumbnail-vertical .nextend-thumbnail-button{left:50%;margin-left:-13px !important;}div#n2-ss-1 .nextend-thumbnail-vertical .nextend-thumbnail-previous{top:-26px;}div#n2-ss-1 .nextend-thumbnail-vertical .nextend-thumbnail-previous.n2-active{top:10px;opacity:1;}div#n2-ss-1 .nextend-thumbnail-vertical .nextend-thumbnail-next{bottom:-26px;}div#n2-ss-1 .nextend-thumbnail-vertical .nextend-thumbnail-next.n2-active{bottom:10px;opacity:1;}div#n2-ss-1 .nextend-thumbnail-horizontal .nextend-thumbnail-button{top:50%;margin-top:-13px !important;transform:rotateZ(-90deg);}div#n2-ss-1 .nextend-thumbnail-horizontal .nextend-thumbnail-previous{left:-26px;}div#n2-ss-1 .nextend-thumbnail-horizontal .nextend-thumbnail-previous.n2-active{left:10px;opacity:1;}div#n2-ss-1 .nextend-thumbnail-horizontal .nextend-thumbnail-next{right:-26px;}div#n2-ss-1 .nextend-thumbnail-horizontal .nextend-thumbnail-next.n2-active{right:10px;opacity:1;}div#n2-ss-1 .nextend-thumbnail-default .nextend-thumbnail-scroller{position:relative;box-sizing:border-box !important;white-space:nowrap;display:flex;flex-direction:column;}div#n2-ss-1 .nextend-thumbnail-horizontal .nextend-thumbnail-scroller{flex-direction:column;}div#n2-ss-1 .nextend-thumbnail-vertical .nextend-thumbnail-scroller{flex-direction:row;}div#n2-ss-1 .nextend-thumbnail-scroller.n2-align-content-start .nextend-thumbnail-scroller-group{justify-content:flex-start;}div#n2-ss-1 .nextend-thumbnail-scroller.n2-align-content-center .nextend-thumbnail-scroller-group{justify-content:center;}div#n2-ss-1 .nextend-thumbnail-scroller.n2-align-content-end .nextend-thumbnail-scroller-group{justify-content:flex-end;}div#n2-ss-1 .nextend-thumbnail-scroller.n2-align-content-space-around .nextend-thumbnail-scroller-group{justify-content:space-around;}div#n2-ss-1 .nextend-thumbnail-scroller.n2-align-content-space-between .nextend-thumbnail-scroller-group{justify-content:space-between;}html[dir=\"rtl\"] div#n2-ss-1 .nextend-thumbnail-default .nextend-thumbnail-scroller{position:relative;float:right;}div#n2-ss-1 .nextend-thumbnail-scroller-group{display:flex;flex-flow:column;}div#n2-ss-1 .nextend-thumbnail-horizontal .nextend-thumbnail-scroller-group{display:flex;flex-flow:row;}div#n2-ss-1 .nextend-thumbnail-default .nextend-thumbnail-scroller .nextend-thumbnail-scroller-group > div{display:flex;position:relative;flex:0 0 auto;box-sizing:content-box !important;cursor:pointer;overflow:hidden;}div#n2-ss-1 .nextend-thumbnail-horizontal .nextend-thumbnail-scroller .nextend-thumbnail-scroller-group > div{flex-flow:column;}div#n2-ss-1 .nextend-thumbnail-default .nextend-thumbnail-scroller .nextend-thumbnail-scroller-group > div.n2-active{cursor:default;}div#n2-ss-1 .nextend-thumbnail-default .n2-ss-caption{display:inline-block;white-space:normal;box-sizing:border-box !important;overflow:hidden;}div#n2-ss-1 .nextend-thumbnail-default .n2-caption-overlay{position:absolute;}div#n2-ss-1 .nextend-thumbnail-default .n2-caption-overlay div{float:left;clear:left;}div#n2-ss-1 .nextend-thumbnail-horizontal .n2-ss-caption{display:block;}div#n2-ss-1 .nextend-thumbnail-vertical .n2-caption-after,div#n2-ss-1 .nextend-thumbnail-vertical .n2-caption-before{height:100%;}div#n2-ss-1 .n-uc-1cec3f6a93819-inner{transition:all .3s;transition-property:border,background-image,background-color,border-radius,box-shadow;background:URL(\"//www.cefetmg.br/wp-content/uploads/2020/10/banner_gradua\\xc3\\xa7\\xc3\\xa3o2.jpg\") 50% 50% / cover no-repeat;}div#n2-ss-1 .n-uc-cABpwSqF7UwO-inner{transition:all .3s;transition-property:border,background-image,background-color,border-radius,box-shadow;background:URL(\"//www.cefetmg.br/wp-content/uploads/2020/10/COPEVE-ProcessoSeletivoGraduacao-CEFETMG.mov_snapshot_00.37_2020.10.01_15.14.58.jpg\") 50% 50% / cover no-repeat;}div#n2-ss-1 .n-uc-1435844958443-inner{transition:all .3s;transition-property:border,background-image,background-color,border-radius,box-shadow;background:URL(\"//www.cefetmg.br/wp-content/uploads/2020/09/semana_avaliacao_site.jpg\") 50% 50% / cover no-repeat;}div#n2-ss-1 .n-uc-1de741a56130c-inner{transition:all .3s;transition-property:border,background-image,background-color,border-radius,box-shadow;background:URL(\"//www.cefetmg.br/wp-content/uploads/2020/09/varginha.jpg\") 50% 50% / cover no-repeat;}div#n2-ss-1 .n2-style-52dd7db57bea5e384249a7b1c088bd28-simple{background: #000000;background: RGBA(0,0,0,0.37);opacity:1;padding:20px 20px 20px 20px ;box-shadow: none;border-width: 0px;border-style: solid;border-color: #000000; border-color: RGBA(0,0,0,1);border-radius:0px;}div#n2-ss-1 .n2-font-d2015250c8568807f9d7b8d432d1a051-simple{font-family: \\'Roboto\\';color: #ffffff;font-size:150%;text-shadow: none;line-height: 1;font-weight: normal;font-style: normal;text-decoration: none;text-align: left;letter-spacing: normal;word-spacing: normal;text-transform: none;font-weight: 600;vertical-align: middle;}div#n2-ss-1 .n2-font-e93158004d2a60ad1b2c9204a90c1ea7-simple{font-family: \\'Roboto\\';color: #ffffff;font-size:87.5%;text-shadow: none;line-height: 1.3;font-weight: normal;font-style: normal;text-decoration: none;text-align: left;letter-spacing: normal;word-spacing: normal;text-transform: none;font-weight: 400;vertical-align: middle;\\n}div#n2-ss-1 .n2-style-8c39bd1b5d1c821102353bb13550e669-simple{background: #242424;opacity:1;padding:3px 3px 3px 3px ;box-shadow: none;border-width: 0px;border-style: solid;border-color: #000000; border-color: RGBA(0,0,0,1);border-radius:0px;}div#n2-ss-1 .n2-style-0d7e6147d938756e488febb9fea88b5d-dot{background: #000000;background: RGBA(0,0,0,0);opacity:1;padding:0px 0px 0px 0px ;box-shadow: none;border-width: 0px;border-style: solid;border-color: #ffffff; border-color: RGBA(255,255,255,0);border-radius:0px;opacity: 0.4;\\nmargin: 3px;\\ntransition: all 0.4s;\\nbackground-size: cover;}div#n2-ss-1 .n2-style-0d7e6147d938756e488febb9fea88b5d-dot.n2-active, div#n2-ss-1 .n2-style-0d7e6147d938756e488febb9fea88b5d-dot:HOVER, div#n2-ss-1 .n2-style-0d7e6147d938756e488febb9fea88b5d-dot:FOCUS{border-width: 0px;border-style: solid;border-color: #ffffff; border-color: RGBA(255,255,255,0.8);opacity: 1;}div#n2-ss-1 .n2-style-5d7eae0477486ee4b93ada164af3ae0f-simple{background: #000000;background: RGBA(0,0,0,0.67);opacity:1;padding:3px 10px 3px 10px ;box-shadow: none;border-width: 0px;border-style: solid;border-color: #000000; border-color: RGBA(0,0,0,1);border-radius:0px;bottom: 0;\\nleft: 0;}div#n2-ss-1 .n2-font-b28b308f49127d24acbb688fa40433b2-simple{font-family: \\'Roboto\\';color: #ffffff;font-size:112.5%;text-shadow: none;line-height: 1.2;font-weight: normal;font-style: normal;text-decoration: none;text-align: left;letter-spacing: normal;word-spacing: normal;text-transform: none;font-weight: 600;}div#n2-ss-1 .n2-style-8c39bd1b5d1c821102353bb13550e669-simple {\\r\\n    background: #f0f0f0;\\r\\n    opacity: 1;\\r\\n    padding: 3px 3px 3px 3px;\\r\\n    box-shadow: none;\\r\\n    border-width: 0px;\\r\\n    border-style: solid;\\r\\n    border-color: #000000;\\r\\n    border-color: RGBA(0,0,0,1);\\r\\n    border-radius: 0px;\\r\\n}\\r\\ndiv#n2-ss-1 .nextend-bar-horizontal div * {\\r\\n    display: table;\\r\\n}\\r\\n@media only screen and (max-width: 400px) {\\r\\ndiv#n2-ss-1 .n2-font-e93158004d2a60ad1b2c9204a90c1ea7-simple {\\r\\n   display: none!important; \\r\\n}</style><div id=\"n2-ss-1-align\" class=\"n2-ss-align\"><div class=\"n2-padding\"><div id=\"n2-ss-1\" data-creator=\"Smart Slider 3\" class=\"n2-ss-slider n2-ow n2-has-hover n2notransition  n2-ss-load-fade \" data-minFontSizedesktopPortrait=\"4\" data-minFontSizedesktopLandscape=\"4\" data-minFontSizetabletPortrait=\"4\" data-minFontSizetabletLandscape=\"4\" data-minFontSizemobilePortrait=\"4\" data-minFontSizemobileLandscape=\"4\" style=\"font-size: 1rem;\" data-fontsize=\"16\">\\r\\n        <div class=\"n2-ss-slider-1 n2-ss-swipe-element n2-ow\" style=\"\">\\r\\n                        <div class=\"n2-ss-slider-2 n2-ow\">\\r\\n                                <div class=\"n2-ss-slider-3 n2-ow\" style=\"\">\\r\\n\\r\\n                    <div class=\"n2-ss-slide-backgrounds\"></div><div data-first=\"1\" data-slide-duration=\"0\" data-id=\"33\" data-title=\"CEFET-MG oferta 540 vagas para cursos de gradua\\xc3\\xa7\\xc3\\xa3o\" data-description=\"Podem concorrer candidatos que conclu\\xc3\\xadram o ensino m\\xc3\\xa9dio ou equivalente e realizaram o Enem 2019\" data-thumbnail=\"//www.cefetmg.br/wp-content/uploads/2020/10/banner_gradua\\xc3\\xa7\\xc3\\xa3o2.jpg\" data-haslink=\"1\" style=\"cursor:pointer;\" onclick=\"\" data-href=\"https://www.cefetmg.br/noticias/cefet-mg-abre-selecao-para-540-vagas-dos-cursos-de-graduacao/\" data-n2click=\"n2ss.openUrl(event);\" data-n2middleclick=\"n2ss.openUrl(event, &#039;_blank&#039;);\" class=\" n2-ss-slide n2-ss-canvas n2-ow  n2-ss-slide-33\"><div class=\"n2-ss-slide-background n2-ow\" data-mode=\"fill\"><div data-hash=\"52fa20d01fcd980e66d564baa75f4808\" data-desktop=\"//www.cefetmg.br/wp-content/uploads/2020/10/banner_gradua\\xc3\\xa7\\xc3\\xa3o2.jpg\" class=\"n2-ss-slide-background-image\" data-blur=\"0\"><img src=\"//www.cefetmg.br/wp-content/uploads/2020/10/banner_gradua\\xc3\\xa7\\xc3\\xa3o2.jpg\" alt=\"\" /></div></div><div class=\"n2-ss-layers-container n2-ow\" data-csstextalign=\"center\" style=\"\"><div class=\"n2-ss-layer n2-ow n-uc-1cec3f6a93819\" style=\"overflow:visible;\" data-csstextalign=\"inherit\" data-has-maxwidth=\"0\" data-desktopportraitmaxwidth=\"0\" data-cssselfalign=\"inherit\" data-desktopportraitselfalign=\"inherit\" data-pm=\"content\" data-desktopportraitpadding=\"10|*|10|*|20|*|10|*|px+\" data-desktopportraitinneralign=\"inherit\" data-sstype=\"content\" data-hasbackground=\"1\" data-rotation=\"0\" data-desktopportrait=\"1\" data-desktoplandscape=\"1\" data-tabletportrait=\"1\" data-tabletlandscape=\"1\" data-mobileportrait=\"0\" data-mobilelandscape=\"1\" data-adaptivefont=\"1\" data-desktopportraitfontsize=\"100\" data-plugin=\"rendered\"><div class=\"n2-ss-section-main-content n2-ss-layer-content n2-ow n-uc-1cec3f6a93819-inner\" style=\"padding:0.625em 0.625em 1.25em 0.625em ;\" data-verticalalign=\"center\"></div></div></div></div><div data-slide-duration=\"0\" data-id=\"27\" data-title=\"Inscri\\xc3\\xa7\\xc3\\xb5es para vagas remanescentes na Gradua\\xc3\\xa7\\xc3\\xa3o\" data-description=\"Vagas incluem as modalidades Transfer\\xc3\\xaancia, Obten\\xc3\\xa7\\xc3\\xa3o de Novo T\\xc3\\xadtulo, Reop\\xc3\\xa7\\xc3\\xa3o de Curso e Reingresso.\" data-thumbnail=\"//www.cefetmg.br/wp-content/uploads/2020/10/COPEVE-ProcessoSeletivoGraduacao-CEFETMG.mov_snapshot_00.37_2020.10.01_15.14.58.jpg\" data-haslink=\"1\" style=\"cursor:pointer;\" onclick=\"\" data-href=\"https://www.cefetmg.br/noticias/cefet-mg-abre-edital-para-preenchimento-de-vagas-remanescentes-na-graduacao/\" data-n2click=\"n2ss.openUrl(event);\" data-n2middleclick=\"n2ss.openUrl(event, &#039;_blank&#039;);\" class=\" n2-ss-slide n2-ss-canvas n2-ow  n2-ss-slide-27\"><div class=\"n2-ss-slide-background n2-ow\" data-mode=\"fill\"><div data-hash=\"5bfe6ce2865bead95d0c7bfdd57a1dff\" data-desktop=\"//www.cefetmg.br/wp-content/uploads/2020/10/COPEVE-ProcessoSeletivoGraduacao-CEFETMG.mov_snapshot_00.37_2020.10.01_15.14.58.jpg\" class=\"n2-ss-slide-background-image\" data-blur=\"0\"><img src=\"//www.cefetmg.br/wp-content/uploads/2020/10/COPEVE-ProcessoSeletivoGraduacao-CEFETMG.mov_snapshot_00.37_2020.10.01_15.14.58.jpg\" alt=\"\" /></div></div><div class=\"n2-ss-layers-container n2-ow\" data-csstextalign=\"center\" style=\"\"><div class=\"n2-ss-layer n2-ow n-uc-cABpwSqF7UwO\" style=\"overflow:visible;\" data-csstextalign=\"inherit\" data-has-maxwidth=\"0\" data-desktopportraitmaxwidth=\"0\" data-cssselfalign=\"inherit\" data-desktopportraitselfalign=\"inherit\" data-pm=\"content\" data-desktopportraitpadding=\"0|*|0|*|0|*|0|*|px+\" data-desktopportraitinneralign=\"inherit\" data-sstype=\"content\" data-hasbackground=\"1\" data-rotation=\"0\" data-desktopportrait=\"1\" data-desktoplandscape=\"1\" data-tabletportrait=\"1\" data-tabletlandscape=\"1\" data-mobileportrait=\"0\" data-mobilelandscape=\"1\" data-adaptivefont=\"1\" data-desktopportraitfontsize=\"100\" data-mobileportraitfontsize=\"60\" data-plugin=\"rendered\"><div class=\"n2-ss-section-main-content n2-ss-layer-content n2-ow n-uc-cABpwSqF7UwO-inner\" style=\"padding:0em 0em 0em 0em ;\" data-verticalalign=\"center\"></div></div></div></div><div data-slide-duration=\"0\" data-id=\"30\" data-title=\"Programa\\xc3\\xa7\\xc3\\xa3o da \\xe2\\x80\\x9cSemana de Avalia\\xc3\\xa7\\xc3\\xa3o do Ensino Remoto\\xe2\\x80\\x9d\" data-description=\"De 5 a 9 de outubro, evento vai avaliar e tra\\xc3\\xa7ar os futuros rumos da modalidade implantada no CEFET-MG\" data-thumbnail=\"//www.cefetmg.br/wp-content/uploads/2020/09/semana_avaliacao_site.jpg\" data-haslink=\"1\" style=\"cursor:pointer;\" onclick=\"\" data-href=\"https://www.cefetmg.br/noticias/divulgada-a-programacao-da-semana-de-avaliacao-do-ensino-remoto/\" data-n2click=\"n2ss.openUrl(event);\" data-n2middleclick=\"n2ss.openUrl(event, &#039;_blank&#039;);\" class=\" n2-ss-slide n2-ss-canvas n2-ow  n2-ss-slide-30\"><div class=\"n2-ss-slide-background n2-ow\" data-mode=\"tile\"><div data-hash=\"faeefac8950f3ae42dca7ed10e8ba09d\" data-desktop=\"//www.cefetmg.br/wp-content/uploads/2020/09/semana_avaliacao_site.jpg\" class=\"n2-ss-slide-background-image\" data-blur=\"0\"><img src=\"//www.cefetmg.br/wp-content/uploads/2020/09/semana_avaliacao_site.jpg\" alt=\"\" /></div></div><div class=\"n2-ss-layers-container n2-ow\" data-csstextalign=\"center\" style=\"\"><div class=\"n2-ss-layer n2-ow n-uc-1435844958443\" style=\"overflow:visible;\" data-csstextalign=\"inherit\" data-has-maxwidth=\"0\" data-desktopportraitmaxwidth=\"0\" data-cssselfalign=\"inherit\" data-desktopportraitselfalign=\"inherit\" data-pm=\"content\" data-desktopportraitpadding=\"10|*|10|*|10|*|10|*|px+\" data-desktopportraitinneralign=\"inherit\" data-sstype=\"content\" data-hasbackground=\"1\" data-rotation=\"0\" data-desktopportrait=\"1\" data-desktoplandscape=\"1\" data-tabletportrait=\"1\" data-tabletlandscape=\"1\" data-mobileportrait=\"0\" data-mobilelandscape=\"1\" data-adaptivefont=\"1\" data-desktopportraitfontsize=\"100\" data-plugin=\"rendered\"><div class=\"n2-ss-section-main-content n2-ss-layer-content n2-ow n-uc-1435844958443-inner\" style=\"padding:0.625em 0.625em 0.625em 0.625em ;\" data-verticalalign=\"center\"></div></div></div></div><div data-slide-duration=\"0\" data-id=\"32\" data-title=\"CEFET-MG entre as 20 melhores escolas p\\xc3\\xbablicas do pa\\xc3\\xads\" data-description=\"Avalia\\xc3\\xa7\\xc3\\xa3o do IDEB 2019 aponta campus Varginha na 10\\xc2\\xaa posi\\xc3\\xa7\\xc3\\xa3o e campus Divin\\xc3\\xb3polis na 16\\xc2\\xaa\" data-thumbnail=\"//www.cefetmg.br/wp-content/uploads/2020/09/varginha.jpg\" data-haslink=\"1\" style=\"cursor:pointer;\" onclick=\"\" data-href=\"https://www.cefetmg.br/noticias/dois-campi-do-cefet-mg-estao-entre-20-melhores-escolas-publicas-do-brasil/\" data-n2click=\"n2ss.openUrl(event);\" data-n2middleclick=\"n2ss.openUrl(event, &#039;_blank&#039;);\" class=\" n2-ss-slide n2-ss-canvas n2-ow  n2-ss-slide-32\"><div class=\"n2-ss-slide-background n2-ow\" data-mode=\"tile\"><div data-hash=\"d8b20ae553cbb1aa47bfa38cb6121d66\" data-desktop=\"//www.cefetmg.br/wp-content/uploads/2020/09/materiais2.jpg\" class=\"n2-ss-slide-background-image\" data-blur=\"0\"><img src=\"//www.cefetmg.br/wp-content/uploads/2020/09/materiais2.jpg\" alt=\"\" /></div></div><div class=\"n2-ss-layers-container n2-ow\" data-csstextalign=\"center\" style=\"\"><div class=\"n2-ss-layer n2-ow n-uc-1de741a56130c\" style=\"overflow:visible;\" data-csstextalign=\"inherit\" data-has-maxwidth=\"0\" data-desktopportraitmaxwidth=\"0\" data-cssselfalign=\"inherit\" data-desktopportraitselfalign=\"inherit\" data-pm=\"content\" data-desktopportraitpadding=\"10|*|10|*|10|*|10|*|px+\" data-desktopportraitinneralign=\"inherit\" data-sstype=\"content\" data-hasbackground=\"1\" data-rotation=\"0\" data-desktopportrait=\"1\" data-desktoplandscape=\"1\" data-tabletportrait=\"1\" data-tabletlandscape=\"1\" data-mobileportrait=\"0\" data-mobilelandscape=\"1\" data-adaptivefont=\"1\" data-desktopportraitfontsize=\"100\" data-plugin=\"rendered\"><div class=\"n2-ss-section-main-content n2-ss-layer-content n2-ow n-uc-1de741a56130c-inner\" style=\"padding:0.625em 0.625em 0.625em 0.625em ;\" data-verticalalign=\"center\"></div></div></div></div>                </div>\\r\\n            </div>\\r\\n            <div data-ssleft=\"width/2-barwidth/2\" data-offset=\"0\" class=\"n2-ss-widget n2-ss-widget-display-desktop n2-ss-widget-display-tablet n2-ss-widget-display-mobile nextend-bar nextend-bar-horizontal n2-ow\" style=\"position: absolute;bottom:0px;text-align: left;width:100%;\"><div class=\"n2-style-52dd7db57bea5e384249a7b1c088bd28-simple  n2-ow\" style=\"\"></div></div>\\n<div data-ssleft=\"width\" data-sstop=\"0\" data-offset=\"0\" class=\"n2-ss-widget n2-ss-widget-display-desktop n2-ss-widget-display-tablet n2-ss-widget-display-mobile nextend-thumbnail nextend-thumbnail-default n2-ow nextend-thumbnail-vertical\" style=\"position: absolute;height:100%;\"><img class=\"nextend-thumbnail-button nextend-thumbnail-previous n2-ow\" style=\"width:26px;margin-left:-13px!important;\" src=\"data:image/svg+xml;base64,PHN2ZyB3aWR0aD0iMjYiIGhlaWdodD0iMjYiIHhtbG5zPSJodHRwOi8vd3d3LnczLm9yZy8yMDAwL3N2ZyI+CiAgICA8ZyBmaWxsPSJub25lIiBmaWxsLXJ1bGU9ImV2ZW5vZGQiPgogICAgICAgIDxjaXJjbGUgc3Ryb2tlPSIjZmZmIiBzdHJva2Utd2lkdGg9IjIiIG9wYWNpdHk9Ii41IiBmaWxsPSIjMDAwIiBjeD0iMTMiIGN5PSIxMyIgcj0iMTIiLz4KICAgICAgICA8cGF0aCBkPSJNMTMuNDM1IDkuMTc4Yy0uMTI2LS4xMjEtLjI3LS4xODItLjQzNi0uMTgyLS4xNjQgMC0uMzA2LjA2MS0uNDI4LjE4MmwtNC4zOCA0LjE3NWMtLjEyNi4xMjEtLjE4OC4yNjItLjE4OC40MjQgMCAuMTYxLjA2Mi4zMDIuMTg4LjQyM2wuNjUuNjIyYy4xMjYuMTIxLjI3My4xODIuNDQxLjE4Mi4xNyAwIC4zMTQtLjA2MS40MzYtLjE4MmwzLjMxNC0zLjE2MSAzLjI0OSAzLjE2MWMuMTI2LjEyMS4yNjkuMTgyLjQzMi4xODIuMTY0IDAgLjMwNy0uMDYxLjQzMy0uMTgybC42NjItLjYyMmMuMTI2LS4xMjEuMTg5LS4yNjIuMTg5LS40MjMgMC0uMTYyLS4wNjMtLjMwMy0uMTg5LS40MjRsLTQuMzczLTQuMTc1eiIgZmlsbD0iI2ZmZiIvPgogICAgPC9nPgo8L3N2Zz4=\" alt=\"previous arrow\" /><img class=\"nextend-thumbnail-button nextend-thumbnail-next n2-ow n2-active\" style=\"width:26px;margin-left:-13px!important;\" src=\"data:image/svg+xml;base64,PHN2ZyB4bWxucz0iaHR0cDovL3d3dy53My5vcmcvMjAwMC9zdmciIHdpZHRoPSIyNiIgaGVpZ2h0PSIyNiI+CiAgICA8ZyBmaWxsPSJub25lIj4KICAgICAgICA8Y2lyY2xlIGN4PSIxMyIgY3k9IjEzIiByPSIxMiIgZmlsbD0iIzAwMCIgc3Ryb2tlPSIjZmZmIiBzdHJva2Utd2lkdGg9IjIiIG9wYWNpdHk9Ii41Ii8+CiAgICAgICAgPHBhdGggZmlsbD0iI2ZmZiIgZD0iTTEyLjU2NSAxNi44MjJjLjEyNi4xMi4yNy4xODIuNDM2LjE4Mi4xNjggMCAuMzEtLjA2LjQzLS4xODJsNC4zOC00LjE3NWMuMTI4LS4xMi4xOS0uMjYyLjE5LS40MjQgMC0uMTYtLjA2Mi0uMzAyLS4xOS0uNDIzbC0uNjUtLjYyMmMtLjEyNS0uMTItLjI3Mi0uMTgyLS40NC0uMTgyLS4xNyAwLS4zMTQuMDYtLjQzNi4xODJsLTMuMzE0IDMuMTYtMy4yNS0zLjE2Yy0uMTI2LS4xMi0uMjctLjE4Mi0uNDMtLjE4Mi0uMTY2IDAtLjMxLjA2LS40MzUuMTgybC0uNjYyLjYyMmMtLjEyNi4xMi0uMTkuMjYyLS4xOS40MjMgMCAuMTYyLjA2NC4zMDMuMTkuNDI0bDQuMzczIDQuMTc1eiIvPgogICAgPC9nPgo8L3N2Zz4=\" alt=\"next arrow\" /><div class=\"nextend-thumbnail-inner n2-ow\"><div class=\"n2-style-8c39bd1b5d1c821102353bb13550e669-simple nextend-thumbnail-scroller n2-ow n2-align-content-space-between\"></div></div></div>\\n        </div>\\r\\n        </div><div class=\"n2-clear\"></div><div id=\"n2-ss-1-spinner\" style=\"display: none;\"><div><div class=\"n2-ss-spinner-simple-white-container\"><div class=\"n2-ss-spinner-simple-white\"></div></div></div></div></div></div><div id=\"n2-ss-1-placeholder\" style=\"position: relative;z-index:2;background-color:RGBA(0,0,0,0);max-height:3000px; background-color:RGBA(255,255,255,0);\"><img style=\"width: 100%; max-width:3000px; display: block;opacity:0;margin:0px;\" class=\"n2-ow\" src=\"data:image/svg+xml;base64,PHN2ZyB4bWxucz0iaHR0cDovL3d3dy53My5vcmcvMjAwMC9zdmciIHZlcnNpb249IjEuMCIgd2lkdGg9IjEyMDAiIGhlaWdodD0iNTAwIiA+PC9zdmc+\" alt=\"Slider\" /></div></div>\\t\\t\\t</div>\\n\\t\\t</div>\\n\\t</section> <!-- Fim Section Slider -->\\n\\n\\t<section class=\"noticias\">\\n\\t\\t<div class=\"container\">\\n\\t\\t\\t<h2 class=\"subtitulo\"><img class=\"subtitulo_icone\" src=\"https://www.cefetmg.br/wp-content/themes/principal/img/noticias.png\" />Not\\xc3\\xadcias</h2>\\n\\t\\t\\t<div class=\"row\">\\n\\t\\t\\t\\t\\t\\n\\t\\t\\t\\t\\t\\t\\t\\t\\t\\t\\t<div class=\"noticias_lista col-lg-4\">\\n\\t\\t\\t\\t\\t\\t\\t<a href=\"https://www.cefetmg.br/noticias/inscricoes-abertas-ate-26-10-para-exames-de-proficiencia-em-lingua-estrangeira/\">\\n\\t\\t\\t\\t\\t\\t\\t\\t<div class=\"noticias_data\" style=\"background:#E29664;\">\\n\\t\\t\\t\\t\\t\\t\\t\\t\\t<span class=\"noticias_dia\">01</span>\\n\\t\\t\\t\\t\\t\\t\\t\\t\\t<span class=\"noticias_mes\">out</span>\\n\\t\\t\\t\\t\\t\\t\\t\\t</div>\\n\\t\\t\\t\\t\\t\\t\\t\\t<div class=\"noticias_conteudo\">\\n\\t\\t\\t\\t\\t\\t\\t\\t\\t<h5 class=\"noticias_versal\">P\\xc3\\xb3s-Gradua\\xc3\\xa7\\xc3\\xa3o</h5>\\n\\t\\t\\t\\t\\t\\t\\t\\t\\t<p class=\"noticias_titulo\">Inscri\\xc3\\xa7\\xc3\\xb5es abertas, at\\xc3\\xa9 26/10, para exames de profici\\xc3\\xaancia em l\\xc3\\xadngua estrangeira</p>\\n\\t\\t\\t\\t\\t\\t\\t\\t</div>\\n\\t\\t\\t\\t\\t\\t\\t</a>\\n\\t\\t\\t\\t\\t\\t</div>\\n\\t\\t\\t\\t\\t\\t\\t\\t\\t\\t\\t<div class=\"noticias_lista col-lg-4\">\\n\\t\\t\\t\\t\\t\\t\\t<a href=\"https://www.cefetmg.br/noticias/cefet-mg-divulga-portaria-com-a-listagem-completa-dos-atos-vigentes/\">\\n\\t\\t\\t\\t\\t\\t\\t\\t<div class=\"noticias_data\" style=\"background:#E29664;\">\\n\\t\\t\\t\\t\\t\\t\\t\\t\\t<span class=\"noticias_dia\">01</span>\\n\\t\\t\\t\\t\\t\\t\\t\\t\\t<span class=\"noticias_mes\">out</span>\\n\\t\\t\\t\\t\\t\\t\\t\\t</div>\\n\\t\\t\\t\\t\\t\\t\\t\\t<div class=\"noticias_conteudo\">\\n\\t\\t\\t\\t\\t\\t\\t\\t\\t<h5 class=\"noticias_versal\">Institucional</h5>\\n\\t\\t\\t\\t\\t\\t\\t\\t\\t<p class=\"noticias_titulo\">CEFET-MG divulga portaria com a listagem completa dos atos vigentes</p>\\n\\t\\t\\t\\t\\t\\t\\t\\t</div>\\n\\t\\t\\t\\t\\t\\t\\t</a>\\n\\t\\t\\t\\t\\t\\t</div>\\n\\t\\t\\t\\t\\t\\t\\t\\t\\t\\t\\t<div class=\"noticias_lista col-lg-4\">\\n\\t\\t\\t\\t\\t\\t\\t<a href=\"https://www.cefetmg.br/noticias/cefet-mg-abre-edital-para-preenchimento-de-vagas-remanescentes-na-graduacao/\">\\n\\t\\t\\t\\t\\t\\t\\t\\t<div class=\"noticias_data\" style=\"background:#E29664;\">\\n\\t\\t\\t\\t\\t\\t\\t\\t\\t<span class=\"noticias_dia\">01</span>\\n\\t\\t\\t\\t\\t\\t\\t\\t\\t<span class=\"noticias_mes\">out</span>\\n\\t\\t\\t\\t\\t\\t\\t\\t</div>\\n\\t\\t\\t\\t\\t\\t\\t\\t<div class=\"noticias_conteudo\">\\n\\t\\t\\t\\t\\t\\t\\t\\t\\t<h5 class=\"noticias_versal\">Gradua\\xc3\\xa7\\xc3\\xa3o</h5>\\n\\t\\t\\t\\t\\t\\t\\t\\t\\t<p class=\"noticias_titulo\">CEFET-MG abre edital para preenchimento de vagas remanescentes na Gradua\\xc3\\xa7\\xc3\\xa3o</p>\\n\\t\\t\\t\\t\\t\\t\\t\\t</div>\\n\\t\\t\\t\\t\\t\\t\\t</a>\\n\\t\\t\\t\\t\\t\\t</div>\\n\\t\\t\\t\\t\\t\\t\\t\\t\\t\\t\\t<div class=\"noticias_lista col-lg-4\">\\n\\t\\t\\t\\t\\t\\t\\t<a href=\"https://www.cefetmg.br/noticias/campanha-arrecada-computadores-para-atender-aos-alunos-do-ensino-remoto/\">\\n\\t\\t\\t\\t\\t\\t\\t\\t<div class=\"noticias_data\" style=\"background:#E29664;\">\\n\\t\\t\\t\\t\\t\\t\\t\\t\\t<span class=\"noticias_dia\">01</span>\\n\\t\\t\\t\\t\\t\\t\\t\\t\\t<span class=\"noticias_mes\">out</span>\\n\\t\\t\\t\\t\\t\\t\\t\\t</div>\\n\\t\\t\\t\\t\\t\\t\\t\\t<div class=\"noticias_conteudo\">\\n\\t\\t\\t\\t\\t\\t\\t\\t\\t<h5 class=\"noticias_versal\">Extens\\xc3\\xa3o </h5>\\n\\t\\t\\t\\t\\t\\t\\t\\t\\t<p class=\"noticias_titulo\">Campanha arrecada computadores para atender aos alunos do ensino remoto</p>\\n\\t\\t\\t\\t\\t\\t\\t\\t</div>\\n\\t\\t\\t\\t\\t\\t\\t</a>\\n\\t\\t\\t\\t\\t\\t</div>\\n\\t\\t\\t\\t\\t\\t\\t\\t\\t\\t\\t<div class=\"noticias_lista col-lg-4\">\\n\\t\\t\\t\\t\\t\\t\\t<a href=\"https://www.cefetmg.br/noticias/internacional-day-1o-dia-traz-reflexoes-sobre-o-contexto-atual-da-internacionalizacao/\">\\n\\t\\t\\t\\t\\t\\t\\t\\t<div class=\"noticias_data\" style=\"background:#E29664;\">\\n\\t\\t\\t\\t\\t\\t\\t\\t\\t<span class=\"noticias_dia\">01</span>\\n\\t\\t\\t\\t\\t\\t\\t\\t\\t<span class=\"noticias_mes\">out</span>\\n\\t\\t\\t\\t\\t\\t\\t\\t</div>\\n\\t\\t\\t\\t\\t\\t\\t\\t<div class=\"noticias_conteudo\">\\n\\t\\t\\t\\t\\t\\t\\t\\t\\t<h5 class=\"noticias_versal\">Internacioanaliza\\xc3\\xa7\\xc3\\xa3o</h5>\\n\\t\\t\\t\\t\\t\\t\\t\\t\\t<p class=\"noticias_titulo\">Internacional Day: 1\\xc2\\xba dia traz reflex\\xc3\\xb5es sobre mobilidade e difus\\xc3\\xa3o da francofonia</p>\\n\\t\\t\\t\\t\\t\\t\\t\\t</div>\\n\\t\\t\\t\\t\\t\\t\\t</a>\\n\\t\\t\\t\\t\\t\\t</div>\\n\\t\\t\\t\\t\\t\\t\\t\\t\\t\\t\\t<div class=\"noticias_lista col-lg-4\">\\n\\t\\t\\t\\t\\t\\t\\t<a href=\"https://www.cefetmg.br/noticias/cefet-mg-abre-selecao-para-540-vagas-dos-cursos-de-graduacao/\">\\n\\t\\t\\t\\t\\t\\t\\t\\t<div class=\"noticias_data\" style=\"background:#E29664;\">\\n\\t\\t\\t\\t\\t\\t\\t\\t\\t<span class=\"noticias_dia\">30</span>\\n\\t\\t\\t\\t\\t\\t\\t\\t\\t<span class=\"noticias_mes\">set</span>\\n\\t\\t\\t\\t\\t\\t\\t\\t</div>\\n\\t\\t\\t\\t\\t\\t\\t\\t<div class=\"noticias_conteudo\">\\n\\t\\t\\t\\t\\t\\t\\t\\t\\t<h5 class=\"noticias_versal\">Ensino</h5>\\n\\t\\t\\t\\t\\t\\t\\t\\t\\t<p class=\"noticias_titulo\">CEFET-MG abre sele\\xc3\\xa7\\xc3\\xa3o para 540 vagas dos cursos de gradua\\xc3\\xa7\\xc3\\xa3o</p>\\n\\t\\t\\t\\t\\t\\t\\t\\t</div>\\n\\t\\t\\t\\t\\t\\t\\t</a>\\n\\t\\t\\t\\t\\t\\t</div>\\n\\t\\t\\t\\t\\t\\t\\t\\t\\t\\t\\t<div class=\"noticias_lista col-lg-4\">\\n\\t\\t\\t\\t\\t\\t\\t<a href=\"https://www.cefetmg.br/noticias/inscricoes-abertas-para-olimpiada-brasileira-de-linguistica-ate-4-de-outubro/\">\\n\\t\\t\\t\\t\\t\\t\\t\\t<div class=\"noticias_data\" style=\"background:#E29664;\">\\n\\t\\t\\t\\t\\t\\t\\t\\t\\t<span class=\"noticias_dia\">30</span>\\n\\t\\t\\t\\t\\t\\t\\t\\t\\t<span class=\"noticias_mes\">set</span>\\n\\t\\t\\t\\t\\t\\t\\t\\t</div>\\n\\t\\t\\t\\t\\t\\t\\t\\t<div class=\"noticias_conteudo\">\\n\\t\\t\\t\\t\\t\\t\\t\\t\\t<h5 class=\"noticias_versal\">Evento </h5>\\n\\t\\t\\t\\t\\t\\t\\t\\t\\t<p class=\"noticias_titulo\">Inscri\\xc3\\xa7\\xc3\\xb5es abertas para Olimp\\xc3\\xadada Brasileira de Lingu\\xc3\\xadstica at\\xc3\\xa9 4 de outubro</p>\\n\\t\\t\\t\\t\\t\\t\\t\\t</div>\\n\\t\\t\\t\\t\\t\\t\\t</a>\\n\\t\\t\\t\\t\\t\\t</div>\\n\\t\\t\\t\\t\\t\\t\\t\\t\\t\\t\\t<div class=\"noticias_lista col-lg-4\">\\n\\t\\t\\t\\t\\t\\t\\t<a href=\"https://www.cefetmg.br/noticias/combate-ao-coronavirus-conif-publica-e-book-sobre-acoes-realizadas-pela-rede-federal-de-ensino/\">\\n\\t\\t\\t\\t\\t\\t\\t\\t<div class=\"noticias_data\" style=\"background:#E29664;\">\\n\\t\\t\\t\\t\\t\\t\\t\\t\\t<span class=\"noticias_dia\">30</span>\\n\\t\\t\\t\\t\\t\\t\\t\\t\\t<span class=\"noticias_mes\">set</span>\\n\\t\\t\\t\\t\\t\\t\\t\\t</div>\\n\\t\\t\\t\\t\\t\\t\\t\\t<div class=\"noticias_conteudo\">\\n\\t\\t\\t\\t\\t\\t\\t\\t\\t<h5 class=\"noticias_versal\">Institucional</h5>\\n\\t\\t\\t\\t\\t\\t\\t\\t\\t<p class=\"noticias_titulo\">Combate ao coronav\\xc3\\xadrus \\xe2\\x80\\x93 Conif publica e-book sobre a\\xc3\\xa7\\xc3\\xb5es realizadas pela rede federal de ensino</p>\\n\\t\\t\\t\\t\\t\\t\\t\\t</div>\\n\\t\\t\\t\\t\\t\\t\\t</a>\\n\\t\\t\\t\\t\\t\\t</div>\\n\\t\\t\\t\\t\\t\\t\\t\\t\\t\\t\\t<div class=\"noticias_lista col-lg-4\">\\n\\t\\t\\t\\t\\t\\t\\t<a href=\"https://www.cefetmg.br/noticias/cefet-mg-oferta-tres-bolsas-de-iniciacao-cientifica-a-estudantes-da-graduacao/\">\\n\\t\\t\\t\\t\\t\\t\\t\\t<div class=\"noticias_data\" style=\"background:#E29664;\">\\n\\t\\t\\t\\t\\t\\t\\t\\t\\t<span class=\"noticias_dia\">30</span>\\n\\t\\t\\t\\t\\t\\t\\t\\t\\t<span class=\"noticias_mes\">set</span>\\n\\t\\t\\t\\t\\t\\t\\t\\t</div>\\n\\t\\t\\t\\t\\t\\t\\t\\t<div class=\"noticias_conteudo\">\\n\\t\\t\\t\\t\\t\\t\\t\\t\\t<h5 class=\"noticias_versal\">Pesquisa </h5>\\n\\t\\t\\t\\t\\t\\t\\t\\t\\t<p class=\"noticias_titulo\">Prorrogadas as inscri\\xc3\\xa7\\xc3\\xb5es para bolsas a estudantes da Gradua\\xc3\\xa7\\xc3\\xa3o</p>\\n\\t\\t\\t\\t\\t\\t\\t\\t</div>\\n\\t\\t\\t\\t\\t\\t\\t</a>\\n\\t\\t\\t\\t\\t\\t</div>\\n\\t\\t\\t\\t\\t\\t\\t\\t\\t\\t\\t<div class=\"noticias_lista col-lg-4\">\\n\\t\\t\\t\\t\\t\\t\\t<a href=\"https://www.cefetmg.br/noticias/divulgada-a-programacao-da-semana-de-avaliacao-do-ensino-remoto/\">\\n\\t\\t\\t\\t\\t\\t\\t\\t<div class=\"noticias_data\" style=\"background:#E29664;\">\\n\\t\\t\\t\\t\\t\\t\\t\\t\\t<span class=\"noticias_dia\">29</span>\\n\\t\\t\\t\\t\\t\\t\\t\\t\\t<span class=\"noticias_mes\">set</span>\\n\\t\\t\\t\\t\\t\\t\\t\\t</div>\\n\\t\\t\\t\\t\\t\\t\\t\\t<div class=\"noticias_conteudo\">\\n\\t\\t\\t\\t\\t\\t\\t\\t\\t<h5 class=\"noticias_versal\">Ensino</h5>\\n\\t\\t\\t\\t\\t\\t\\t\\t\\t<p class=\"noticias_titulo\">Divulgada a programa\\xc3\\xa7\\xc3\\xa3o da \\xe2\\x80\\x9cSemana de Avalia\\xc3\\xa7\\xc3\\xa3o do Ensino Remoto\\xe2\\x80\\x9d</p>\\n\\t\\t\\t\\t\\t\\t\\t\\t</div>\\n\\t\\t\\t\\t\\t\\t\\t</a>\\n\\t\\t\\t\\t\\t\\t</div>\\n\\t\\t\\t\\t\\t\\t\\t\\t\\t\\t\\t<div class=\"noticias_lista col-lg-4\">\\n\\t\\t\\t\\t\\t\\t\\t<a href=\"https://www.cefetmg.br/noticias/projeto-do-cefet-mg-e-da-ufrj-e-o-unico-do-brasil-selecionado-pelo-programa-da-onu/\">\\n\\t\\t\\t\\t\\t\\t\\t\\t<div class=\"noticias_data\" style=\"background:#E29664;\">\\n\\t\\t\\t\\t\\t\\t\\t\\t\\t<span class=\"noticias_dia\">29</span>\\n\\t\\t\\t\\t\\t\\t\\t\\t\\t<span class=\"noticias_mes\">set</span>\\n\\t\\t\\t\\t\\t\\t\\t\\t</div>\\n\\t\\t\\t\\t\\t\\t\\t\\t<div class=\"noticias_conteudo\">\\n\\t\\t\\t\\t\\t\\t\\t\\t\\t<h5 class=\"noticias_versal\">Pesquisa</h5>\\n\\t\\t\\t\\t\\t\\t\\t\\t\\t<p class=\"noticias_titulo\">Projeto do CEFET-MG e UFRJ \\xc3\\xa9 o \\xc3\\xbanico do Brasil selecionado por programa da ONU</p>\\n\\t\\t\\t\\t\\t\\t\\t\\t</div>\\n\\t\\t\\t\\t\\t\\t\\t</a>\\n\\t\\t\\t\\t\\t\\t</div>\\n\\t\\t\\t\\t\\t\\t\\t\\t\\t\\t\\t<div class=\"noticias_lista col-lg-4\">\\n\\t\\t\\t\\t\\t\\t\\t<a href=\"https://www.cefetmg.br/noticias/setembro-amarelo-psicologos-do-cefet-mg-alertam-sobre-saude-mental-na-pandemia/\">\\n\\t\\t\\t\\t\\t\\t\\t\\t<div class=\"noticias_data\" style=\"background:#E29664;\">\\n\\t\\t\\t\\t\\t\\t\\t\\t\\t<span class=\"noticias_dia\">29</span>\\n\\t\\t\\t\\t\\t\\t\\t\\t\\t<span class=\"noticias_mes\">set</span>\\n\\t\\t\\t\\t\\t\\t\\t\\t</div>\\n\\t\\t\\t\\t\\t\\t\\t\\t<div class=\"noticias_conteudo\">\\n\\t\\t\\t\\t\\t\\t\\t\\t\\t<h5 class=\"noticias_versal\">Institucional </h5>\\n\\t\\t\\t\\t\\t\\t\\t\\t\\t<p class=\"noticias_titulo\">Setembro Amarelo: Cuidados fundamentais com sa\\xc3\\xbade mental na pandemia</p>\\n\\t\\t\\t\\t\\t\\t\\t\\t</div>\\n\\t\\t\\t\\t\\t\\t\\t</a>\\n\\t\\t\\t\\t\\t\\t</div>\\n\\t\\t\\t\\t\\t\\t\\t\\t\\t\\t\\t<div class=\"noticias_lista col-lg-4\">\\n\\t\\t\\t\\t\\t\\t\\t<a href=\"https://www.cefetmg.br/noticias/empreendedorismo-estao-abertas-as-inscricoes-para-o-red-bull-basement/\">\\n\\t\\t\\t\\t\\t\\t\\t\\t<div class=\"noticias_data\" style=\"background:#E29664;\">\\n\\t\\t\\t\\t\\t\\t\\t\\t\\t<span class=\"noticias_dia\">29</span>\\n\\t\\t\\t\\t\\t\\t\\t\\t\\t<span class=\"noticias_mes\">set</span>\\n\\t\\t\\t\\t\\t\\t\\t\\t</div>\\n\\t\\t\\t\\t\\t\\t\\t\\t<div class=\"noticias_conteudo\">\\n\\t\\t\\t\\t\\t\\t\\t\\t\\t<h5 class=\"noticias_versal\">Extens\\xc3\\xa3o</h5>\\n\\t\\t\\t\\t\\t\\t\\t\\t\\t<p class=\"noticias_titulo\">Empreendedorismo: Est\\xc3\\xa3o abertas as inscri\\xc3\\xa7\\xc3\\xb5es para o \\xe2\\x80\\x9cRed Bull Basement\\xe2\\x80\\x9d</p>\\n\\t\\t\\t\\t\\t\\t\\t\\t</div>\\n\\t\\t\\t\\t\\t\\t\\t</a>\\n\\t\\t\\t\\t\\t\\t</div>\\n\\t\\t\\t\\t\\t\\t\\t\\t\\t\\t\\t<div class=\"noticias_lista col-lg-4\">\\n\\t\\t\\t\\t\\t\\t\\t<a href=\"https://www.cefetmg.br/noticias/cefet-mg-e-parceiros-estimulam-empreendedorismo-no-vale-rio-para/\">\\n\\t\\t\\t\\t\\t\\t\\t\\t<div class=\"noticias_data\" style=\"background:#E29664;\">\\n\\t\\t\\t\\t\\t\\t\\t\\t\\t<span class=\"noticias_dia\">28</span>\\n\\t\\t\\t\\t\\t\\t\\t\\t\\t<span class=\"noticias_mes\">set</span>\\n\\t\\t\\t\\t\\t\\t\\t\\t</div>\\n\\t\\t\\t\\t\\t\\t\\t\\t<div class=\"noticias_conteudo\">\\n\\t\\t\\t\\t\\t\\t\\t\\t\\t<h5 class=\"noticias_versal\">Divin\\xc3\\xb3polis</h5>\\n\\t\\t\\t\\t\\t\\t\\t\\t\\t<p class=\"noticias_titulo\">CEFET-MG e parceiros estimulam empreendedorismo no Vale Rio Par\\xc3\\xa1</p>\\n\\t\\t\\t\\t\\t\\t\\t\\t</div>\\n\\t\\t\\t\\t\\t\\t\\t</a>\\n\\t\\t\\t\\t\\t\\t</div>\\n\\t\\t\\t\\t\\t\\t\\t\\t\\t\\t\\t<div class=\"noticias_lista col-lg-4\">\\n\\t\\t\\t\\t\\t\\t\\t<a href=\"https://www.cefetmg.br/noticias/inscricoes-abertas-ate-30-de-setembro-para-programa-de-inovacao-aberta-com-startups/\">\\n\\t\\t\\t\\t\\t\\t\\t\\t<div class=\"noticias_data\" style=\"background:#E29664;\">\\n\\t\\t\\t\\t\\t\\t\\t\\t\\t<span class=\"noticias_dia\">28</span>\\n\\t\\t\\t\\t\\t\\t\\t\\t\\t<span class=\"noticias_mes\">set</span>\\n\\t\\t\\t\\t\\t\\t\\t\\t</div>\\n\\t\\t\\t\\t\\t\\t\\t\\t<div class=\"noticias_conteudo\">\\n\\t\\t\\t\\t\\t\\t\\t\\t\\t<h5 class=\"noticias_versal\">Extens\\xc3\\xa3o </h5>\\n\\t\\t\\t\\t\\t\\t\\t\\t\\t<p class=\"noticias_titulo\">Inscri\\xc3\\xa7\\xc3\\xb5es abertas at\\xc3\\xa9 30 de setembro para programa de inova\\xc3\\xa7\\xc3\\xa3o aberta com startups</p>\\n\\t\\t\\t\\t\\t\\t\\t\\t</div>\\n\\t\\t\\t\\t\\t\\t\\t</a>\\n\\t\\t\\t\\t\\t\\t</div>\\n\\t\\t\\t\\t\\t\\t\\t\\t</div>\\n\\n\\t\\t\\t<div class=\"row destaque\">\\n\\t\\t\\t\\t\\n\\t\\t\\t\\t\\n\\t\\t\\t\\t\\t<style type=\"text/css\">\\n\\t\\t\\t\\t\\t\\t.noticias_destaque img {\\n\\t\\t\\t\\t\\t\\t\\tborder-bottom: 15px solid #E29664;\\n\\t\\t\\t\\t\\t\\t\\ttransition: all 200ms;\\n\\t\\t\\t\\t\\t\\t}\\n\\t\\t\\t\\t\\t\\t.noticias_destaque h5 {\\n\\t\\t\\t\\t\\t\\t\\tcolor: #E29664;\\n\\t\\t\\t\\t\\t\\t}\\n\\t\\t\\t\\t\\t\\t.noticias_destaque:hover img {\\n\\t\\t\\t\\t\\t\\t\\tborder-color: #747474;\\n\\t\\t\\t\\t\\t\\t}\\n\\t\\t\\t\\t\\t\\t.noticias_destaque:hover h5 {\\n\\t\\t\\t\\t\\t\\t\\tcolor: #747474;\\n\\t\\t\\t\\t\\t\\t}\\n\\t\\t\\t\\t\\t</style>\\n\\n\\t\\t\\t\\t\\t<div class=\"col-md-6 col-lg-3\">\\n\\t\\t\\t\\t\\t\\t<a href=\"https://www.cefetmg.br/noticias/abertas-as-inscricoes-para-reditec-2020/\">\\n\\t\\t\\t\\t\\t\\t\\t<div class=\"noticias_destaque\">\\n\\t\\t\\t\\t\\t\\t\\t\\t\\t<img src=\"https://www.cefetmg.br/wp-content/uploads/2020/09/Reditec-500x250.png\" />\\n\\t\\t\\t\\t\\t\\t\\t\\t\\t<h5>Evento</h5>\\n\\t\\t\\t\\t\\t\\t\\t\\t\\t<p>Abertas as inscri\\xc3\\xa7\\xc3\\xb5es para Reditec 2020; evento gratuito ser\\xc3\\xa1 de 5 a 8 de outubro</p>\\n\\t\\t\\t\\t\\t\\t\\t</div>\\n\\t\\t\\t\\t\\t\\t</a>\\n\\t\\t\\t\\t\\t</div>\\n\\t\\t\\t\\t\\n\\t\\t\\t\\t\\t<style type=\"text/css\">\\n\\t\\t\\t\\t\\t\\t.noticias_destaque img {\\n\\t\\t\\t\\t\\t\\t\\tborder-bottom: 15px solid #E29664;\\n\\t\\t\\t\\t\\t\\t\\ttransition: all 200ms;\\n\\t\\t\\t\\t\\t\\t}\\n\\t\\t\\t\\t\\t\\t.noticias_destaque h5 {\\n\\t\\t\\t\\t\\t\\t\\tcolor: #E29664;\\n\\t\\t\\t\\t\\t\\t}\\n\\t\\t\\t\\t\\t\\t.noticias_destaque:hover img {\\n\\t\\t\\t\\t\\t\\t\\tborder-color: #747474;\\n\\t\\t\\t\\t\\t\\t}\\n\\t\\t\\t\\t\\t\\t.noticias_destaque:hover h5 {\\n\\t\\t\\t\\t\\t\\t\\tcolor: #747474;\\n\\t\\t\\t\\t\\t\\t}\\n\\t\\t\\t\\t\\t</style>\\n\\n\\t\\t\\t\\t\\t<div class=\"col-md-6 col-lg-3\">\\n\\t\\t\\t\\t\\t\\t<a href=\"https://www.cefetmg.br/noticias/pesquisa-de-mestrado-avalia-estrategias-para-construcoes-de-interesse-social/\">\\n\\t\\t\\t\\t\\t\\t\\t<div class=\"noticias_destaque\">\\n\\t\\t\\t\\t\\t\\t\\t\\t\\t<img src=\"https://www.cefetmg.br/wp-content/uploads/2020/09/MCMV-500x250.jpg\" />\\n\\t\\t\\t\\t\\t\\t\\t\\t\\t<h5>P\\xc3\\xb3s-Gradua\\xc3\\xa7\\xc3\\xa3o</h5>\\n\\t\\t\\t\\t\\t\\t\\t\\t\\t<p>Pesquisa de mestrado avalia estrat\\xc3\\xa9gias para constru\\xc3\\xa7\\xc3\\xb5es de interesse social</p>\\n\\t\\t\\t\\t\\t\\t\\t</div>\\n\\t\\t\\t\\t\\t\\t</a>\\n\\t\\t\\t\\t\\t</div>\\n\\t\\t\\t\\t\\n\\t\\t\\t\\t\\t<style type=\"text/css\">\\n\\t\\t\\t\\t\\t\\t.noticias_destaque img {\\n\\t\\t\\t\\t\\t\\t\\tborder-bottom: 15px solid #E29664;\\n\\t\\t\\t\\t\\t\\t\\ttransition: all 200ms;\\n\\t\\t\\t\\t\\t\\t}\\n\\t\\t\\t\\t\\t\\t.noticias_destaque h5 {\\n\\t\\t\\t\\t\\t\\t\\tcolor: #E29664;\\n\\t\\t\\t\\t\\t\\t}\\n\\t\\t\\t\\t\\t\\t.noticias_destaque:hover img {\\n\\t\\t\\t\\t\\t\\t\\tborder-color: #747474;\\n\\t\\t\\t\\t\\t\\t}\\n\\t\\t\\t\\t\\t\\t.noticias_destaque:hover h5 {\\n\\t\\t\\t\\t\\t\\t\\tcolor: #747474;\\n\\t\\t\\t\\t\\t\\t}\\n\\t\\t\\t\\t\\t</style>\\n\\n\\t\\t\\t\\t\\t<div class=\"col-md-6 col-lg-3\">\\n\\t\\t\\t\\t\\t\\t<a href=\"https://www.cefetmg.br/noticias/cefet-mg-vai-apoiar-equipes-de-competicao-em-ate-r-568-mil/\">\\n\\t\\t\\t\\t\\t\\t\\t<div class=\"noticias_destaque\">\\n\\t\\t\\t\\t\\t\\t\\t\\t\\t<img src=\"https://www.cefetmg.br/wp-content/uploads/2020/09/JS-_MG_8376-500x250.jpg\" />\\n\\t\\t\\t\\t\\t\\t\\t\\t\\t<h5>Extens\\xc3\\xa3o</h5>\\n\\t\\t\\t\\t\\t\\t\\t\\t\\t<p>CEFET-MG vai apoiar equipes de competi\\xc3\\xa7\\xc3\\xa3o em at\\xc3\\xa9 R$ 568 mil</p>\\n\\t\\t\\t\\t\\t\\t\\t</div>\\n\\t\\t\\t\\t\\t\\t</a>\\n\\t\\t\\t\\t\\t</div>\\n\\t\\t\\t\\t\\n\\t\\t\\t\\t\\t<style type=\"text/css\">\\n\\t\\t\\t\\t\\t\\t.noticias_destaque img {\\n\\t\\t\\t\\t\\t\\t\\tborder-bottom: 15px solid #E29664;\\n\\t\\t\\t\\t\\t\\t\\ttransition: all 200ms;\\n\\t\\t\\t\\t\\t\\t}\\n\\t\\t\\t\\t\\t\\t.noticias_destaque h5 {\\n\\t\\t\\t\\t\\t\\t\\tcolor: #E29664;\\n\\t\\t\\t\\t\\t\\t}\\n\\t\\t\\t\\t\\t\\t.noticias_destaque:hover img {\\n\\t\\t\\t\\t\\t\\t\\tborder-color: #747474;\\n\\t\\t\\t\\t\\t\\t}\\n\\t\\t\\t\\t\\t\\t.noticias_destaque:hover h5 {\\n\\t\\t\\t\\t\\t\\t\\tcolor: #747474;\\n\\t\\t\\t\\t\\t\\t}\\n\\t\\t\\t\\t\\t</style>\\n\\n\\t\\t\\t\\t\\t<div class=\"col-md-6 col-lg-3\">\\n\\t\\t\\t\\t\\t\\t<a href=\"https://www.cefetmg.br/noticias/grupo-de-alunos-e-servidores-produz-e-doa-alcool-e-face-schield-a-prefeitura-e-entidades/\">\\n\\t\\t\\t\\t\\t\\t\\t<div class=\"noticias_destaque\">\\n\\t\\t\\t\\t\\t\\t\\t\\t\\t<img src=\"https://www.cefetmg.br/wp-content/uploads/2020/04/alcool_gel-500x250.jpg\" />\\n\\t\\t\\t\\t\\t\\t\\t\\t\\t<h5>Tim\\xc3\\xb3teo</h5>\\n\\t\\t\\t\\t\\t\\t\\t\\t\\t<p>Grupo de alunos e servidores produz e doa \\xc3\\xa1lcool e face schield a entidades</p>\\n\\t\\t\\t\\t\\t\\t\\t</div>\\n\\t\\t\\t\\t\\t\\t</a>\\n\\t\\t\\t\\t\\t</div>\\n\\t\\t\\t\\t\\t\\t\\t</div>\\n\\t\\t\\t<div class=\"btn_mais\">\\n\\t\\t\\t\\t<a class=\"btn btn_noticias\" href=\"https://www.cefetmg.br/noticias\">mais not\\xc3\\xadcias ></a>\\n\\t\\t\\t</div>\\n\\t\\t</div>\\n\\t</section><!-- Fim Section Not\\xc3\\xadcias -->\\n\\n\\n\\t<section class=\"calendario\">\\n\\t\\t<div class=\"container\">\\n\\t\\t\\t<h2 class=\"subtitulo\"><img class=\"subtitulo_icone\" src=\"https://www.cefetmg.br/wp-content/themes/principal/img/calendario.png\" />Calend\\xc3\\xa1rio</h2>\\n\\t\\t\\t<div class=\"row\">\\n\\t\\t\\t\\t\\n\\t\\t\\t\\t\\t\\t\\t\\t\\t<div class=\"calendario_lista col-lg-4\">\\n\\t\\t\\t\\t\\t\\t<a href=\"https://www.cefetmg.br/calendario/internacional-day/\">\\n\\t\\t\\t\\t\\t\\t\\t<div>\\n\\t\\t\\t\\t\\t\\t\\t\\t\\t\\t\\t\\t\\t\\t\\t\\t<div class=\"calendario_data\">\\n\\t\\t\\t\\t\\t\\t\\t\\t\\t<div>\\n\\t\\t\\t\\t\\t\\t\\t\\t\\t\\t<span class=\"calendario_dia\">30</span><br/>\\n\\t\\t\\t\\t\\t\\t\\t\\t\\t\\t<span class=\"calendario_mes\">set</span>\\n\\t\\t\\t\\t\\t\\t\\t\\t\\t</div>\\n\\t\\t\\t\\t\\t\\t\\t\\t</div>\\n\\t\\t\\t\\t\\t\\t\\t</div>\\n\\t\\t\\t\\t\\t\\t\\t<div>\\n\\t\\t\\t\\t\\t\\t\\t\\t<p>Internacional Day do CEFET-MG</p>\\n\\t\\t\\t\\t\\t\\t\\t</div>\\n\\t\\t\\t\\t\\t\\t</a>\\n\\t\\t\\t\\t\\t</div>\\n\\t\\t\\t\\t\\t\\t\\t\\t\\t<div class=\"calendario_lista col-lg-4\">\\n\\t\\t\\t\\t\\t\\t<a href=\"https://www.cefetmg.br/calendario/i-jornada-de-mulheres-do-cefet-mg-chamada-para-contribuicoes/\">\\n\\t\\t\\t\\t\\t\\t\\t<div>\\n\\t\\t\\t\\t\\t\\t\\t\\t\\t\\t\\t\\t\\t\\t\\t\\t<div class=\"calendario_data\">\\n\\t\\t\\t\\t\\t\\t\\t\\t\\t<div>\\n\\t\\t\\t\\t\\t\\t\\t\\t\\t\\t<span class=\"calendario_dia\">21</span><br/>\\n\\t\\t\\t\\t\\t\\t\\t\\t\\t\\t<span class=\"calendario_mes\">set</span>\\n\\t\\t\\t\\t\\t\\t\\t\\t\\t</div>\\n\\t\\t\\t\\t\\t\\t\\t\\t</div>\\n\\t\\t\\t\\t\\t\\t\\t</div>\\n\\t\\t\\t\\t\\t\\t\\t<div>\\n\\t\\t\\t\\t\\t\\t\\t\\t<p>I Jornada de Mulheres do CEFET-MG &#8211; Chamada para contribui\\xc3\\xa7\\xc3\\xb5es</p>\\n\\t\\t\\t\\t\\t\\t\\t</div>\\n\\t\\t\\t\\t\\t\\t</a>\\n\\t\\t\\t\\t\\t</div>\\n\\t\\t\\t\\t\\t\\t\\t\\t\\t<div class=\"calendario_lista col-lg-4\">\\n\\t\\t\\t\\t\\t\\t<a href=\"https://www.cefetmg.br/calendario/chamada-para-coletanea-de-poemas-nao-nos-afastamos-muito-escrevamos/\">\\n\\t\\t\\t\\t\\t\\t\\t<div>\\n\\t\\t\\t\\t\\t\\t\\t\\t\\t\\t\\t\\t\\t\\t\\t\\t<div class=\"calendario_data\">\\n\\t\\t\\t\\t\\t\\t\\t\\t\\t<div>\\n\\t\\t\\t\\t\\t\\t\\t\\t\\t\\t<span class=\"calendario_dia\">01</span><br/>\\n\\t\\t\\t\\t\\t\\t\\t\\t\\t\\t<span class=\"calendario_mes\">ago</span>\\n\\t\\t\\t\\t\\t\\t\\t\\t\\t</div>\\n\\t\\t\\t\\t\\t\\t\\t\\t</div>\\n\\t\\t\\t\\t\\t\\t\\t</div>\\n\\t\\t\\t\\t\\t\\t\\t<div>\\n\\t\\t\\t\\t\\t\\t\\t\\t<p>Chamada para colet\\xc3\\xa2nea de poemas &#8220;N\\xc3\\xa3o nos afastemos muito, escrevamos&#8221;</p>\\n\\t\\t\\t\\t\\t\\t\\t</div>\\n\\t\\t\\t\\t\\t\\t</a>\\n\\t\\t\\t\\t\\t</div>\\n\\t\\t\\t\\t\\t\\t\\t\\t\\t<div class=\"calendario_lista col-lg-4\">\\n\\t\\t\\t\\t\\t\\t<a href=\"https://www.cefetmg.br/calendario/inscricoes-para-cadastro-de-certificadores-do-enem-2020/\">\\n\\t\\t\\t\\t\\t\\t\\t<div>\\n\\t\\t\\t\\t\\t\\t\\t\\t\\t\\t\\t\\t\\t\\t\\t\\t<div class=\"calendario_data\">\\n\\t\\t\\t\\t\\t\\t\\t\\t\\t<div>\\n\\t\\t\\t\\t\\t\\t\\t\\t\\t\\t<span class=\"calendario_dia\">09</span><br/>\\n\\t\\t\\t\\t\\t\\t\\t\\t\\t\\t<span class=\"calendario_mes\">set</span>\\n\\t\\t\\t\\t\\t\\t\\t\\t\\t</div>\\n\\t\\t\\t\\t\\t\\t\\t\\t</div>\\n\\t\\t\\t\\t\\t\\t\\t</div>\\n\\t\\t\\t\\t\\t\\t\\t<div>\\n\\t\\t\\t\\t\\t\\t\\t\\t<p>Inscri\\xc3\\xa7\\xc3\\xb5es para cadastro de certificadores do Enem 2020</p>\\n\\t\\t\\t\\t\\t\\t\\t</div>\\n\\t\\t\\t\\t\\t\\t</a>\\n\\t\\t\\t\\t\\t</div>\\n\\t\\t\\t\\t\\t\\t\\t</div>\\n\\t\\t\\t<div class=\"btn_mais\">\\n\\t\\t\\t\\t<a class=\"btn btn_calendario\" href=\"https://www.cefetmg.br/calendario\"><strong>outros eventos ></strong></a>\\n\\t\\t\\t</div>\\n\\t\\t</div>\\n\\t</section><!-- Fim Section Calendario -->\\n\\n\\n\\t<section class=\"campus\">\\n\\t\\t<div class=\"container\">\\n\\t\\t\\t<h2 class=\"subtitulo\"><img class=\"subtitulo_icone\" src=\"https://www.cefetmg.br/wp-content/themes/principal/img/campus.png\" />Campi do Cefet-MG</h2>\\n\\t\\t\\t<div class=\"row\">\\n\\t\\t\\t\\t\\t\\t\\t\\t<div class=\"col-md-4 col-lg\">\\n\\t\\t\\t\\t\\t<figure>\\n\\t\\t\\t\\t\\t\\t<img class=\"campus_imagem\" src=\"https://www.cefetmg.br/wp-content/uploads/2019/11/mapa-1.jpg\" alt=\"\" />\\n\\t\\t\\t\\t\\t\\t<figcaption></figcaption>\\n\\t\\t\\t\\t\\t</figure>\\n\\t\\t\\t\\t</div>\\n\\t\\t\\t\\t\\t\\t\\t\\t\\t<div class=\"col-md-4 col-lg\">\\n\\t\\t\\t\\t\\t\\t<a href=\"http://www.araxa.cefetmg.br/\">\\n\\t\\t\\t\\t\\t\\t\\t<figure class=\"campus_col\">\\n\\t\\t\\t\\t\\t\\t\\t\\t<img class=\"campus_imagem\" src=\"https://www.cefetmg.br/wp-content/uploads/2019/09/Arax\\xc3\\xa1-b-035.jpg\" alt=\"Arax\\xc3\\xa1\" />\\n\\t\\t\\t\\t\\t\\t\\t\\t<figcaption class=\"campus_rotulo\">Arax\\xc3\\xa1</figcaption>\\n\\t\\t\\t\\t\\t\\t\\t</figure>\\n\\t\\t\\t\\t\\t\\t</a>\\n\\t\\t\\t\\t\\t</div>\\n\\t\\t\\t\\t\\t\\t\\t\\t\\t<div class=\"col-md-4 col-lg\">\\n\\t\\t\\t\\t\\t\\t<a href=\"http://www.campus1.cefetmg.br/\">\\n\\t\\t\\t\\t\\t\\t\\t<figure class=\"campus_col\">\\n\\t\\t\\t\\t\\t\\t\\t\\t<img class=\"campus_imagem\" src=\"https://www.cefetmg.br/wp-content/uploads/2019/09/BH-Campus-I-b-067.jpg\" alt=\"BH - Nova Su\\xc3\\xad\\xc3\\xa7a (campus I)\" />\\n\\t\\t\\t\\t\\t\\t\\t\\t<figcaption class=\"campus_rotulo\">BH - Nova Su\\xc3\\xad\\xc3\\xa7a (campus I)</figcaption>\\n\\t\\t\\t\\t\\t\\t\\t</figure>\\n\\t\\t\\t\\t\\t\\t</a>\\n\\t\\t\\t\\t\\t</div>\\n\\t\\t\\t\\t\\t\\t\\t\\t\\t<div class=\"col-md-4 col-lg\">\\n\\t\\t\\t\\t\\t\\t<a href=\"http://www.campus2.cefetmg.br/\">\\n\\t\\t\\t\\t\\t\\t\\t<figure class=\"campus_col\">\\n\\t\\t\\t\\t\\t\\t\\t\\t<img class=\"campus_imagem\" src=\"https://www.cefetmg.br/wp-content/uploads/2019/09/JS-Campus_II_MG_6915.jpg\" alt=\"BH - Nova Gameleira (campus II)\" />\\n\\t\\t\\t\\t\\t\\t\\t\\t<figcaption class=\"campus_rotulo\">BH - Nova Gameleira (campus II)</figcaption>\\n\\t\\t\\t\\t\\t\\t\\t</figure>\\n\\t\\t\\t\\t\\t\\t</a>\\n\\t\\t\\t\\t\\t</div>\\n\\t\\t\\t\\t\\t\\t\\t\\t\\t<div class=\"col-md-4 col-lg\">\\n\\t\\t\\t\\t\\t\\t<a href=\"http://www.campus6.cefetmg.br/\">\\n\\t\\t\\t\\t\\t\\t\\t<figure class=\"campus_col\">\\n\\t\\t\\t\\t\\t\\t\\t\\t<img class=\"campus_imagem\" src=\"https://www.cefetmg.br/wp-content/uploads/2019/09/61117341_2299655303621641_4429965621421146112_n-e1568401901550.jpg\" alt=\"BH - Gameleira (campus VI)\" />\\n\\t\\t\\t\\t\\t\\t\\t\\t<figcaption class=\"campus_rotulo\">BH - Gameleira (campus VI)</figcaption>\\n\\t\\t\\t\\t\\t\\t\\t</figure>\\n\\t\\t\\t\\t\\t\\t</a>\\n\\t\\t\\t\\t\\t</div>\\n\\t\\t\\t\\t\\t\\t\\t\\t\\t<div class=\"col-md-4 col-lg\">\\n\\t\\t\\t\\t\\t\\t<a href=\"http://www.contagem.cefetmg.br/\">\\n\\t\\t\\t\\t\\t\\t\\t<figure class=\"campus_col\">\\n\\t\\t\\t\\t\\t\\t\\t\\t<img class=\"campus_imagem\" src=\"https://www.cefetmg.br/wp-content/uploads/2019/09/43755150202_2c55684d8d_z-e1568401928875.jpg\" alt=\"Contagem\" />\\n\\t\\t\\t\\t\\t\\t\\t\\t<figcaption class=\"campus_rotulo\">Contagem</figcaption>\\n\\t\\t\\t\\t\\t\\t\\t</figure>\\n\\t\\t\\t\\t\\t\\t</a>\\n\\t\\t\\t\\t\\t</div>\\n\\t\\t\\t\\t\\t\\t\\t</div>\\n\\t\\t\\t<div class=\"row\">\\n\\t\\t\\t\\t\\t\\t\\t\\t\\t<div class=\"col-md-4 col-lg\">\\n\\t\\t\\t\\t\\t\\t<a href=\"http://www.curvelo.cefetmg.br/\">\\n\\t\\t\\t\\t\\t\\t\\t<figure class=\"campus_col\">\\n\\t\\t\\t\\t\\t\\t\\t\\t<img class=\"campus_imagem\" src=\"https://www.cefetmg.br/wp-content/uploads/2019/09/Curvelo-b-039.jpg\" alt=\"Curvelo\" />\\n\\t\\t\\t\\t\\t\\t\\t\\t<figcaption class=\"campus_rotulo\">Curvelo</figcaption>\\n\\t\\t\\t\\t\\t\\t\\t</figure>\\n\\t\\t\\t\\t\\t\\t</a>\\n\\t\\t\\t\\t\\t</div>\\n\\t\\t\\t\\t\\t\\t\\t\\t\\t<div class=\"col-md-4 col-lg\">\\n\\t\\t\\t\\t\\t\\t<a href=\"http://www.divinopolis.cefetmg.br/\">\\n\\t\\t\\t\\t\\t\\t\\t<figure class=\"campus_col\">\\n\\t\\t\\t\\t\\t\\t\\t\\t<img class=\"campus_imagem\" src=\"https://www.cefetmg.br/wp-content/uploads/2019/09/Divin\\xc3\\xb3polis-a-047.jpg\" alt=\"Divin\\xc3\\xb3polis\" />\\n\\t\\t\\t\\t\\t\\t\\t\\t<figcaption class=\"campus_rotulo\">Divin\\xc3\\xb3polis</figcaption>\\n\\t\\t\\t\\t\\t\\t\\t</figure>\\n\\t\\t\\t\\t\\t\\t</a>\\n\\t\\t\\t\\t\\t</div>\\n\\t\\t\\t\\t\\t\\t\\t\\t\\t<div class=\"col-md-4 col-lg\">\\n\\t\\t\\t\\t\\t\\t<a href=\"http://www.leopoldina.cefetmg.br/\">\\n\\t\\t\\t\\t\\t\\t\\t<figure class=\"campus_col\">\\n\\t\\t\\t\\t\\t\\t\\t\\t<img class=\"campus_imagem\" src=\"https://www.cefetmg.br/wp-content/uploads/2019/09/Leopoldina-b-026.jpg\" alt=\"Leopoldina\" />\\n\\t\\t\\t\\t\\t\\t\\t\\t<figcaption class=\"campus_rotulo\">Leopoldina</figcaption>\\n\\t\\t\\t\\t\\t\\t\\t</figure>\\n\\t\\t\\t\\t\\t\\t</a>\\n\\t\\t\\t\\t\\t</div>\\n\\t\\t\\t\\t\\t\\t\\t\\t\\t<div class=\"col-md-4 col-lg\">\\n\\t\\t\\t\\t\\t\\t<a href=\"http://www.nepomuceno.cefetmg.br/\">\\n\\t\\t\\t\\t\\t\\t\\t<figure class=\"campus_col\">\\n\\t\\t\\t\\t\\t\\t\\t\\t<img class=\"campus_imagem\" src=\"https://www.cefetmg.br/wp-content/uploads/2019/09/Nepobuceno-b-027.jpg\" alt=\"Nepomuceno\" />\\n\\t\\t\\t\\t\\t\\t\\t\\t<figcaption class=\"campus_rotulo\">Nepomuceno</figcaption>\\n\\t\\t\\t\\t\\t\\t\\t</figure>\\n\\t\\t\\t\\t\\t\\t</a>\\n\\t\\t\\t\\t\\t</div>\\n\\t\\t\\t\\t\\t\\t\\t\\t\\t<div class=\"col-md-4 col-lg\">\\n\\t\\t\\t\\t\\t\\t<a href=\"http://www.timoteo.cefetmg.br/\">\\n\\t\\t\\t\\t\\t\\t\\t<figure class=\"campus_col\">\\n\\t\\t\\t\\t\\t\\t\\t\\t<img class=\"campus_imagem\" src=\"https://www.cefetmg.br/wp-content/uploads/2019/10/Tim\\xc3\\xb3teo-b-033-e1573585551505.jpg\" alt=\"Tim\\xc3\\xb3teo\" />\\n\\t\\t\\t\\t\\t\\t\\t\\t<figcaption class=\"campus_rotulo\">Tim\\xc3\\xb3teo</figcaption>\\n\\t\\t\\t\\t\\t\\t\\t</figure>\\n\\t\\t\\t\\t\\t\\t</a>\\n\\t\\t\\t\\t\\t</div>\\n\\t\\t\\t\\t\\t\\t\\t\\t\\t<div class=\"col-md-4 col-lg\">\\n\\t\\t\\t\\t\\t\\t<a href=\"http://www.varginha.cefetmg.br/\">\\n\\t\\t\\t\\t\\t\\t\\t<figure class=\"campus_col\">\\n\\t\\t\\t\\t\\t\\t\\t\\t<img class=\"campus_imagem\" src=\"https://www.cefetmg.br/wp-content/uploads/2019/10/Varginha-b-019.jpg\" alt=\"Varginha\" />\\n\\t\\t\\t\\t\\t\\t\\t\\t<figcaption class=\"campus_rotulo\">Varginha</figcaption>\\n\\t\\t\\t\\t\\t\\t\\t</figure>\\n\\t\\t\\t\\t\\t\\t</a>\\n\\t\\t\\t\\t\\t</div>\\n\\t\\t\\t\\t\\t\\t\\t</div>\\n\\t\\t</div>\\n\\t</section><!-- Fim Section Campus -->\\n\\n\\n\\t<section class=\"estude\">\\n\\t\\t<div class=\"container\">\\n\\t\\t\\t<h2 class=\"subtitulo\"><img class=\"subtitulo_icone\" src=\"https://www.cefetmg.br/wp-content/themes/principal/img/estude.png\" />Estude no Cefet-MG</h2>\\n\\t\\t\\t<div class=\"row\">\\n\\t\\t\\t\\t\\t\\t\\t\\t\\t<div class=\"col-md-12 col-lg\">\\n\\t\\t\\t\\t\\t\\t<a href=\"https://www.copeve.cefetmg.br/\">\\n\\t\\t\\t\\t\\t\\t\\t<div class=\"col-md\">\\n\\t\\t\\t\\t\\t\\t\\t\\t<div class=\"estude_imagem\"><img src=\"https://www.cefetmg.br/wp-content/uploads/2019/06/estude1.png\" alt=\"Cursos T\\xc3\\xa9cnicos: Vestibular\" /></div>\\n\\t\\t\\t\\t\\t\\t\\t\\t<h4>Cursos T\\xc3\\xa9cnicos: Vestibular</h4>\\n\\t\\t\\t\\t\\t\\t\\t</div>\\n\\t\\t\\t\\t\\t\\t</a>\\n\\t\\t\\t\\t\\t</div>\\n\\t\\t\\t\\t\\t\\t\\t\\t\\t<div class=\"col-md-12 col-lg\">\\n\\t\\t\\t\\t\\t\\t<a href=\"http://www.vestibular.cefetmg.br\">\\n\\t\\t\\t\\t\\t\\t\\t<div class=\"col-md\">\\n\\t\\t\\t\\t\\t\\t\\t\\t<div class=\"estude_imagem\"><img src=\"https://www.cefetmg.br/wp-content/uploads/2019/09/sisu-logo.png\" alt=\"Gradua\\xc3\\xa7\\xc3\\xa3o: SISU\" /></div>\\n\\t\\t\\t\\t\\t\\t\\t\\t<h4>Gradua\\xc3\\xa7\\xc3\\xa3o: SISU</h4>\\n\\t\\t\\t\\t\\t\\t\\t</div>\\n\\t\\t\\t\\t\\t\\t</a>\\n\\t\\t\\t\\t\\t</div>\\n\\t\\t\\t\\t\\t\\t\\t\\t\\t<div class=\"col-md-12 col-lg\">\\n\\t\\t\\t\\t\\t\\t<a href=\"https://www.vestibular.cefetmg.br/\">\\n\\t\\t\\t\\t\\t\\t\\t<div class=\"col-md\">\\n\\t\\t\\t\\t\\t\\t\\t\\t<div class=\"estude_imagem\"><img src=\"https://www.cefetmg.br/wp-content/uploads/2019/09/transferencia.png\" alt=\"Transfer\\xc3\\xaancia\" /></div>\\n\\t\\t\\t\\t\\t\\t\\t\\t<h4>Transfer\\xc3\\xaancia</h4>\\n\\t\\t\\t\\t\\t\\t\\t</div>\\n\\t\\t\\t\\t\\t\\t</a>\\n\\t\\t\\t\\t\\t</div>\\n\\t\\t\\t\\t\\t\\t\\t\\t\\t<div class=\"col-md-12 col-lg\">\\n\\t\\t\\t\\t\\t\\t<a href=\"https://www.vestibular.cefetmg.br/\">\\n\\t\\t\\t\\t\\t\\t\\t<div class=\"col-md\">\\n\\t\\t\\t\\t\\t\\t\\t\\t<div class=\"estude_imagem\"><img src=\"https://www.cefetmg.br/wp-content/uploads/2019/09/novotitulo.png\" alt=\"Obten\\xc3\\xa7\\xc3\\xa3o de Novo T\\xc3\\xadtulo\" /></div>\\n\\t\\t\\t\\t\\t\\t\\t\\t<h4>Obten\\xc3\\xa7\\xc3\\xa3o de Novo T\\xc3\\xadtulo</h4>\\n\\t\\t\\t\\t\\t\\t\\t</div>\\n\\t\\t\\t\\t\\t\\t</a>\\n\\t\\t\\t\\t\\t</div>\\n\\t\\t\\t\\t\\t\\t\\t\\t\\t<div class=\"col-md-12 col-lg\">\\n\\t\\t\\t\\t\\t\\t<a href=\"https://sig.cefetmg.br/sigaa/public/processo_seletivo/lista.jsf?nivel=S&aba=p-stricto\">\\n\\t\\t\\t\\t\\t\\t\\t<div class=\"col-md\">\\n\\t\\t\\t\\t\\t\\t\\t\\t<div class=\"estude_imagem\"><img src=\"https://www.cefetmg.br/wp-content/uploads/2019/09/posgraduacao.png\" alt=\"P\\xc3\\xb3s-Gradua\\xc3\\xa7\\xc3\\xa3o\" /></div>\\n\\t\\t\\t\\t\\t\\t\\t\\t<h4>P\\xc3\\xb3s-Gradua\\xc3\\xa7\\xc3\\xa3o</h4>\\n\\t\\t\\t\\t\\t\\t\\t</div>\\n\\t\\t\\t\\t\\t\\t</a>\\n\\t\\t\\t\\t\\t</div>\\n\\t\\t\\t\\t\\t\\t\\t</div>\\n\\t\\t</div>\\n\\t</section><!-- Fim Section Estude -->\\n\\n\\n\\t<section class=\"cursos\">\\n\\t\\t<div class=\"container\">\\n\\t\\t\\t<h2 class=\"subtitulo\"><img class=\"subtitulo_icone\" src=\"https://www.cefetmg.br/wp-content/themes/principal/img/cursos.png\" />Cursos</h2>\\n\\t\\t\\t<div class=\"row\">\\n\\t\\t\\t\\t\\t\\t\\t\\t\\t<div class=\"col-md-4 curso_nivel\">\\n\\t\\t\\t\\t\\t\\t<a href=\"https://www.cefetmg.br/educacao-profissional-tecnica-de-nivel-medio/\">\\n\\t\\t\\t\\t\\t\\t\\t<figure>\\n\\t\\t\\t\\t\\t\\t\\t\\t<img src=\"https://www.cefetmg.br/wp-content/uploads/2019/09/Tim\\xc3\\xb3teo-b-071.jpg\" alt=\"Educa\\xc3\\xa7\\xc3\\xa3o T\\xc3\\xa9cnica de N\\xc3\\xadvel M\\xc3\\xa9dio\" />\\n\\t\\t\\t\\t\\t\\t\\t\\t<figcaption>Educa\\xc3\\xa7\\xc3\\xa3o T\\xc3\\xa9cnica de N\\xc3\\xadvel M\\xc3\\xa9dio</figcaption>\\n\\t\\t\\t\\t\\t\\t\\t</figure>\\n\\t\\t\\t\\t\\t\\t</a>\\n\\t\\t\\t\\t\\t</div>\\n\\t\\t\\t\\t\\t\\t\\t\\t\\t<div class=\"col-md-4 curso_nivel\">\\n\\t\\t\\t\\t\\t\\t<a href=\"https://www.cefetmg.br/graduacao/\">\\n\\t\\t\\t\\t\\t\\t\\t<figure>\\n\\t\\t\\t\\t\\t\\t\\t\\t<img src=\"https://www.cefetmg.br/wp-content/uploads/2019/09/BH-Campus-II-b-146.jpg\" alt=\"Gradua\\xc3\\xa7\\xc3\\xa3o\" />\\n\\t\\t\\t\\t\\t\\t\\t\\t<figcaption>Gradua\\xc3\\xa7\\xc3\\xa3o</figcaption>\\n\\t\\t\\t\\t\\t\\t\\t</figure>\\n\\t\\t\\t\\t\\t\\t</a>\\n\\t\\t\\t\\t\\t</div>\\n\\t\\t\\t\\t\\t\\t\\t\\t\\t<div class=\"col-md-4 curso_nivel\">\\n\\t\\t\\t\\t\\t\\t<a href=\"https://www.cefetmg.br/pos-graduacao/\">\\n\\t\\t\\t\\t\\t\\t\\t<figure>\\n\\t\\t\\t\\t\\t\\t\\t\\t<img src=\"https://www.cefetmg.br/wp-content/uploads/2019/09/BH-Campus-I-b-033.jpg\" alt=\"P\\xc3\\xb3s-Gradua\\xc3\\xa7\\xc3\\xa3o\" />\\n\\t\\t\\t\\t\\t\\t\\t\\t<figcaption>P\\xc3\\xb3s-Gradua\\xc3\\xa7\\xc3\\xa3o</figcaption>\\n\\t\\t\\t\\t\\t\\t\\t</figure>\\n\\t\\t\\t\\t\\t\\t</a>\\n\\t\\t\\t\\t\\t</div>\\n\\t\\t\\t\\t\\t\\t\\t</div>\\n\\t\\t</div>\\n\\t</section><!-- Fim Section Cursos -->\\n\\n\\t\\n\\t<footer>\\n\\t\\t<div class=\"footer\">\\n\\t\\t\\t<div class=\"container\">\\n\\t\\t\\t\\t<div class=\"row\">\\n\\t\\t\\t\\t\\t<div class=\"col-md\">\\n\\t\\t\\t\\t\\t\\t<h5>Sobre a Institui\\xc3\\xa7\\xc3\\xa3o</h5>\\n\\t\\t\\t\\t\\t\\t<ul>\\n\\t\\t\\t\\t\\t\\t\\t\\t\\t\\t\\t\\t\\t\\t\\t\\t<li>\\n\\t\\t\\t\\t\\t\\t\\t\\t\\t\\t<a href=\"http://www.cefetmg.br/instituicao/historia/\">\\n\\t\\t\\t\\t\\t\\t\\t\\t\\t\\t\\tHist\\xc3\\xb3ria\\t\\t\\t\\t\\t\\t\\t\\t\\t\\t</a>\\n\\t\\t\\t\\t\\t\\t\\t\\t\\t</li>\\n\\t\\t\\t\\t\\t\\t\\t\\t\\t\\t\\t\\t\\t\\t\\t\\t<li>\\n\\t\\t\\t\\t\\t\\t\\t\\t\\t\\t<a href=\"http://www.cefetmg.br/instituicao/quem-e-quem/\">\\n\\t\\t\\t\\t\\t\\t\\t\\t\\t\\t\\tQuem \\xc3\\xa9 quem\\t\\t\\t\\t\\t\\t\\t\\t\\t\\t</a>\\n\\t\\t\\t\\t\\t\\t\\t\\t\\t</li>\\n\\t\\t\\t\\t\\t\\t\\t\\t\\t\\t\\t\\t\\t\\t\\t\\t<li>\\n\\t\\t\\t\\t\\t\\t\\t\\t\\t\\t<a href=\"http://www.cefetmg.br/wp-content/uploads/2019/09/Organograma-Conselho-Diretor-DG-CEFETMG-2018_2019-1.png\">\\n\\t\\t\\t\\t\\t\\t\\t\\t\\t\\t\\tOrganograma\\t\\t\\t\\t\\t\\t\\t\\t\\t\\t</a>\\n\\t\\t\\t\\t\\t\\t\\t\\t\\t</li>\\n\\t\\t\\t\\t\\t\\t\\t\\t\\t\\t\\t\\t\\t\\t\\t\\t<li>\\n\\t\\t\\t\\t\\t\\t\\t\\t\\t\\t<a href=\"\">\\n\\t\\t\\t\\t\\t\\t\\t\\t\\t\\t\\t\\t\\t\\t\\t\\t\\t\\t\\t\\t\\t</a>\\n\\t\\t\\t\\t\\t\\t\\t\\t\\t</li>\\n\\t\\t\\t\\t\\t\\t\\t\\t\\t\\t\\t\\t\\t\\t\\t\\t<li>\\n\\t\\t\\t\\t\\t\\t\\t\\t\\t\\t<a href=\"http://www.cefetmg.br/acesso-a-informacao/carta-de-servicos-ao-cidadao/\">\\n\\t\\t\\t\\t\\t\\t\\t\\t\\t\\t\\tServi\\xc3\\xa7os ao Cidad\\xc3\\xa3o\\t\\t\\t\\t\\t\\t\\t\\t\\t\\t</a>\\n\\t\\t\\t\\t\\t\\t\\t\\t\\t</li>\\n\\t\\t\\t\\t\\t\\t\\t\\t\\t\\t\\t\\t\\t\\t\\t\\t<li>\\n\\t\\t\\t\\t\\t\\t\\t\\t\\t\\t<a href=\"http://www.cefetmg.br/instituicao/telefones-e-enderecos/\">\\n\\t\\t\\t\\t\\t\\t\\t\\t\\t\\t\\tAtendimento\\t\\t\\t\\t\\t\\t\\t\\t\\t\\t</a>\\n\\t\\t\\t\\t\\t\\t\\t\\t\\t</li>\\n\\t\\t\\t\\t\\t\\t\\t\\t\\t\\t\\t\\t\\t</ul>\\n\\t\\t\\t\\t\\t</div>\\n\\t\\t\\t\\t\\t<div class=\"col-md\">\\n\\t\\t\\t\\t\\t\\t<h5>Mais</h5>\\n\\t\\t\\t\\t\\t\\t<ul>\\n\\t\\t\\t\\t\\t\\t\\t\\t\\t\\t\\t\\t\\t\\t\\t\\t<li>\\n\\t\\t\\t\\t\\t\\t\\t\\t\\t\\t<a href=\"http://www.segep.cefetmg.br/servicos/professor-substituto/selecao-prof-substituto/\">\\n\\t\\t\\t\\t\\t\\t\\t\\t\\t\\t\\tConcursos Prof. Tempor\\xc3\\xa1rio\\t\\t\\t\\t\\t\\t\\t\\t\\t\\t</a>\\n\\t\\t\\t\\t\\t\\t\\t\\t\\t</li>\\n\\t\\t\\t\\t\\t\\t\\t\\t\\t\\t\\t\\t\\t\\t\\t\\t<li>\\n\\t\\t\\t\\t\\t\\t\\t\\t\\t\\t<a href=\"https://sig.cefetmg.br\">\\n\\t\\t\\t\\t\\t\\t\\t\\t\\t\\t\\tSistema Integrado de Gest\\xc3\\xa3o\\t\\t\\t\\t\\t\\t\\t\\t\\t\\t</a>\\n\\t\\t\\t\\t\\t\\t\\t\\t\\t</li>\\n\\t\\t\\t\\t\\t\\t\\t\\t\\t\\t\\t\\t\\t\\t\\t\\t<li>\\n\\t\\t\\t\\t\\t\\t\\t\\t\\t\\t<a href=\"http://www.prefeitura.cefetmg.br\">\\n\\t\\t\\t\\t\\t\\t\\t\\t\\t\\t\\tPrefeitura\\t\\t\\t\\t\\t\\t\\t\\t\\t\\t</a>\\n\\t\\t\\t\\t\\t\\t\\t\\t\\t</li>\\n\\t\\t\\t\\t\\t\\t\\t\\t\\t\\t\\t\\t\\t\\t\\t\\t<li>\\n\\t\\t\\t\\t\\t\\t\\t\\t\\t\\t<a href=\"https://seer.dppg.cefetmg.br/\">\\n\\t\\t\\t\\t\\t\\t\\t\\t\\t\\t\\tPortal de Peri\\xc3\\xb3dicos\\t\\t\\t\\t\\t\\t\\t\\t\\t\\t</a>\\n\\t\\t\\t\\t\\t\\t\\t\\t\\t</li>\\n\\t\\t\\t\\t\\t\\t\\t\\t\\t\\t\\t\\t\\t\\t\\t\\t<li>\\n\\t\\t\\t\\t\\t\\t\\t\\t\\t\\t<a href=\"http://www.somos.cefetmg.br/\">\\n\\t\\t\\t\\t\\t\\t\\t\\t\\t\\t\\tSomos\\t\\t\\t\\t\\t\\t\\t\\t\\t\\t</a>\\n\\t\\t\\t\\t\\t\\t\\t\\t\\t</li>\\n\\t\\t\\t\\t\\t\\t\\t\\t\\t\\t\\t\\t\\t\\t\\t\\t<li>\\n\\t\\t\\t\\t\\t\\t\\t\\t\\t\\t<a href=\"http://www.cefetmg.br/mapa-do-site/#Mapa%20do%20Site\">\\n\\t\\t\\t\\t\\t\\t\\t\\t\\t\\t\\tMapa do Site\\t\\t\\t\\t\\t\\t\\t\\t\\t\\t</a>\\n\\t\\t\\t\\t\\t\\t\\t\\t\\t</li>\\n\\t\\t\\t\\t\\t\\t\\t\\t\\t\\t\\t\\t\\t</ul>\\n\\t\\t\\t\\t\\t</div>\\n\\t\\t\\t\\t\\t<div class=\"col-md\">\\n\\t\\t\\t\\t\\t\\t<h5>Servi\\xc3\\xa7os</h5>\\n\\t\\t\\t\\t\\t\\t<ul>\\n\\t\\t\\t\\t\\t\\t\\t\\t\\t\\t\\t\\t\\t\\t\\t\\t<li>\\n\\t\\t\\t\\t\\t\\t\\t\\t\\t\\t<a href=\"http://www.sinapse.cefetmg.br/jsp/gru/pagina/manterguiagru/emitirguiagru.jsf\">\\n\\t\\t\\t\\t\\t\\t\\t\\t\\t\\t\\tEmiss\\xc3\\xa3o de GRU\\t\\t\\t\\t\\t\\t\\t\\t\\t\\t</a>\\n\\t\\t\\t\\t\\t\\t\\t\\t\\t</li>\\n\\t\\t\\t\\t\\t\\t\\t\\t\\t\\t\\t\\t\\t\\t\\t\\t<li>\\n\\t\\t\\t\\t\\t\\t\\t\\t\\t\\t<a href=\"http://www.dpg.cefetmg.br/\">\\n\\t\\t\\t\\t\\t\\t\\t\\t\\t\\t\\tFormul\\xc3\\xa1rios\\t\\t\\t\\t\\t\\t\\t\\t\\t\\t</a>\\n\\t\\t\\t\\t\\t\\t\\t\\t\\t</li>\\n\\t\\t\\t\\t\\t\\t\\t\\t\\t\\t\\t\\t\\t\\t\\t\\t<li>\\n\\t\\t\\t\\t\\t\\t\\t\\t\\t\\t<a href=\"https://grupos.cefetmg.br/wws\">\\n\\t\\t\\t\\t\\t\\t\\t\\t\\t\\t\\tLista de e-mails\\t\\t\\t\\t\\t\\t\\t\\t\\t\\t</a>\\n\\t\\t\\t\\t\\t\\t\\t\\t\\t</li>\\n\\t\\t\\t\\t\\t\\t\\t\\t\\t\\t\\t\\t\\t\\t\\t\\t<li>\\n\\t\\t\\t\\t\\t\\t\\t\\t\\t\\t<a href=\"http://www.prefeitura.cefetmg.br/lista-telefonica-do-cefet-mg/\">\\n\\t\\t\\t\\t\\t\\t\\t\\t\\t\\t\\tLista telef\\xc3\\xb4nica\\t\\t\\t\\t\\t\\t\\t\\t\\t\\t</a>\\n\\t\\t\\t\\t\\t\\t\\t\\t\\t</li>\\n\\t\\t\\t\\t\\t\\t\\t\\t\\t\\t\\t\\t\\t\\t\\t\\t<li>\\n\\t\\t\\t\\t\\t\\t\\t\\t\\t\\t<a href=\"https://www2.cefetmg.br/textoGeral/Boletim/boletim.html\">\\n\\t\\t\\t\\t\\t\\t\\t\\t\\t\\t\\tBoletim\\t\\t\\t\\t\\t\\t\\t\\t\\t\\t</a>\\n\\t\\t\\t\\t\\t\\t\\t\\t\\t</li>\\n\\t\\t\\t\\t\\t\\t\\t\\t\\t\\t\\t\\t\\t\\t\\t\\t<li>\\n\\t\\t\\t\\t\\t\\t\\t\\t\\t\\t<a href=\"http://www.cefetmg.br/perguntas-frequentes/\">\\n\\t\\t\\t\\t\\t\\t\\t\\t\\t\\t\\tPerguntas frequentes\\t\\t\\t\\t\\t\\t\\t\\t\\t\\t</a>\\n\\t\\t\\t\\t\\t\\t\\t\\t\\t</li>\\n\\t\\t\\t\\t\\t\\t\\t\\t\\t\\t\\t\\t\\t</ul>\\n\\t\\t\\t\\t\\t</div>\\n\\t\\t\\t\\t\\t<div class=\"col-md-4 footer_redes\">\\n\\t\\t\\t\\t\\t\\t<ul>\\n\\t\\t\\t\\t\\t\\t\\t\\t\\t\\t\\t\\t\\t\\t\\t\\t<li>\\n\\t\\t\\t\\t\\t\\t\\t\\t\\t\\t\\t\\t\\t\\t\\t\\t\\t\\t\\t\\t<a href=\"https://twitter.com/cefet_mg\">\\n\\t\\t\\t\\t\\t\\t\\t\\t\\t\\t\\t<img src=\"https://www.cefetmg.br/wp-content/uploads/2019/06/twitter.png\" alt=\"Twitter\" />\\n\\t\\t\\t\\t\\t\\t\\t\\t\\t\\t</a>\\n\\t\\t\\t\\t\\t\\t\\t\\t\\t</li>\\n\\t\\t\\t\\t\\t\\t\\t\\t\\t\\t\\t\\t\\t\\t\\t\\t<li>\\n\\t\\t\\t\\t\\t\\t\\t\\t\\t\\t\\t\\t\\t\\t\\t\\t\\t\\t\\t\\t<a href=\"https://www.facebook.com/cefetmg\">\\n\\t\\t\\t\\t\\t\\t\\t\\t\\t\\t\\t<img src=\"https://www.cefetmg.br/wp-content/uploads/2019/09/facebook-1.png\" alt=\"Facebook\" />\\n\\t\\t\\t\\t\\t\\t\\t\\t\\t\\t</a>\\n\\t\\t\\t\\t\\t\\t\\t\\t\\t</li>\\n\\t\\t\\t\\t\\t\\t\\t\\t\\t\\t\\t\\t\\t\\t\\t\\t<li>\\n\\t\\t\\t\\t\\t\\t\\t\\t\\t\\t\\t\\t\\t\\t\\t\\t\\t\\t\\t\\t<a href=\"https://www.youtube.com/c/CEFETMGoficial\">\\n\\t\\t\\t\\t\\t\\t\\t\\t\\t\\t\\t<img src=\"https://www.cefetmg.br/wp-content/uploads/2019/09/youtube.png\" alt=\"YouTube\" />\\n\\t\\t\\t\\t\\t\\t\\t\\t\\t\\t</a>\\n\\t\\t\\t\\t\\t\\t\\t\\t\\t</li>\\n\\t\\t\\t\\t\\t\\t\\t\\t\\t\\t\\t\\t\\t\\t\\t\\t<li>\\n\\t\\t\\t\\t\\t\\t\\t\\t\\t\\t\\t\\t\\t\\t\\t\\t\\t\\t\\t\\t<a href=\"https://www.instagram.com/cefetmg/\">\\n\\t\\t\\t\\t\\t\\t\\t\\t\\t\\t\\t<img src=\"https://www.cefetmg.br/wp-content/uploads/2019/11/instagram.png\" alt=\"Instagram\" />\\n\\t\\t\\t\\t\\t\\t\\t\\t\\t\\t</a>\\n\\t\\t\\t\\t\\t\\t\\t\\t\\t</li>\\n\\t\\t\\t\\t\\t\\t\\t\\t\\t\\t\\t\\t\\t</ul>\\n\\t\\t\\t\\t\\t\\t<img class=\"footer_imagem\" src=\"https://www.cefetmg.br/wp-content/uploads/2019/06/logo_rodape.png\" alt=\"\" />\\n\\t\\t\\t\\t\\t</div>\\n\\t\\t\\t\\t</div>\\n\\t\\t\\t</div>\\n\\t\\t</div>\\n\\t\\t<div class=\"endereco\">\\n\\t\\t\\t<div class=\"container\">\\n\\t\\t\\t\\t<div class=\"row justify-content-center\">\\n\\t\\t\\t\\t\\t<div class=\"col-xl-6 col-lg-8 col-md-10\">\\n\\t\\t\\t\\t\\t\\t<img class=\"endereco_icone\" src=\"https://www.cefetmg.br/wp-content/themes/principal/img/local.png\" />\\n\\t\\t\\t\\t\\t\\t<p>Centro Federal de Educa\\xc3\\xa7\\xc3\\xa3o Tecnol\\xc3\\xb3gica de Minas Gerais - CEFET-MG</p>\\n\\t\\t\\t\\t\\t\\t<p>Av. Amazonas, 5.253, Nova Sui\\xc3\\xa7a, Belo Horizonte, MG, Brasil. CEP: 30.421-169</p>\\n\\t\\t\\t\\t\\t\\t<p>Telefone: +55 (31) 3319-7000</p>\\n\\t\\t\\t\\t\\t</div>\\n\\t\\t\\t\\t</div>\\n\\t\\t\\t</div>\\n\\t\\t</div>\\n\\t</footer>\\n\\n<script type=\\'text/javascript\\' src=\\'https://www.cefetmg.br/wp-content/themes/principal/js/jquery-3.4.1.min.js?ver=3.4.1\\'></script>\\n<script type=\\'text/javascript\\' src=\\'https://www.cefetmg.br/wp-content/themes/principal/js/bootstrap.min.js?ver=5.0.4\\'></script>\\n<script type=\\'text/javascript\\' src=\\'https://www.cefetmg.br/wp-content/themes/principal/js/menu.js?ver=5.0.4\\'></script>\\n<script type=\\'text/javascript\\' src=\\'https://www.cefetmg.br/wp-content/themes/principal/js/main.js?ver=5.0.4\\'></script>\\n<script type=\\'text/javascript\\' src=\\'https://www.cefetmg.br/wp-includes/js/wp-embed.min.js?ver=5.0.4\\'></script>\\n</body>\\n</html>'\n",
      "<class 'int'>\n",
      "<class 'int'>\n",
      "<class 'int'>\n",
      "<class 'int'>\n",
      "<class 'int'>\n",
      "<class 'int'>\n",
      "<class 'int'>\n",
      "<class 'int'>\n",
      "<class 'int'>\n",
      "<class 'int'>\n",
      "<class 'int'>\n",
      "<class 'int'>\n",
      "<class 'int'>\n",
      "<class 'int'>\n",
      "<class 'int'>\n",
      "<class 'int'>\n",
      "<class 'int'>\n",
      "<class 'int'>\n",
      "<class 'int'>\n",
      "<class 'int'>\n",
      "<class 'int'>\n",
      "<class 'int'>\n",
      "<class 'int'>\n",
      "<class 'int'>\n",
      "<class 'int'>\n",
      "<class 'int'>\n",
      "<class 'int'>\n",
      "<class 'int'>\n",
      "<class 'int'>\n",
      "<class 'int'>\n",
      "<class 'int'>\n",
      "<class 'int'>\n",
      "<class 'int'>\n",
      "<class 'int'>\n",
      "<class 'int'>\n",
      "<class 'int'>\n",
      "<class 'int'>\n",
      "<class 'int'>\n",
      "<class 'int'>\n",
      "<class 'int'>\n",
      "<class 'int'>\n",
      "<class 'int'>\n",
      "<class 'int'>\n",
      "<class 'int'>\n",
      "<class 'int'>\n",
      "<class 'int'>\n",
      "<class 'int'>\n",
      "<class 'int'>\n",
      "<class 'int'>\n",
      "<class 'int'>\n",
      "<class 'int'>\n",
      "<class 'int'>\n",
      "<class 'int'>\n",
      "<class 'int'>\n",
      "<class 'int'>\n",
      "<class 'int'>\n",
      "<class 'int'>\n",
      "<class 'int'>\n",
      "<class 'int'>\n",
      "<class 'int'>\n",
      "<class 'int'>\n",
      "<class 'int'>\n",
      "<class 'int'>\n",
      "<class 'int'>\n",
      "<class 'int'>\n",
      "<class 'int'>\n",
      "<class 'int'>\n",
      "<class 'int'>\n",
      "<class 'int'>\n",
      "<class 'int'>\n",
      "<class 'int'>\n",
      "<class 'int'>\n",
      "<class 'int'>\n",
      "<class 'int'>\n",
      "<class 'int'>\n",
      "<class 'int'>\n",
      "<class 'int'>\n",
      "<class 'int'>\n",
      "<class 'int'>\n",
      "<class 'int'>\n",
      "<class 'int'>\n",
      "<class 'int'>\n",
      "<class 'int'>\n",
      "<class 'int'>\n",
      "<class 'int'>\n",
      "<class 'int'>\n",
      "<class 'int'>\n",
      "<class 'int'>\n",
      "<class 'int'>\n",
      "<class 'int'>\n",
      "<class 'int'>\n",
      "<class 'int'>\n",
      "<class 'int'>\n",
      "<class 'int'>\n",
      "<class 'int'>\n",
      "<class 'int'>\n",
      "<class 'int'>\n",
      "<class 'int'>\n",
      "<class 'int'>\n",
      "<class 'int'>\n",
      "<class 'int'>\n",
      "<class 'int'>\n",
      "<class 'int'>\n",
      "<class 'int'>\n",
      "<class 'int'>\n",
      "<class 'int'>\n",
      "<class 'int'>\n",
      "<class 'int'>\n",
      "<class 'int'>\n",
      "<class 'int'>\n",
      "<class 'int'>\n",
      "<class 'int'>\n",
      "<class 'int'>\n",
      "<class 'int'>\n",
      "<class 'int'>\n",
      "<class 'int'>\n",
      "<class 'int'>\n",
      "<class 'int'>\n",
      "<class 'int'>\n",
      "<class 'int'>\n",
      "<class 'int'>\n",
      "<class 'int'>\n",
      "<class 'int'>\n",
      "<class 'int'>\n",
      "<class 'int'>\n",
      "<class 'int'>\n",
      "<class 'int'>\n",
      "<class 'int'>\n",
      "<class 'int'>\n",
      "<class 'int'>\n",
      "<class 'int'>\n",
      "<class 'int'>\n",
      "<class 'int'>\n",
      "<class 'int'>\n",
      "<class 'int'>\n",
      "<class 'int'>\n",
      "<class 'int'>\n",
      "<class 'int'>\n",
      "<class 'int'>\n",
      "<class 'int'>\n",
      "<class 'int'>\n",
      "<class 'int'>\n",
      "<class 'int'>\n",
      "<class 'int'>\n",
      "<class 'int'>\n",
      "<class 'int'>\n",
      "<class 'int'>\n",
      "<class 'int'>\n",
      "<class 'int'>\n",
      "<class 'int'>\n",
      "<class 'int'>\n",
      "<class 'int'>\n",
      "<class 'int'>\n",
      "<class 'int'>\n",
      "<class 'int'>\n",
      "<class 'int'>\n",
      "<class 'int'>\n",
      "<class 'int'>\n",
      "<class 'int'>\n",
      "<class 'int'>\n",
      "<class 'int'>\n",
      "<class 'int'>\n",
      "<class 'int'>\n",
      "<class 'int'>\n",
      "<class 'int'>\n",
      "<class 'int'>\n",
      "<class 'int'>\n",
      "<class 'int'>\n",
      "<class 'int'>\n",
      "<class 'int'>\n",
      "<class 'int'>\n",
      "<class 'int'>\n",
      "<class 'int'>\n",
      "<class 'int'>\n",
      "<class 'int'>\n",
      "<class 'int'>\n",
      "<class 'int'>\n",
      "<class 'int'>\n",
      "<class 'int'>\n",
      "<class 'int'>\n",
      "<class 'int'>\n",
      "<class 'int'>\n",
      "<class 'int'>\n",
      "<class 'int'>\n",
      "<class 'int'>\n",
      "<class 'int'>\n",
      "<class 'int'>\n",
      "<class 'int'>\n",
      "<class 'int'>\n",
      "<class 'int'>\n",
      "<class 'int'>\n",
      "<class 'int'>\n",
      "<class 'int'>\n",
      "<class 'int'>\n",
      "<class 'int'>\n",
      "<class 'int'>\n",
      "<class 'int'>\n",
      "<class 'int'>\n",
      "<class 'int'>\n",
      "<class 'int'>\n",
      "<class 'int'>\n",
      "<class 'int'>\n",
      "<class 'int'>\n",
      "<class 'int'>\n",
      "<class 'int'>\n",
      "<class 'int'>\n",
      "<class 'int'>\n",
      "<class 'int'>\n",
      "<class 'int'>\n",
      "<class 'int'>\n",
      "<class 'int'>\n",
      "<class 'int'>\n",
      "<class 'int'>\n"
     ]
    }
   ],
   "source": [
    "from crawler.scheduler import Scheduler\n",
    "from crawler.page_fetcher import PageFetcher\n",
    "\n",
    "arr_urls_seeds = [\"https://kubernetes.io/pt/\",\"https://www.terraform.io/\",\"http://www.crea-mg.org.br/\",\"https://www.cefetmg.br/\",\"https://www.google.com/\",\"https://youtube.com/\"]\n",
    "empadinha = Scheduler(str_usr_agent=\"crawlbot\", int_page_limit=30, int_depth_limit=3, arr_urls_seeds=arr_urls_seeds)\n",
    "\n",
    "coquinhagelada = PageFetcher(empadinha)\n",
    "paodequeijo = PageFetcher(empadinha)\n",
    "coxinha = PageFetcher(empadinha)\n",
    "batatafrita = PageFetcher(empadinha)\n",
    "sorvete = PageFetcher(empadinha)\n",
    "\n",
    "coquinhagelada.run()\n",
    "paodequeijo.run()\n",
    "coxinha.run()\n",
    "batatafrita.run()\n",
    "sorvete.run()"
   ]
  },
  {
   "cell_type": "markdown",
   "metadata": {},
   "source": [
    "# Bibliografia\n",
    "\n",
    "Baeza-Yates, Ricardo; Ribeiro-Neto, Berthier. **Modern information retrieval: the concepts and technology behind search**. ACM Press, 2011.\n",
    "\n",
    "Batista, Natércia ; Brandão, Michele ; Pinheiro, Michele ; Dalip, Daniel ; Moro, Mirella . **[Dados de Múltiplas Fontes da Web: coleta, integração e pré-processamento](https://sol.sbc.org.br/livros/index.php/sbc/catalog/download/8/19/58-1?inline=1)**. Minicursos do XXIV Simpósio Brasileiro de Sistemas Multimídia e Web. 1ed.: Sociedade Brasileira de Computação, 2018, v. , p. 153-192.\n",
    "\n",
    "\n",
    "\n",
    "\n"
   ]
  },
  {
   "cell_type": "code",
   "execution_count": null,
   "metadata": {},
   "outputs": [],
   "source": []
  }
 ],
 "metadata": {
  "kernelspec": {
   "display_name": "Python 3",
   "language": "python",
   "name": "python3"
  },
  "language_info": {
   "codemirror_mode": {
    "name": "ipython",
    "version": 3
   },
   "file_extension": ".py",
   "mimetype": "text/x-python",
   "name": "python",
   "nbconvert_exporter": "python",
   "pygments_lexer": "ipython3",
   "version": "3.8.2"
  }
 },
 "nbformat": 4,
 "nbformat_minor": 4
}
