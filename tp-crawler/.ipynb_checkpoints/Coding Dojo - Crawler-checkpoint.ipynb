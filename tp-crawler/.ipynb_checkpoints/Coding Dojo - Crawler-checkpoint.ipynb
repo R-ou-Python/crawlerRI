{
 "cells": [
  {
   "cell_type": "code",
   "execution_count": 1,
   "metadata": {},
   "outputs": [],
   "source": [
    "# ☯ Coding Dojo ☯"
   ]
  },
  {
   "cell_type": "markdown",
   "metadata": {},
   "source": [
    "<img style=\"float:left\" src=\"imgs/vamos_coletar.png\">\n",
    "## Regras\n",
    "\n",
    "Ponto de participação, poderá perdido se:\n",
    "\n",
    "    - Aluno atrasado (ver política de atraso na especificação)\n",
    "    - Recusar participação como piloto/copiloto\n",
    "        - Ou não querer sair do computador, quando solicitado :-)\n",
    "    - Demorar para sair quando solicitado\n",
    "    - Parar de participar por:\n",
    "        - Uso de outro computador\n",
    "        - Uso de celular\n",
    "        - Usar a internet\n",
    "        - Conversa\n"
   ]
  },
  {
   "cell_type": "markdown",
   "metadata": {},
   "source": [
    "Antes de entregar, certifique-se que tenha executado todos os comandos/códigos deste Jupyter. É obrigatório que todas as saídas tenham sido apresentadas. Perda de 3 pontos caso não tenham feito isso."
   ]
  },
  {
   "cell_type": "markdown",
   "metadata": {},
   "source": [
    "# Dependencias"
   ]
  },
  {
   "cell_type": "markdown",
   "metadata": {},
   "source": [
    "Se necessário, instale o python3 e o pip3 abaixo usando `sudo apt-get install python3 python3-pip`.  Execute abaixo para instalar o [BeautifulSoup](https://www.crummy.com/software/BeautifulSoup/). Qualquer linha de comando/código como a de baixo, você pode executá-la a selecionando e pressionando `ctrl+enter` ❣️."
   ]
  },
  {
   "cell_type": "code",
   "execution_count": 2,
   "metadata": {},
   "outputs": [
    {
     "name": "stdout",
     "output_type": "stream",
     "text": [
      "Requirement already satisfied: bs4 in /home/natha/.local/lib/python3.8/site-packages (0.0.1)\n",
      "Requirement already satisfied: beautifulsoup4 in /home/natha/.local/lib/python3.8/site-packages (from bs4) (4.9.1)\n",
      "Requirement already satisfied: soupsieve>1.2 in /home/natha/.local/lib/python3.8/site-packages (from beautifulsoup4->bs4) (2.0.1)\n"
     ]
    }
   ],
   "source": [
    "!pip3 install bs4"
   ]
  },
  {
   "cell_type": "markdown",
   "metadata": {},
   "source": [
    "Caso de comando não encontrado `pip3` use `pip`. "
   ]
  },
  {
   "cell_type": "markdown",
   "metadata": {},
   "source": [
    "# Coletor"
   ]
  },
  {
   "cell_type": "markdown",
   "metadata": {},
   "source": [
    "<img src=\"imgs/arquitetura_coletor.png\">"
   ]
  },
  {
   "cell_type": "markdown",
   "metadata": {},
   "source": [
    "Você deverá completar a implementação das três classes abaixo para fazer o coletor: `Domain`, `Scheduler` e `PageFetcher`. Conforme figura acima, o `Scheduler` é responsável por armazenar as filas de URLs a serem requisitadas; o PageFetcher serão *threads* responsáveis por fazer as requisições das URLs obtidas por meio do escalonador (instancia da classe `Scheduler`). A classe `Domain` armazena informações importantes sobre o servidor a serem usadas no momento do escalonamento das URLs."
   ]
  },
  {
   "cell_type": "markdown",
   "metadata": {},
   "source": [
    "## Classe `Domain`"
   ]
  },
  {
   "cell_type": "markdown",
   "metadata": {},
   "source": [
    "<figure style=\"text-align:center\">\n",
    "    <img src=\"imgs/estrutura_coletor.png\">\n",
    "    <caption>Fonte: Baeza-Yates e Ribeiro-Neto, 2011 </caption>\n",
    "</figure>"
   ]
  },
  {
   "cell_type": "markdown",
   "metadata": {},
   "source": [
    "Antes de começar a fazer o escalonador (classe `Scheduler`) devemos implementar a classe que representa os domínios. Conforme visto na figura acima, o escalonador possuirá diversas filas, uma para cada servidor.  Em nosso caso, o servidor será um domínio - que você irá implementar na classe `Domain` do arquivo `domain.py`. \n",
    "\n",
    "O escalonador percorrerá cada servidor e obterá o primeiro da fila do primeiro servidor acessível. O servidor é acessível obdecendo o limite de tempo entre requisições (em segundos, usando o atributo `int_time_limit_between_requests`). \n",
    "\n",
    "Nesta atividade você irá implementar a classe `Domain`, que já possui os seguintes atributos: \n",
    "\n",
    "- *int_time_limit_between_requests*: Limite entre requisições (int)\n",
    "- *nam_domain*: Nome do domínio (String)\n",
    "- *time_last_access*: [Objeto Datetime](https://docs.python.org/3/library/datetime.html#datetime-objects) informando da data/hora do último acesso \n",
    "\n",
    "O prefixo da variável sempre irá denotar o tipo da mesma."
   ]
  },
  {
   "cell_type": "markdown",
   "metadata": {},
   "source": [
    "**Atividade 1 - classe `Domain`**: Complete a classe `Domain` implementando os métodos/atributos calculados descritos a seguir. Logo após, execute o ❣️ teste unitário ❣️ para verificar se os métodos/atributos calculados foram implementados conforme esperado.\n",
    "\n",
    "- **accessed_now**: Método que modifica o último acesso com a data/hora atual usando um [objeto datetime](https://docs.python.org/3/library/datetime.html#datetime-objects)\n",
    "- **time_since_last_access**: Atributo calculado que retorna um [objeto TimeDelta](https://docs.python.org/3/library/datetime.html#timedelta-objects) com a diferença da data atual e a data do último acesso. Veja os exemplos de uso do TimeDelta na sua documentação\n",
    "- **is_accessible**: Método que verdadeiro se o domínio estiver acessível"
   ]
  },
  {
   "cell_type": "markdown",
   "metadata": {},
   "source": [
    "Os métodos `count_fetched_page` e `has_finished_crawl` já estão implementados. Execute o teste unitário a seguir. Veja que o comando abaixo executa o teste unitário presente no arquivo `crawler/scheduler_test.py`. Analise-o para entender como implementamos testes unitários."
   ]
  },
  {
   "cell_type": "code",
   "execution_count": 3,
   "metadata": {},
   "outputs": [
    {
     "name": "stdout",
     "output_type": "stream",
     "text": [
      "Verificando acesso a um dominio já requisitado (após espera)\n",
      "aguardando 10 segundos...\n",
      ".\n",
      "----------------------------------------------------------------------\n",
      "Ran 1 test in 10.008s\n",
      "\n",
      "OK\n"
     ]
    }
   ],
   "source": [
    "!python3 -m crawler.scheduler_test DomainTest.test_domain"
   ]
  },
  {
   "cell_type": "markdown",
   "metadata": {},
   "source": [
    "**Atividade 2 - métodos `__hash__` e `__eq__` da classe `Domain`**: A fila será implementada por um dicionario ordenado ([OrderedDict](https://docs.python.org/2/library/collections.html#collections.OrderedDict)) em que a chave será um objeto da classe domínio e o valor serão uma lista de URLs. Para que seja possível a busca do domínio, você deverá implementar os métodos `__hash__` e `__eq__` de forma similar ao seguinte exemplo: "
   ]
  },
  {
   "cell_type": "code",
   "execution_count": 4,
   "metadata": {},
   "outputs": [
    {
     "name": "stdout",
     "output_type": "stream",
     "text": [
      "True\n"
     ]
    }
   ],
   "source": [
    "from collections import OrderedDict\n",
    "class Xuxu():\n",
    "    def __str__(self):\n",
    "        return \"xuxuuu\"\n",
    "    \n",
    "    def __hash__(self):\n",
    "        return hash(\"xuxu\")\n",
    "    def __eq__(self, x):\n",
    "        return x == \"xuxu\"\n",
    "d = OrderedDict()\n",
    "d[Xuxu()] = 'A'\n",
    "print(\"xuxu\" in d)"
   ]
  },
  {
   "cell_type": "markdown",
   "metadata": {},
   "source": [
    "Em nosso caso, deve ser permitido fazer a busca no dicionario pelo nome do domínio ou pelo objeto, ou seja, após a implementação desta atividade, o seguinte código irá funcionar corretamente: "
   ]
  },
  {
   "cell_type": "code",
   "execution_count": 5,
   "metadata": {},
   "outputs": [
    {
     "name": "stdout",
     "output_type": "stream",
     "text": [
      "oi\n",
      "oi\n"
     ]
    }
   ],
   "source": [
    "from crawler.domain import Domain\n",
    "from collections import OrderedDict\n",
    "\n",
    "obj_domain = Domain(\"oi.com\",10)\n",
    "dic_x = OrderedDict()\n",
    "dic_x[obj_domain] = \"lala\"\n",
    "dic_x[\"oi.com\"] = \"oi\"\n",
    "\n",
    "#abaixo, em ambos os casos, será encontrado/impresso a string \"oi\"\n",
    "print(dic_x[\"oi.com\"])\n",
    "print(dic_x[obj_domain])"
   ]
  },
  {
   "cell_type": "markdown",
   "metadata": {},
   "source": [
    "Lembre-se que, em nosso caso, o parametro do método `__eq__` pode ser um objeto da classe `Domain` ou uma string representando o nome do domínio. Caso faça alguma modificação no código, você deverá reiniciar o kernel para que o efeito seja visto no código acima (para reiniciar, clique em Kernel->Restart). Isso ocorre que, uma vez dado import em um módulo, esse modulo não é alterado no Jupyter caso você faça uma modificação no código."
   ]
  },
  {
   "cell_type": "markdown",
   "metadata": {},
   "source": [
    "## Classe `Scheduler`"
   ]
  },
  {
   "cell_type": "markdown",
   "metadata": {},
   "source": [
    "Agora você irá implementar o escalonador. Essa classe será responsável por gerenciar as URLs. \n",
    "Para isso, será implementado as filas por servidores conforme apresentado na figura da seção anterior. \n",
    "Para isso, utilizaremos um OrderedDict em que as chaves são os servidores (objeto da classe `Domain`) e o valor será uma lista de tuplas com as URLs e sua profundidade. Com o objetivo de armazenar as URLs de forma estruturada, as mesmas **não serão** string, ao invés disso, serão objetos da classe `ParseResult` - essa classe é retornada do método [urlparse](https://docs.python.org/3/library/urllib.parse.html). Veja um exemplo abaixo.\n",
    "\n"
   ]
  },
  {
   "cell_type": "code",
   "execution_count": 6,
   "metadata": {},
   "outputs": [],
   "source": [
    "from crawler.domain import Domain\n",
    "from crawler.scheduler import Scheduler\n",
    "from urllib.parse import urlparse\n",
    "\n",
    "dict_filas_por_servidor = {Domain(\"www.globo.com\",10):[(urlparse(\"http://www.globo.com/esporte\"),1),\n",
    "                                                (urlparse(\"http://www.globo.com/noticia_um\"),2),\n",
    "                                                (urlparse(\"http://www.globo.com/noticia_dois\"),3),\n",
    "                                                (urlparse(\"http://www.globo.com/noticia_tres\"),3),\n",
    "                                                ],\n",
    "                            Domain(\"www.cnpq.br\",10):[(urlparse(\"http://www.cnpq.br/pesquisadores\"),1),\n",
    "                                               (urlparse(\"http://www.cnpq.br/bolsas\"),1)]\n",
    "                          }"
   ]
  },
  {
   "cell_type": "markdown",
   "metadata": {},
   "source": [
    "Assim, a classe `Scheduler`, no arquivo `scheduler.py` possui os seguintes atributos: \n",
    "\n",
    "- `str_usr_agent`: Nome do `User agent`. Usualmente, é o nome do navegador, em nosso caso,  será o nome do coletor (usualmente, terminado em `bot`)\n",
    "- `int_page_limit`: Número de páginas a serem coletadas\n",
    "- `int_depth_limit`: Profundidade máxima a ser coletada\n",
    "- `int_page_count`: Quantidade de página já coletada\n",
    "- `dic_url_per_domain`: Fila de URLs por domínio (explicado anteriormente)\n",
    "- `set_discovered_urls`: Conjunto de URLs descobertas, ou seja, que foi extraída em algum HTML e já adicionadas na fila - mesmo se já ela foi retirada da fila. A URL armazenada deve ser uma string.\n",
    "- `dic_robots_per_domain`: Dicionário armazenando, para cada domínio, o objeto representando as regras obtidas no `robots.txt`"
   ]
  },
  {
   "cell_type": "markdown",
   "metadata": {},
   "source": [
    "**Atividad 3 - Método `can_add_page`**: Esse método irá retornar verdadeiro caso seja possível adicionar a página `obj_url` (objeto da classe ParseResult) que foi coletada na profundidade `int_depth`. Para que seja possível adicionar na lista, esta pagina não deve ter sido descoberta e nem com a profundidade maior que o limite. Este método será testado por teste unitário apenas após a implementação da adição e obtenção das URLs."
   ]
  },
  {
   "cell_type": "markdown",
   "metadata": {},
   "source": [
    "**Atividade 4 método `add_new_page` - Adicionar nova página**:  Este método retorna falso caso não seja possível adicionar a página (por meio do método `can_add_page`) e verdadeiro, caso contrário. Caso seja possível, deve-se adicionar a url `obj_url` na fila `dic_url_per_domain`. Lembre-se da estrutura do dicionário `dic_url_per_domain`. Não esqueça de armazenar que esta URL já foi descoberta. Este método será testado por teste unitário apenas após a implementação da obtenção das URLs. Lembre-se de como trabalhar com [dicionários](https://daniel-hasan.github.io/cefet-web-grad/classes/python2/#mais-colecoes)"
   ]
  },
  {
   "cell_type": "markdown",
   "metadata": {},
   "source": [
    "**Atividade 5 método `get_next_url` - obtém a próxima URL da fila**: Este método retona uma tupla `url,profundade` da próxima URL a ser coletada por meio da fila `dic_url_per_domain` retirando este item da fila. Lembre-se que: \n",
    "    \n",
    "- Ele deverá retornar a primeira URL do primeiro servidor que estiver acessível. \n",
    "- Você deve indicar que o servidor foi acessado \n",
    "- Caso a fila deste servidor esteja vazia, elimine-o do dicionário\n",
    "- Caso não encontre a URL, [coloque a Thread para esperar](https://docs.python.org/2/library/time.html#time.sleep) e, logo após, procure novamente \n",
    "\n",
    "Logo após, você já pode executar o teste unitário para verificar se a obtenção e adição de URLs está correta. Caso haja algum problema, existem já alguns prints comentados no código, descomente-os para verificar se o fluxo está ocorrendo da forma correta. Você deverá entregar sem a exibição desses prints (caso contrário, perderá pontos)."
   ]
  },
  {
   "cell_type": "code",
   "execution_count": 7,
   "metadata": {},
   "outputs": [
    {
     "name": "stdout",
     "output_type": "stream",
     "text": [
      "Verificação da ordem das URLs...\n",
      "Resgatando a segunda página do mesmo dominio...\n",
      "Tempo esperado: 20 segundos\n",
      ".\n",
      "----------------------------------------------------------------------\n",
      "Ran 1 test in 20.021s\n",
      "\n",
      "OK\n"
     ]
    }
   ],
   "source": [
    "!python3 -m crawler.scheduler_test SchedulerTest.test_add_remove_pages"
   ]
  },
  {
   "cell_type": "markdown",
   "metadata": {},
   "source": [
    "**Atividade 6 método `can_fetch_page`**: Este método deve retornar verdadeiro caso a url (Objeto `ParseResult`), passada como parâmetro, pode ser coletada de acordo com o `Robots.txt` do domínio. Para isso, você deve usar o [`RobotFileParser`](https://docs.python.org/3/library/urllib.robotparser.html). Por razões de performance, você só poderá requisitar o robots.txt uma única vez por domínio. Assim, use o `dic_robots_per_domain` apropriadamente. Execute o teste unitário abaixo para verificar seu funcionamento. "
   ]
  },
  {
   "cell_type": "code",
   "execution_count": 8,
   "metadata": {},
   "outputs": [
    {
     "name": "stdout",
     "output_type": "stream",
     "text": [
      "E\n",
      "======================================================================\n",
      "ERROR: test_can_fetch_page (__main__.SchedulerTest)\n",
      "----------------------------------------------------------------------\n",
      "Traceback (most recent call last):\n",
      "  File \"/home/natha/CEFET/crawlerRI/tp-crawler/crawler/scheduler_test.py\", line 88, in test_can_fetch_page\n",
      "    obj_robot_not_allowed = self.scheduler.dic_robots_per_domain[obj_url_not_allowed.netloc]\n",
      "KeyError: 'www.globo.com'\n",
      "\n",
      "----------------------------------------------------------------------\n",
      "Ran 1 test in 1.995s\n",
      "\n",
      "FAILED (errors=1)\n"
     ]
    }
   ],
   "source": [
    "!python3 -m crawler.scheduler_test SchedulerTest.test_can_fetch_page"
   ]
  },
  {
   "cell_type": "markdown",
   "metadata": {},
   "source": [
    "**Atividade 7 - Inicialização das sementes no contrutor**: No contrutor da classe `Scheduler` você deve adicionar as páginas sementes na fila. Tais sementes são passadas pelo parametro `arr_urls_seeds` do contrutor. "
   ]
  },
  {
   "cell_type": "code",
   "execution_count": 9,
   "metadata": {},
   "outputs": [
    {
     "name": "stdout",
     "output_type": "stream",
     "text": [
      ".\n",
      "----------------------------------------------------------------------\n",
      "Ran 1 test in 0.000s\n",
      "\n",
      "OK\n"
     ]
    }
   ],
   "source": [
    "!python3 -m crawler.scheduler_test SchedulerTest.test_init"
   ]
  },
  {
   "cell_type": "markdown",
   "metadata": {},
   "source": [
    "Logo após, utize a anotação @synchronized aonde julgar necessário para transformar em ThreadSafe."
   ]
  },
  {
   "cell_type": "markdown",
   "metadata": {},
   "source": [
    "## PageFetcher"
   ]
  },
  {
   "cell_type": "markdown",
   "metadata": {},
   "source": [
    "**Atividade 8 - Efetuar a requisição - método `request_url`:** Neste método você irá fazer a requisição usando a api [requests](https://requests.readthedocs.io/en/master/). Além disso, deve-se informar no cabeçalho (em `User-Agent`) o nome do coletor. O método deverá retornar o conteúdo (em binário) apenas se o conteúdo for HTML (ver no cabeçalho da resposta o tipo do conteúdo). Caso não seja, ele deverá retornar nulo. "
   ]
  },
  {
   "cell_type": "code",
   "execution_count": 10,
   "metadata": {},
   "outputs": [
    {
     "name": "stdout",
     "output_type": "stream",
     "text": [
      "URL do request: http://www.google.com.br\n",
      "URL do request: https://code.jquery.com/jquery-3.4.1.js\n",
      ".\n",
      "----------------------------------------------------------------------\n",
      "Ran 1 test in 0.571s\n",
      "\n",
      "OK\n"
     ]
    }
   ],
   "source": [
    "!python3 -m crawler.page_fetcher_test PageFetcherTest.test_request_url"
   ]
  },
  {
   "cell_type": "markdown",
   "metadata": {},
   "source": [
    "**Atividade 9 extração das URLs por meio do método `discover_links`**: A partir do conteúdo (texto em binário) `bin_str_content` deve-se extrair seus os links. O conteúdo esta em binário, pois, o BeautifulSoup, internamente, verifica o encoding por meio da [tag meta](https://www.w3schools.com/tags/att_meta_charset.asp) e converte para UTF8. A URL da página coletada é um objeto ParseResult `obj_url` que está na profundidade `int_depth`. \n",
    "\n",
    "Para cada URL extraída, você deverá retornar uma tupla com a URL (objeto ParseResult) e a sua profundidade. Utilize o comando `yield` para retornar essas tuplas. A profundidade é calculada de por meio de  `obj_url` e `int_depth`, conforme comentado em sala de aula. \n",
    "\n",
    "Para a extração dos links, use o [CSS Selector do BeautifulSoup](https://www.crummy.com/software/BeautifulSoup/bs4/doc/#css-selectors). Seletor CSS é uma expressão que define quais elementos HTML serão estilizados pelo CSS. No *Beatifulsoup* eles são usados para selecionar quais tags serão extraídas. Veja o exemplo de uso e brinque abaixo. Caso precise, veja aqui um pouco de seletores CSS: [slides de Web](https://fegemo.github.io/cefet-front-end/classes/css2/#outros-seletores), [documentação MDN](https://developer.mozilla.org/en-US/docs/Web/CSS/CSS_Selectors)."
   ]
  },
  {
   "cell_type": "code",
   "execution_count": 11,
   "metadata": {},
   "outputs": [],
   "source": [
    "from bs4 import BeautifulSoup\n",
    "\n"
   ]
  },
  {
   "cell_type": "code",
   "execution_count": 12,
   "metadata": {},
   "outputs": [
    {
     "name": "stdout",
     "output_type": "stream",
     "text": [
      "Simulação da extração de links da página http://www.pudim.com.br na profundidade nível 2...\n",
      ".\n",
      "----------------------------------------------------------------------\n",
      "Ran 1 test in 0.001s\n",
      "\n",
      "OK\n"
     ]
    }
   ],
   "source": [
    "!python3 -m crawler.page_fetcher_test PageFetcherTest.test_discover_links"
   ]
  },
  {
   "cell_type": "markdown",
   "metadata": {},
   "source": [
    "**Atividade 10 - método que solicita uma nova URL**: Por meio do método `crawl_new_url` você deverá utilizar os métodos previamente implementados para:\n",
    "\n",
    "- Solicitar ao escalonador uma nova URL\n",
    "- Fazer a requisição e obter o resultado (em binário)\n",
    "- Caso a URL seja um HTML válido, imprima esta URL e extraia os seus links"
   ]
  },
  {
   "cell_type": "markdown",
   "metadata": {},
   "source": [
    "**Atividade 12 - método run**: Este método deve coletar páginas enquanto a coleta não foi finalizada"
   ]
  },
  {
   "cell_type": "markdown",
   "metadata": {},
   "source": [
    "**Atividade 11 - um pequeno teste para finalizar: ** Use as sementes do seu grupo e crie abaixo um escalonador e 5 PageFetchers para extrair 30 páginas. Imprima também o tempo gasto total."
   ]
  },
  {
   "cell_type": "code",
   "execution_count": null,
   "metadata": {},
   "outputs": [
    {
     "name": "stdout",
     "output_type": "stream",
     "text": [
      "http://www.crea-mg.org.br\n",
      "https://www.cefetmg.br\n",
      "https://youtube.com\n",
      "https://www.copeve.cefetmg.br/processos/20202_SUP\n",
      "https://youtu.be/OJKxWMLX3I0\n",
      "http://www.eng-automacao.araxa.cefetmg.br/\n",
      "http://www.eng-minas.araxa.cefetmg.br/\n",
      "http://www.administracao.bh.cefetmg.br/\n",
      "http://www.eng-computacao.bh.cefetmg.br/\n",
      "http://www.eng-eletrica.bh.cefetmg.br\n",
      "http://www.eng-mecanica.bh.cefetmg.br/\n",
      "http://www.eng-civil.bh.cefetmg.br/\n",
      "http://www.eng-ambiental.bh.cefetmg.br/\n",
      "http://www.eng-materiais.bh.cefetmg.br/\n",
      "http://www.eng-transportes.bh.cefetmg.br/\n",
      "http://www.letras.bh.cefetmg.br/\n",
      "http://www.quimicatecnologica.bh.cefetmg.br/\n",
      "http://www.eng-civil.curvelo.cefetmg.br/\n",
      "http://www.designdemoda.divinopolis.cefetmg.br/\n",
      "http://www.eng-computacao.divinopolis.cefetmg.br/\n",
      "http://www.eng-mecatronica.divinopolis.cefetmg.br/\n",
      "http://www.eng-computacao.leopoldina.cefetmg.br/\n",
      "http://www.eng-controleautomacao.leopoldina.cefetmg.br/\n",
      "http://www.eng-eletrica.nepomuceno.cefetmg.br/\n",
      "http://www.eng-computacao.timoteo.cefetmg.br/\n",
      "http://www.eng-metalurgica.timoteo.cefetmg.br/\n",
      "http://www.eng-civil.varginha.cefetmg.br/\n",
      "https://www.youtube.com/about/\n",
      "https://developers.google.com/youtube\n",
      "https://www.google.com.br/intl/pt-BR/policies/privacy/\n",
      "https://policies.google.com/privacy?hl=pt-BR\n",
      "https://www.cefetmg.br/\n",
      "https://www.copeve.cefetmg.br/\n",
      "https://youtu.be//t/contact_us\n",
      "https://www.youtube.com/about/press/\n",
      "http://www.cefetmg.br/home-page/\n",
      "http://www.dept.cefetmg.br/\n",
      "https://youtu.be//t/terms\n",
      "http://www.dirgrad.cefetmg.br/\n",
      "http://www.dppg.cefetmg.br/\n",
      "http://www.dpg.cefetmg.br/\n",
      "http://www.dedc.cefetmg.br/\n",
      "http://www.sgi.cefetmg.br/\n",
      "http://www.secom.cefetmg.br/\n",
      "http://www.segep.cefetmg.br/\n",
      "http://www.spe.cefetmg.br/\n",
      "http://www.srca.cefetmg.br/\n",
      "http://www.sri.cefetmg.br/\n",
      "http://www.conselhodiretor.cefetmg.br/\n",
      "http://www.cepe.cefetmg.br/\n",
      "http://www.vestibular.cefetmg.br\n",
      "http://www.cpa.cefetmg.br/\n",
      "http://www.cppi.cefetmg.br/\n",
      "http://www.araxa.cefetmg.br/\n",
      "https://www.youtube.com/about/copyright/\n",
      "http://www.campus1.cefetmg.br/\n",
      "http://www.campus2.cefetmg.br/\n",
      "http://www.campus6.cefetmg.br/\n",
      "http://www.contagem.cefetmg.br/\n",
      "http://www.curvelo.cefetmg.br/\n",
      "http://www.divinopolis.cefetmg.br/\n",
      "http://www.leopoldina.cefetmg.br/\n",
      "http://www.nepomuceno.cefetmg.br/\n",
      "http://www.timoteo.cefetmg.br/\n",
      "http://www.varginha.cefetmg.br/\n",
      "http://www.cgdct.cefetmg.br/\n",
      "http://www.cgpgl.cefetmg.br/\n",
      "http://www.cep.cefetmg.br/\n",
      "http://www.somos.cefetmg.br/\n",
      "https://periodicos.cefetmg.br/index.php/revista-et\n",
      "http://www.bu.cefetmg.br/\n",
      "http://www.estagio.cefetmg.br/\n",
      "http://www.egressos.cefetmg.br/\n",
      "https://iu.cefetmg.br/\n",
      "https://ava.cefetmg.br/\n",
      "https://sig.cefetmg.br/admin/public/loginunificado/index.jsf\n",
      "http://www.prefeitura.cefetmg.br/\n",
      "https://cs.sgi.cefetmg.br/\n",
      "http://www.mapa.cefetmg.br/\n",
      "http://www.transparencia.gov.br/convenios/consulta?periodoLiberacaoRecursosDe=01%2F01%2F2018&periodoLiberacaoRecursosAte=31%2F12%2F2018&orgaos=OR26257&ordenarPor=concedente&direcao=desc\n",
      "http://www.sccont.cefetmg.br/\n",
      "http://www.slog.cefetmg.br/divisao-de-compras-dicom/licitacoes/\n",
      "http://www.portaltransparencia.gov.br/?minifiedPath=%2Fminified&projectVersion=1.11.0\n",
      "http://www.cgu.gov.br/acessoainformacaogov/materiais-interesse/CartilhaAcessoaInformacao.pdf\n",
      "https://www.cefetmg.br/instituicao/\n",
      "http://www.dept.cefetmg.br/apresentacao-2/\n",
      "http://www.audit.cefetmg.br/\n",
      "https://email.cefetmg.br/\n",
      "https://youtu.be//new\n",
      "https://seer.dppg.cefetmg.br/\n",
      "http://www.sinapse.cefetmg.br/jsp/gru/pagina/manterguiagru/emitirguiagru.jsf\n",
      "http://www.dirgrad.cefetmg.br/conselho-de-graduacao/apresentacao/\n",
      "https://grupos.cefetmg.br/wws\n"
     ]
    }
   ],
   "source": [
    "from crawler.scheduler import Scheduler\n",
    "from crawler.page_fetcher import PageFetcher\n",
    "from datetime import datetime\n",
    "\n",
    "arr_urls_seeds = [\"http://www.crea-mg.org.br\",\"https://www.cefetmg.br\",\"https://youtube.com\"]\n",
    "scheduler = Scheduler(str_usr_agent=\"crawlbot\", int_page_limit=30, int_depth_limit=3, arr_urls_seeds=arr_urls_seeds)\n",
    "\n",
    "pf1 = PageFetcher(scheduler)\n",
    "pf2 = PageFetcher(scheduler)\n",
    "pf3 = PageFetcher(scheduler)\n",
    "pf4 = PageFetcher(scheduler)\n",
    "pf5 = PageFetcher(scheduler)\n",
    "\n",
    "start = datetime.now()\n",
    "\n",
    "pf1.run()\n",
    "pf2.run()\n",
    "pf3.run()\n",
    "pf4.run()\n",
    "pf5.run()\n",
    "\n",
    "end = datetime.now()\n",
    "diff = end - start\n",
    "\n",
    "print('Tempo de coleta: ' + str(diff.total_seconds()))"
   ]
  },
  {
   "cell_type": "code",
   "execution_count": null,
   "metadata": {},
   "outputs": [
    {
     "name": "stdout",
     "output_type": "stream",
     "text": [
      "http://www.crea-mg.org.br\n",
      "# If the Joomla site is installed within a folder \n",
      "# eg www.example.com/joomla/ then the robots.txt file \n",
      "# MUST be moved to the site root \n",
      "# eg www.example.com/robots.txt\n",
      "# AND the joomla folder name MUST be prefixed to all of the\n",
      "# paths. \n",
      "# eg the Disallow rule for the /administrator/ folder MUST \n",
      "# be changed to read \n",
      "# Disallow: /joomla/administrator/\n",
      "#\n",
      "# For more information about the robots.txt standard, see:\n",
      "# http://www.robotstxt.org/orig.html\n",
      "#\n",
      "# For syntax checking, see:\n",
      "# http://tool.motoricerca.info/robots-checker.phtml\n",
      "\n",
      "User-agent: *\n",
      "Disallow: /administrator/\n",
      "Disallow: /bin/\n",
      "Disallow: /cache/\n",
      "Disallow: /cli/\n",
      "Disallow: /components/\n",
      "Disallow: /includes/\n",
      "Disallow: /installation/\n",
      "Disallow: /language/\n",
      "Disallow: /layouts/\n",
      "Disallow: /libraries/\n",
      "Disallow: /logs/\n",
      "Disallow: /modules/\n",
      "Disallow: /plugins/\n",
      "Disallow: /tmp/\n",
      "\n",
      "\n",
      "https://www.cefetmg.br\n",
      "\n",
      "User-agent: *\n",
      "Disallow: /\n",
      "\n",
      "https://youtube.com\n",
      "# robots.txt file for YouTube\n",
      "# Created in the distant future (the year 2000) after\n",
      "# the robotic uprising of the mid 90's which wiped out all humans.\n",
      "\n",
      "User-agent: Mediapartners-Google*\n",
      "Disallow:\n",
      "\n",
      "User-agent: *\n",
      "Disallow: /channel/*/community\n",
      "Disallow: /comment\n",
      "Disallow: /get_video\n",
      "Disallow: /get_video_info\n",
      "Disallow: /live_chat\n",
      "Disallow: /login\n",
      "Disallow: /results\n",
      "Disallow: /signup\n",
      "Disallow: /t/terms\n",
      "Disallow: /timedtext_video\n",
      "Disallow: /user/*/community\n",
      "Disallow: /verify_age\n",
      "Disallow: /watch_ajax\n",
      "Disallow: /watch_fragments_ajax\n",
      "Disallow: /watch_popup\n",
      "Disallow: /watch_queue_ajax\n",
      "\n",
      "Sitemap: https://www.youtube.com/sitemaps/sitemap.xml\n",
      "\n",
      "https://www.copeve.cefetmg.br/processos/20202_SUP\n",
      "User-agent: *\n",
      "Disallow: \n",
      "\n",
      "https://youtu.be/OJKxWMLX3I0\n",
      "# robots.txt file for youtu.be\n",
      "\n",
      "User-agent: *\n",
      "Disallow: /\n",
      "\n",
      "http://www.eng-automacao.araxa.cefetmg.br/\n",
      "\n",
      "\n",
      "\n",
      "\n",
      "\n",
      "\n",
      "\n",
      "\n",
      "User-agent: *\n",
      "Disallow: /wp-admin/\n",
      "\n",
      "http://www.eng-minas.araxa.cefetmg.br/\n",
      "\n",
      "\n",
      "\n",
      "\n",
      "\n",
      "\n",
      "\n",
      "\n",
      "User-agent: *\n",
      "Disallow: /wp-admin/\n",
      "\n",
      "http://www.administracao.bh.cefetmg.br/\n",
      "\n",
      "\n",
      "\n",
      "\n",
      "\n",
      "\n",
      "\n",
      "\n",
      "User-agent: *\n",
      "Disallow: /wp-admin/\n",
      "\n",
      "http://www.eng-computacao.bh.cefetmg.br/\n",
      "\n",
      "\n",
      "\n",
      "\n",
      "\n",
      "\n",
      "\n",
      "\n",
      "User-agent: *\n",
      "Disallow: /wp-admin/\n",
      "\n",
      "http://www.eng-eletrica.bh.cefetmg.br\n",
      "\n",
      "\n",
      "\n",
      "\n",
      "\n",
      "\n",
      "\n",
      "\n",
      "User-agent: *\n",
      "Disallow: /wp-admin/\n",
      "\n",
      "http://www.eng-mecanica.bh.cefetmg.br/\n",
      "\n",
      "\n",
      "\n",
      "\n",
      "\n",
      "\n",
      "\n",
      "\n",
      "User-agent: *\n",
      "Disallow: /wp-admin/\n",
      "\n",
      "http://www.eng-civil.bh.cefetmg.br/\n",
      "\n",
      "\n",
      "\n",
      "\n",
      "\n",
      "\n",
      "\n",
      "\n",
      "User-agent: *\n",
      "Disallow: /wp-admin/\n",
      "\n",
      "http://www.eng-ambiental.bh.cefetmg.br/\n",
      "\n",
      "\n",
      "\n",
      "\n",
      "\n",
      "\n",
      "\n",
      "\n",
      "User-agent: *\n",
      "Disallow: /wp-admin/\n",
      "\n",
      "http://www.eng-materiais.bh.cefetmg.br/\n",
      "\n",
      "\n",
      "\n",
      "\n",
      "\n",
      "\n",
      "\n",
      "\n",
      "User-agent: *\n",
      "Disallow: /wp-admin/\n",
      "\n",
      "http://www.eng-transportes.bh.cefetmg.br/\n",
      "\n",
      "\n",
      "\n",
      "\n",
      "\n",
      "\n",
      "\n",
      "\n",
      "User-agent: *\n",
      "Disallow: /wp-admin/\n",
      "\n"
     ]
    }
   ],
   "source": [
    "from crawler.scheduler import Scheduler\n",
    "from crawler.page_fetcher import PageFetcher\n",
    "from datetime import datetime\n",
    "import pandas as pd\n",
    "\n",
    "list_start = []\n",
    "list_end   = []\n",
    "list_diff  = []\n",
    "\n",
    "def run_fetchers(int_thread_number, scheduler):\n",
    "    lista = []\n",
    "    for i in range(int_thread_number):\n",
    "        lista.append(PageFetcher(scheduler))\n",
    "    \n",
    "    start = datetime.now()\n",
    "    for i in range(int_thread_number):\n",
    "        lista[i].run()\n",
    "    end = datetime.now()\n",
    "    \n",
    "    exectime = end - start\n",
    "    \n",
    "    list_start.append(start)\n",
    "    list_end.append(end)\n",
    "    list_diff.append(exectime.total_seconds())\n",
    "\n",
    "    \n",
    "\n",
    "arr_urls_seeds = [\"http://www.crea-mg.org.br\",\"https://www.cefetmg.br\",\"https://youtube.com\"]\n",
    "scheduler1 = Scheduler(str_usr_agent=\"crawlbot\", int_page_limit=1000, int_depth_limit=6, arr_urls_seeds=arr_urls_seeds)\n",
    "\n",
    "run_fetchers(10, scheduler1)\n",
    "print('Done - 10')\n",
    "run_fetchers(30, scheduler1)\n",
    "print('Done - 30')\n",
    "run_fetchers(50, scheduler1)\n",
    "print('Done - 50')\n",
    "run_fetchers(70, scheduler1)\n",
    "print('Done - 70')\n",
    "run_fetchers(90, scheduler1)\n",
    "print('Done - 90')\n",
    "run_fetchers(100, scheduler1)\n",
    "print('Done - 100')\n",
    "\n",
    "list_pages_per_sec = []\n",
    "for i in len(list_diff):\n",
    "    list_pages_per_sec.append(1000/list_diff[i])\n",
    "\n",
    "table_threads = pd.DataFrame({'Threads' : [\"10\", \"30\", \"50\", \"70\", \"90\", \"100\"],\n",
    "                   'Start' : list_start,\n",
    "                   'End': list_end,\n",
    "                   'Diff' : list_diff,\n",
    "                    'Pages per Second': list_pages_per_sec\n",
    "                       })\n",
    "\n",
    "table_threads"
   ]
  },
  {
   "cell_type": "code",
   "execution_count": 4,
   "metadata": {},
   "outputs": [
    {
     "data": {
      "text/html": [
       "<div>\n",
       "<style scoped>\n",
       "    .dataframe tbody tr th:only-of-type {\n",
       "        vertical-align: middle;\n",
       "    }\n",
       "\n",
       "    .dataframe tbody tr th {\n",
       "        vertical-align: top;\n",
       "    }\n",
       "\n",
       "    .dataframe thead th {\n",
       "        text-align: right;\n",
       "    }\n",
       "</style>\n",
       "<table border=\"1\" class=\"dataframe\">\n",
       "  <thead>\n",
       "    <tr style=\"text-align: right;\">\n",
       "      <th></th>\n",
       "      <th>Threads</th>\n",
       "      <th>Start</th>\n",
       "      <th>End</th>\n",
       "      <th>Diff</th>\n",
       "      <th>Pages per Second</th>\n",
       "    </tr>\n",
       "  </thead>\n",
       "  <tbody>\n",
       "    <tr>\n",
       "      <th>0</th>\n",
       "      <td>10</td>\n",
       "      <td>2020-10-11 00:57:06.976505</td>\n",
       "      <td>2020-10-11 00:59:56.885040</td>\n",
       "      <td>169.908535</td>\n",
       "      <td>0.588552</td>\n",
       "    </tr>\n",
       "    <tr>\n",
       "      <th>1</th>\n",
       "      <td>30</td>\n",
       "      <td>2020-10-11 00:59:56.885385</td>\n",
       "      <td>2020-10-11 01:02:51.714986</td>\n",
       "      <td>174.829601</td>\n",
       "      <td>0.571986</td>\n",
       "    </tr>\n",
       "    <tr>\n",
       "      <th>2</th>\n",
       "      <td>50</td>\n",
       "      <td>2020-10-11 01:02:51.715447</td>\n",
       "      <td>2020-10-11 01:05:29.517582</td>\n",
       "      <td>157.802135</td>\n",
       "      <td>0.633705</td>\n",
       "    </tr>\n",
       "    <tr>\n",
       "      <th>3</th>\n",
       "      <td>70</td>\n",
       "      <td>2020-10-11 01:05:29.517868</td>\n",
       "      <td>2020-10-11 01:08:38.010082</td>\n",
       "      <td>188.492214</td>\n",
       "      <td>0.530526</td>\n",
       "    </tr>\n",
       "    <tr>\n",
       "      <th>4</th>\n",
       "      <td>90</td>\n",
       "      <td>2020-10-11 01:08:38.010330</td>\n",
       "      <td>2020-10-11 01:11:12.391894</td>\n",
       "      <td>154.381564</td>\n",
       "      <td>0.647746</td>\n",
       "    </tr>\n",
       "    <tr>\n",
       "      <th>5</th>\n",
       "      <td>100</td>\n",
       "      <td>2020-10-11 01:11:12.392143</td>\n",
       "      <td>2020-10-11 01:13:45.271739</td>\n",
       "      <td>152.879596</td>\n",
       "      <td>0.654110</td>\n",
       "    </tr>\n",
       "  </tbody>\n",
       "</table>\n",
       "</div>"
      ],
      "text/plain": [
       "  Threads                      Start                        End        Diff  \\\n",
       "0      10 2020-10-11 00:57:06.976505 2020-10-11 00:59:56.885040  169.908535   \n",
       "1      30 2020-10-11 00:59:56.885385 2020-10-11 01:02:51.714986  174.829601   \n",
       "2      50 2020-10-11 01:02:51.715447 2020-10-11 01:05:29.517582  157.802135   \n",
       "3      70 2020-10-11 01:05:29.517868 2020-10-11 01:08:38.010082  188.492214   \n",
       "4      90 2020-10-11 01:08:38.010330 2020-10-11 01:11:12.391894  154.381564   \n",
       "5     100 2020-10-11 01:11:12.392143 2020-10-11 01:13:45.271739  152.879596   \n",
       "\n",
       "   Pages per Second  \n",
       "0          0.588552  \n",
       "1          0.571986  \n",
       "2          0.633705  \n",
       "3          0.530526  \n",
       "4          0.647746  \n",
       "5          0.654110  "
      ]
     },
     "execution_count": 4,
     "metadata": {},
     "output_type": "execute_result"
    }
   ],
   "source": [
    "list_pages_per_sec = []\n",
    "for i in range(len(list_diff)):\n",
    "    list_pages_per_sec.append(100/list_diff[i])\n",
    "\n",
    "table_threads = pd.DataFrame({'Threads' : [\"10\", \"30\", \"50\", \"70\", \"90\", \"100\"],\n",
    "                   'Start' : list_start,\n",
    "                   'End': list_end,\n",
    "                   'Diff' : list_diff,\n",
    "                    'Pages per Second': list_pages_per_sec,\n",
    "                       })\n",
    "\n",
    "table_threads"
   ]
  },
  {
   "cell_type": "markdown",
   "metadata": {},
   "source": [
    "# Bibliografia\n",
    "\n",
    "Baeza-Yates, Ricardo; Ribeiro-Neto, Berthier. **Modern information retrieval: the concepts and technology behind search**. ACM Press, 2011.\n",
    "\n",
    "Batista, Natércia ; Brandão, Michele ; Pinheiro, Michele ; Dalip, Daniel ; Moro, Mirella . **[Dados de Múltiplas Fontes da Web: coleta, integração e pré-processamento](https://sol.sbc.org.br/livros/index.php/sbc/catalog/download/8/19/58-1?inline=1)**. Minicursos do XXIV Simpósio Brasileiro de Sistemas Multimídia e Web. 1ed.: Sociedade Brasileira de Computação, 2018, v. , p. 153-192.\n",
    "\n",
    "\n",
    "\n",
    "\n"
   ]
  },
  {
   "cell_type": "code",
   "execution_count": 9,
   "metadata": {},
   "outputs": [
    {
     "ename": "NameError",
     "evalue": "name 'df' is not defined",
     "output_type": "error",
     "traceback": [
      "\u001b[0;31m---------------------------------------------------------------------------\u001b[0m",
      "\u001b[0;31mNameError\u001b[0m                                 Traceback (most recent call last)",
      "\u001b[0;32m<ipython-input-9-cfc9607f75b2>\u001b[0m in \u001b[0;36m<module>\u001b[0;34m\u001b[0m\n\u001b[1;32m     10\u001b[0m \u001b[0max\u001b[0m \u001b[0;34m=\u001b[0m \u001b[0mplt\u001b[0m\u001b[0;34m.\u001b[0m\u001b[0mgca\u001b[0m\u001b[0;34m(\u001b[0m\u001b[0;34m)\u001b[0m\u001b[0;34m\u001b[0m\u001b[0;34m\u001b[0m\u001b[0m\n\u001b[1;32m     11\u001b[0m \u001b[0;34m\u001b[0m\u001b[0m\n\u001b[0;32m---> 12\u001b[0;31m \u001b[0mdf\u001b[0m\u001b[0;34m.\u001b[0m\u001b[0mplot\u001b[0m\u001b[0;34m(\u001b[0m\u001b[0mkind\u001b[0m\u001b[0;34m=\u001b[0m\u001b[0;34m'line'\u001b[0m\u001b[0;34m,\u001b[0m\u001b[0mx\u001b[0m\u001b[0;34m=\u001b[0m\u001b[0;34m'name'\u001b[0m\u001b[0;34m,\u001b[0m\u001b[0my\u001b[0m\u001b[0;34m=\u001b[0m\u001b[0;34m'num_children'\u001b[0m\u001b[0;34m,\u001b[0m\u001b[0max\u001b[0m\u001b[0;34m=\u001b[0m\u001b[0max\u001b[0m\u001b[0;34m)\u001b[0m\u001b[0;34m\u001b[0m\u001b[0;34m\u001b[0m\u001b[0m\n\u001b[0m\u001b[1;32m     13\u001b[0m \u001b[0mdf\u001b[0m\u001b[0;34m.\u001b[0m\u001b[0mplot\u001b[0m\u001b[0;34m(\u001b[0m\u001b[0mkind\u001b[0m\u001b[0;34m=\u001b[0m\u001b[0;34m'line'\u001b[0m\u001b[0;34m,\u001b[0m\u001b[0mx\u001b[0m\u001b[0;34m=\u001b[0m\u001b[0;34m'name'\u001b[0m\u001b[0;34m,\u001b[0m\u001b[0my\u001b[0m\u001b[0;34m=\u001b[0m\u001b[0;34m'num_pets'\u001b[0m\u001b[0;34m,\u001b[0m \u001b[0mcolor\u001b[0m\u001b[0;34m=\u001b[0m\u001b[0;34m'red'\u001b[0m\u001b[0;34m,\u001b[0m \u001b[0max\u001b[0m\u001b[0;34m=\u001b[0m\u001b[0max\u001b[0m\u001b[0;34m)\u001b[0m\u001b[0;34m\u001b[0m\u001b[0;34m\u001b[0m\u001b[0m\n\u001b[1;32m     14\u001b[0m \u001b[0;34m\u001b[0m\u001b[0m\n",
      "\u001b[0;31mNameError\u001b[0m: name 'df' is not defined"
     ]
    },
    {
     "data": {
      "image/png": "[encoded data removed]",
      "text/plain": [
       "<Figure size 432x288 with 1 Axes>"
      ]
     },
     "metadata": {
      "needs_background": "light"
     },
     "output_type": "display_data"
    }
   ],
   "source": [
    "import matplotlib.pyplot as plt\n",
    "import pandas as pd\n",
    "\n",
    "# gca stands for 'get current axis'\n",
    "ax = plt.gca()\n",
    "\n",
    "table_threads.plot(kind='line',x='Threads',y='Pages per Second',ax=ax)\n",
    "\n",
    "plt.show()"
   ]
  },
  {
   "cell_type": "code",
   "execution_count": null,
   "metadata": {},
   "outputs": [],
   "source": [
    "import matplotlib.pyplot as plt\n",
    "import pandas as pd\n",
    "\n",
    "# gca stands for 'get current axis'\n",
    "ax = plt.gca()\n",
    "\n",
    "table_threads.plot(kind='line',x='Threads',y='Diff',ax=ax)\n",
    "\n",
    "plt.show()"
   ]
  }
 ],
 "metadata": {
  "kernelspec": {
   "display_name": "Python 3",
   "language": "python",
   "name": "python3"
  },
  "language_info": {
   "codemirror_mode": {
    "name": "ipython",
    "version": 3
   },
   "file_extension": ".py",
   "mimetype": "text/x-python",
   "name": "python",
   "nbconvert_exporter": "python",
   "pygments_lexer": "ipython3",
   "version": "3.8.5"
  }
 },
 "nbformat": 4,
 "nbformat_minor": 4
}
