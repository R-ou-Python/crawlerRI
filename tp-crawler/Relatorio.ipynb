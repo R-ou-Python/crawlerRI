{
 "cells": [
  {
   "cell_type": "markdown",
   "metadata": {},
   "source": [
    "<h1><b>Recuperação de Informação na Web 2020/2</b></h1>"
   ]
  },
  {
   "cell_type": "markdown",
   "metadata": {},
   "source": [
    "<h3>Construção de um Coletor de Propósito Geral</h3>"
   ]
  },
  {
   "cell_type": "markdown",
   "metadata": {},
   "source": [
    "Integrantes:    Antonio\n",
    "                Mariana Bulgarelli Alves dos Santos\n",
    "                Nathã Paulino"
   ]
  },
  {
   "cell_type": "markdown",
   "metadata": {},
   "source": [
    "O coletor (crawler) busca realizar a coleta de dados de fontes diversas.\n",
    "\n",
    "O coletor de URL's elaborado é comporto de três classes principais, a saber:\n",
    "<li>Domain</li>\n",
    "<li>Page_fetcher</li>\n",
    "<li>Scheduler</li>\n",
    "\n"
   ]
  },
  {
   "cell_type": "code",
   "execution_count": null,
   "metadata": {},
   "outputs": [],
   "source": [
    "Conteúdo do Relatório\n",
    "\n",
    "\n",
    "a) Principais desafios, decisões e arquitetura utilizada\n",
    "b) URLs sementes utilizadas\n",
    "c) Como foi feito, faça referencias à classes e métodos do código fonte:\n",
    "→ Os critérios de exclusão de robôs e quantidade de tempo entre\n",
    "requisições à um mesmo servidor\n",
    "\n",
    "d) O impacto na velocidade de coleta (quantidade de páginas por segundo) ao\n",
    "aumentar o número de threads 10 a 100, de 20 em 20\n",
    "\n"
   ]
  },
  {
   "cell_type": "code",
   "execution_count": null,
   "metadata": {},
   "outputs": [],
   "source": [
    "e) Link para a página descrevendo o coletor criado\n",
    "Não coloque muito código fonte no relatório – crie arquivo separado com o código\n",
    "e, no relatório, apenas poucas linhas de código para gerar os gráficos/tabelas."
   ]
  },
  {
   "cell_type": "code",
   "execution_count": null,
   "metadata": {},
   "outputs": [],
   "source": [
    "\n",
    "\n",
    "\n",
    "\n",
    "Deverá ser entregue dia 07/10/2020. Com apresentações parciais (ver cronograma0.\n",
    "A entrega deverá conter os seguintes itens em um arquivo comprimido:\n",
    "a) Relatório do trabalho obrigatoriamente em Jupyter Notebook\n",
    "b) Código fonte\n",
    "c) Lista de URLs coletadas. Não é necessário salvar os arquivos.\n",
    "\n",
    "Tarefas\n",
    "Para fazer um coletor é necessário:\n",
    "1) O escalonador deverá possuir:\n",
    "(a) Uma fila de páginas, sendo coletado através de uma busca em largura\n",
    "(b) Não permitir que a mesma url seja coletada mais de uma vez\n",
    "(c) Armazenar a última vez que um servidor foi acessado. Pois, um servidor poderá\n",
    "ser acessado de 30 em 30 segundos\n",
    "2) Multiplas threads para coletar as páginas (os Page Fetchers):\n",
    "(a) Coleta a página que o escalonador organizou\n",
    "(b) Dado a página coletada, extrair seus links e inserir na fila do\n",
    "escalonador todas as páginas coletadas\n",
    "→ A classe ColetorUtil poderá auxiliar no caso de urls relativas, pois\n",
    "os links devem ser sempre adicionados no seu formato completo\n",
    "na fila\n",
    "(c) Levar em consideração páginas html mal-formadas. Você poderá usar\n",
    "uma API para isso.\n",
    "(d) Levar em consideração o encoding da página. A classe ColetorUtil pode auxiliar\n",
    "neste processo\n",
    "(e) Caso a página não exista, a mesma é ignorada\n",
    "Você deverá fazer um coletor que obedeça no mínimo os seguintes requisitos:\n",
    "1) Obedecer os protocolos de exclusão de robôs:\n",
    "1\n",
    "Ver plano didático para detalhes sobre a pontuação(a) critérios pertencentes no robots.txt\n",
    "- Pode ser usado uma API para isto\n",
    "(b) Critérios “noindex” e “nofolow” das metatags de cada html extraído\n",
    "ps: noindex: não é permitido coletar. Nofolow: não é permitido seguir os links por\n",
    "meio desta página\n",
    "(c) Obedecer o prazo de, no mínimo, 30 segundos entre requisições em um mesmo\n",
    "servidor (hostname)\n",
    "→ Caso não obedeça esses critérios o grupo perderá 5 pontos\n",
    "2) Criar um nome no “User agent” (finalizando como bot) e uma página pessoal com\n",
    "descrição do coletor, nome dos membros dos grupos, datas das coletas e propósito das\n",
    "coletas além de um e-mail de contato. Deverá ser explicitado que este coletor baixa\n",
    "apenas páginas públicas sempre levando em consideração a política de exclusão de\n",
    "robôs (robots.txt). Esta página deverá ficar online durante o semestre todo. O endereço\n",
    "da página pessoal deverá ser definida no User agent. Exemplo: “meuBot\n",
    "(wordpress.org/infoMeuBot)”.\n",
    "→ O grupo perderá 5 pontos caso não crie a página e/ou não utilize o nome no “User\n",
    "Agent” devidamente e de acordo com o especificado acima\n",
    "→ Exemplo de páginas de informação de robôs:\n",
    "https://support.apple.com/en-us/HT204683\n",
    "2) Utilizar os seguintes parâmetros no coletor:\n",
    "→ Número máximo de páginas (50.000 páginas)\n",
    "→ Profundidade por domínio (6 páginas)\n",
    "→ Número de threads utilizado\n",
    "3) Utilizar as sementes de acordo com os integrantes do grupo, usando tabela de\n",
    "sementes que está apresentado no Moodle em documento separado\n",
    "4) Produzir um relatório em jupyter a ser definido na próxima seção\n",
    "5) Armazenar a lista de URLs coletadas\n",
    "\n",
    "\n",
    "\n",
    "Bibliotecas utilizadas\n",
    "Vocês poderão usar bibliotecas para os seguintes propósitos (segue também algumas\n",
    "sugestões de APIs)\n",
    "→ Extração dos links de páginas HTML mal-formadas:\n",
    "→ Parser do protocolo de exclusão de robôs\n",
    "Critério de avaliação\n",
    "Para a entrega final, o trabalho será avaliado considerando:\n",
    "1) Legibilidade, comentários e organização do código\n",
    "2) Funcionamento do coletor\n",
    "3) Uso do protocolo de exclusão de robôs4) Página de informação do coletor\n",
    "5) Lista das páginas coletadas\n",
    "6) Conteúdo do relatório com todos os itens requisitados\n",
    "Caso não seja feito (ou feito incorretamente) o item (3) e/ou (4) o grupo perderá 5 pontos. O conteúdo do\n",
    "relatório é tão importante quanto o funcionamento do coletor.\n",
    "Plágio não será tolerado e, caso identificado, o grupo (quem forneceu e quem utilizou) terá seu\n",
    "trabalho zerado."
   ]
  }
 ],
 "metadata": {
  "kernelspec": {
   "display_name": "Python 3",
   "language": "python",
   "name": "python3"
  },
  "language_info": {
   "codemirror_mode": {
    "name": "ipython",
    "version": 3
   },
   "file_extension": ".py",
   "mimetype": "text/x-python",
   "name": "python",
   "nbconvert_exporter": "python",
   "pygments_lexer": "ipython3",
   "version": "3.7.7"
  }
 },
 "nbformat": 4,
 "nbformat_minor": 4
}
