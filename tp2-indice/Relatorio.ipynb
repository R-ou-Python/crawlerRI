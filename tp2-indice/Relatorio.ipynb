{
 "cells": [
  {
   "cell_type": "markdown",
   "metadata": {},
   "source": [
    "<h1><b>Recuperação da Informação</b></h1>\n",
    "<h3><b>Recuperação de Informação na Web 2020</b></h3>\n",
    "<h3><b>Máquina de Busca para a Wikipédia</b></h3>\n",
    "\n",
    "<br>\n",
    "<br>\n",
    "Alunos:\n",
    "<ul>Antônio Sousa</ul>\n",
    "<ul>Mariana Bulgarelli Alves dos Santos</ul>\n",
    "    <ul>Nathã de Oliveira Paulino</ul>\n",
    "<br>\n",
    "\n",
    "<h4><b>Indexação</b></h4>\n",
    "\n",
    "<p>Máquinas de busca de tamanho médio fazem uso de duas técnicas principais, pesquisa online e indexada. A pesquisa online é adequada para coleções voláteis, pequenas ou onde “a sobrecarga do espaço de índice não pode ser fornecida”[1]. Uma pesquisa de texto sequencial ou online varre o texto não processado em busca de ocorrências de um padrão específico [1].\n",
    "Uma estrutura de índices, por sua vez, é uma estrutura de dados que visa acelerar a pesquisa e é ideal para uma coleção grande.</p>\n",
    "\n",
    "<h4><b>O que é um índice</b></h4>\n",
    "\n",
    "<p>Índices são estruturas de dados que visam aumentar a velocidade da recuperação da informação. Os índices “são baseados em estruturas de dados árvores (tree) ou estruturas de dados hash” [2]. Um índice pode ser gerado a partir de qualquer campo de um arquivo e índices podem ser gerados a partir destes índices.\n",
    "“Para encontrar um registro ou registros [...] a partir de um campo de indexação, é necessário inicialmente acessar o índice, que aponta para um ou mais blocos do arquivo em que os registros requeridos estão localizados” [2].\n",
    "Índices baseados em arquivos ordenados (índices de nível único - primário, secundário e clustering) e estruturas de dados de árvores (índices multiníveis, árvores-B) são comuns.\n",
    "O índice armazena cada valor com uma lista de ponteiros para onde contém registros. “Os valores no índice são ordenados de forma que possamos realizar uma busca binária. O arquivo de índice é muito menor que o arquivo de dados, assim, a busca do índice por meio da busca binária é razoavelmente eficiente” [2]. Em índices multiníveis não há necessidade de realizar a busca binária. \n",
    "\n",
    "Um índice invertido (arquivo invertido) é composto por dois elementos: vocabulário (todas as palavras diferentes do texto) e  ocorrências (lista de todas as posições de texto onde a palavra aparece). As posições facilitam o acesso direto às posições de texto onde se encontram as palavras/caracteres [1]. Para reduzir o custo da operação, pode-se indexar por blocos.\n",
    "Para o projeto em questão, foi realizada a indexação por documento, ou seja, o índice contém uma lista com ponteiros para os documentos que possuem uma certa palavra-chave. Contém o vocabulário, o número de documentos associados com as palavras e uma lista de ocorrências da palavra nos documentos. Cada entrada da lista representa o número do documento que apresenta a palavra e o número de ocorrências.</p>\n",
    "\n"
   ]
  },
  {
   "cell_type": "markdown",
   "metadata": {},
   "source": [
    "<h3><b>Estrutura de índice implementada</b></h3>\n",
    "\n",
    " -- explicar aqui o código"
   ]
  },
  {
   "cell_type": "markdown",
   "metadata": {},
   "source": [
    "\n",
    "Após a criação do indice, você deverá armazena-lo em arquivo texto ou binário para posterior utilização nas consultas. Não é permitido o uso de banco de dados para a tarefa nem utilização de bibliotecas externas que indexam o documento\n",
    "\n",
    "\n",
    "\n",
    "Com o objetivo de guiar vocês na escrita do relatório, segue algumas documentações mínimas que\n",
    "devem estar nesse relatório:\n",
    "• Após a criação o índice, ele deve ser gravado em arquivo (inclusive o vocabulário). Favor\n",
    "disponibilizar o link para que eu possa fazer o download do arquivo (via dropbox, por ex).\n",
    "Além de instruções completas para que eu possa abrílo. A biblioteca json pode ajudar.\n",
    "• Discussão sobre a decisão de implementação adotada:\n",
    "\n",
    "Quais foram os principais desafios e soluções? \n",
    "Qual é a vantagem/desvantagem das suas soluções sob as outras alternativas (por exemplo, uso do índice em memória principal x ocorrência de termos em memória secundária)? \n",
    "A memória principal, é não volátil e é endereçada diretamente pelo processador. Assim apresenta baixo tempo de acesso, mas armazena um volume relativamente pequeno de informação e altos custos. A memória secundária armazena os dados permanentemente no sistema, possui um endereçamento indireto, mas o acesso é mais lento que na memória primária.\n",
    "Assim, o uso de índices em memória principal apresentam uma resposta mais rápida. https://pt.wikipedia.org/wiki/%C3%81rvore_B\n",
    "\n",
    "O que você melhoraria no seu código para diminuir o consumo de memoria ou deixá-lo mais eficiente?\n",
    "\n",
    "• \n",
    "• Qual foi a estrutura do índice utilizado? Quanto MB de ram cada solução de índice gastou?\n",
    "Em quanto tempo foi realizado a indexação? Qual foi a média por documento?"
   ]
  },
  {
   "cell_type": "markdown",
   "metadata": {},
   "source": [
    "Quais são as bibliotecas externas utilizadas? Explique o funcionamento da técnica de\n",
    "stemming adotada."
   ]
  },
  {
   "cell_type": "markdown",
   "metadata": {},
   "source": [
    "<h2>REFERÊNCIAS BIBLIOGRÁFICAS</h2>\n",
    "\n",
    "<ul>[1] Elmasri, R.; Navathe, S. B. Sistemas de Banco de Dados.  Editora : Pearson Universidades; 6ª edição, 22 dezembro 2010.</ul>\n",
    "<ul>[2]</ul>\n",
    " \n"
   ]
  }
 ],
 "metadata": {
  "kernelspec": {
   "display_name": "Python 3",
   "language": "python",
   "name": "python3"
  },
  "language_info": {
   "codemirror_mode": {
    "name": "ipython",
    "version": 3
   },
   "file_extension": ".py",
   "mimetype": "text/x-python",
   "name": "python",
   "nbconvert_exporter": "python",
   "pygments_lexer": "ipython3",
   "version": "3.8.5"
  }
 },
 "nbformat": 4,
 "nbformat_minor": 4
}
